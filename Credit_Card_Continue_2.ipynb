{
  "cells": [
    {
      "cell_type": "markdown",
      "metadata": {
        "id": "view-in-github",
        "colab_type": "text"
      },
      "source": [
        "<a href=\"https://colab.research.google.com/github/nehag312/Credit-Card-Default-Prediction/blob/main/Credit_Card_Continue_2.ipynb\" target=\"_parent\"><img src=\"https://colab.research.google.com/assets/colab-badge.svg\" alt=\"Open In Colab\"/></a>"
      ]
    },
    {
      "cell_type": "markdown",
      "metadata": {
        "id": "_JTvniZ4OJ1d"
      },
      "source": [
        "Til now, I've performed EDA on our dataset, removed the columns which I thought is of less importance or irrelevant to us, treated the missing values present in data, encoded the categorical values using appropriate method for each columns and finally dealt with the problem of multicollinearity.\n",
        "\n",
        "After all these steps, we are left with 50 columns in our dataset,which still is large. So, I'm gonna do feature selection for each of the techniques that I'm gonna use like Decision Tree, Random Forest, KNN Classifer,SVM and Neural Network. "
      ]
    },
    {
      "cell_type": "code",
      "execution_count": null,
      "metadata": {
        "id": "kwfoNKAQOD4c"
      },
      "outputs": [],
      "source": [
        "import numpy as np\n",
        "import pandas as pd"
      ]
    },
    {
      "cell_type": "code",
      "execution_count": null,
      "metadata": {
        "id": "E69Y2TXTRFZC"
      },
      "outputs": [],
      "source": [
        "#displaying all the rows and columns\n",
        "pd.set_option('display.max_columns',None)"
      ]
    },
    {
      "cell_type": "code",
      "execution_count": null,
      "metadata": {
        "colab": {
          "base_uri": "https://localhost:8080/",
          "height": 505
        },
        "id": "uFOb8vl6RHKv",
        "outputId": "373a72f6-f638-467f-da5c-c9e31cb612a3"
      },
      "outputs": [
        {
          "output_type": "execute_result",
          "data": {
            "text/plain": [
              "        TARGET  NAME_EDUCATION_TYPE  FLAG_MOBIL  REGION_RATING_CLIENT  \\\n",
              "0            1                    0           1                     2   \n",
              "1            0                    1           1                     1   \n",
              "2            0                    0           1                     2   \n",
              "3            0                    0           1                     2   \n",
              "4            0                    0           1                     2   \n",
              "...        ...                  ...         ...                   ...   \n",
              "307506       0                    0           1                     1   \n",
              "307507       0                    0           1                     2   \n",
              "307508       0                    1           1                     3   \n",
              "307509       1                    0           1                     2   \n",
              "307510       0                    1           1                     1   \n",
              "\n",
              "        REGION_RATING_CLIENT_W_CITY  REG_REGION_NOT_LIVE_REGION  \\\n",
              "0                                 2                           0   \n",
              "1                                 1                           0   \n",
              "2                                 2                           0   \n",
              "3                                 2                           0   \n",
              "4                                 2                           0   \n",
              "...                             ...                         ...   \n",
              "307506                            1                           0   \n",
              "307507                            2                           0   \n",
              "307508                            3                           0   \n",
              "307509                            2                           0   \n",
              "307510                            1                           0   \n",
              "\n",
              "        REG_REGION_NOT_WORK_REGION  LIVE_REGION_NOT_WORK_REGION  \\\n",
              "0                                0                            0   \n",
              "1                                0                            0   \n",
              "2                                0                            0   \n",
              "3                                0                            0   \n",
              "4                                0                            0   \n",
              "...                            ...                          ...   \n",
              "307506                           0                            0   \n",
              "307507                           0                            0   \n",
              "307508                           0                            0   \n",
              "307509                           0                            0   \n",
              "307510                           0                            0   \n",
              "\n",
              "        REG_CITY_NOT_LIVE_CITY  REG_CITY_NOT_WORK_CITY  \\\n",
              "0                            0                       0   \n",
              "1                            0                       0   \n",
              "2                            0                       0   \n",
              "3                            0                       0   \n",
              "4                            0                       1   \n",
              "...                        ...                     ...   \n",
              "307506                       0                       0   \n",
              "307507                       0                       0   \n",
              "307508                       0                       1   \n",
              "307509                       1                       1   \n",
              "307510                       0                       1   \n",
              "\n",
              "        LIVE_CITY_NOT_WORK_CITY  CNT_CHILDREN_None  CNT_CHILDREN_more than 2  \\\n",
              "0                             0                  1                         0   \n",
              "1                             0                  1                         0   \n",
              "2                             0                  1                         0   \n",
              "3                             0                  1                         0   \n",
              "4                             1                  1                         0   \n",
              "...                         ...                ...                       ...   \n",
              "307506                        0                  1                         0   \n",
              "307507                        0                  1                         0   \n",
              "307508                        1                  1                         0   \n",
              "307509                        0                  1                         0   \n",
              "307510                        1                  1                         0   \n",
              "\n",
              "        NAME_CONTRACT_TYPE_Revolving loans  CODE_GENDER_M  CODE_GENDER_XNA  \\\n",
              "0                                        0              1                0   \n",
              "1                                        0              0                0   \n",
              "2                                        1              1                0   \n",
              "3                                        0              0                0   \n",
              "4                                        0              1                0   \n",
              "...                                    ...            ...              ...   \n",
              "307506                                   0              1                0   \n",
              "307507                                   0              0                0   \n",
              "307508                                   0              0                0   \n",
              "307509                                   0              0                0   \n",
              "307510                                   0              0                0   \n",
              "\n",
              "        FLAG_OWN_CAR_Y  FLAG_OWN_REALTY_Y  OCCUPATION_TYPE_Average risk job  \\\n",
              "0                    0                  1                                 0   \n",
              "1                    0                  0                                 0   \n",
              "2                    1                  1                                 0   \n",
              "3                    0                  1                                 0   \n",
              "4                    0                  1                                 0   \n",
              "...                ...                ...                               ...   \n",
              "307506               0                  0                                 0   \n",
              "307507               0                  1                                 0   \n",
              "307508               0                  1                                 0   \n",
              "307509               0                  1                                 0   \n",
              "307510               0                  0                                 0   \n",
              "\n",
              "        OCCUPATION_TYPE_Core staff  OCCUPATION_TYPE_High Risk Jobs  \\\n",
              "0                                0                               1   \n",
              "1                                1                               0   \n",
              "2                                0                               1   \n",
              "3                                0                               1   \n",
              "4                                1                               0   \n",
              "...                            ...                             ...   \n",
              "307506                           0                               0   \n",
              "307507                           0                               0   \n",
              "307508                           0                               0   \n",
              "307509                           0                               1   \n",
              "307510                           0                               1   \n",
              "\n",
              "        OCCUPATION_TYPE_Laborers  OCCUPATION_TYPE_Managers  \\\n",
              "0                              0                         0   \n",
              "1                              0                         0   \n",
              "2                              0                         0   \n",
              "3                              0                         0   \n",
              "4                              0                         0   \n",
              "...                          ...                       ...   \n",
              "307506                         0                         0   \n",
              "307507                         1                         0   \n",
              "307508                         0                         1   \n",
              "307509                         0                         0   \n",
              "307510                         0                         0   \n",
              "\n",
              "        OCCUPATION_TYPE_Sales staff  WEEKDAY_APPR_PROCESS_START_WEEKENDS  \\\n",
              "0                                 0                                    0   \n",
              "1                                 0                                    0   \n",
              "2                                 0                                    0   \n",
              "3                                 0                                    0   \n",
              "4                                 0                                    0   \n",
              "...                             ...                                  ...   \n",
              "307506                            1                                    0   \n",
              "307507                            0                                    0   \n",
              "307508                            0                                    0   \n",
              "307509                            0                                    0   \n",
              "307510                            0                                    0   \n",
              "\n",
              "        ORGANIZATION_TYPE_Industries  ORGANIZATION_TYPE_Other  \\\n",
              "0                                  0                        0   \n",
              "1                                  0                        0   \n",
              "2                                  0                        0   \n",
              "3                                  0                        0   \n",
              "4                                  0                        0   \n",
              "...                              ...                      ...   \n",
              "307506                             0                        0   \n",
              "307507                             0                        0   \n",
              "307508                             0                        0   \n",
              "307509                             0                        0   \n",
              "307510                             0                        0   \n",
              "\n",
              "        ORGANIZATION_TYPE_Public  ORGANIZATION_TYPE_Trade  \\\n",
              "0                              0                        0   \n",
              "1                              1                        0   \n",
              "2                              1                        0   \n",
              "3                              0                        0   \n",
              "4                              1                        0   \n",
              "...                          ...                      ...   \n",
              "307506                         1                        0   \n",
              "307507                         0                        0   \n",
              "307508                         1                        0   \n",
              "307509                         0                        0   \n",
              "307510                         0                        0   \n",
              "\n",
              "        ORGANIZATION_TYPE_Transport  ORGANIZATION_TYPE_XNA  \\\n",
              "0                                 0                      0   \n",
              "1                                 0                      0   \n",
              "2                                 0                      0   \n",
              "3                                 0                      0   \n",
              "4                                 0                      0   \n",
              "...                             ...                    ...   \n",
              "307506                            0                      0   \n",
              "307507                            0                      1   \n",
              "307508                            0                      0   \n",
              "307509                            0                      0   \n",
              "307510                            0                      0   \n",
              "\n",
              "        NAME_TYPE_SUITE_Others  NAME_TYPE_SUITE_Unaccompanied  \\\n",
              "0                            0                              1   \n",
              "1                            0                              0   \n",
              "2                            0                              1   \n",
              "3                            0                              1   \n",
              "4                            0                              1   \n",
              "...                        ...                            ...   \n",
              "307506                       0                              1   \n",
              "307507                       0                              1   \n",
              "307508                       0                              1   \n",
              "307509                       0                              1   \n",
              "307510                       0                              1   \n",
              "\n",
              "        NAME_INCOME_TYPE_CA/ML/Unemployed  NAME_INCOME_TYPE_State servant  \\\n",
              "0                                       0                               0   \n",
              "1                                       0                               1   \n",
              "2                                       0                               0   \n",
              "3                                       0                               0   \n",
              "4                                       0                               0   \n",
              "...                                   ...                             ...   \n",
              "307506                                  0                               0   \n",
              "307507                                  0                               0   \n",
              "307508                                  0                               0   \n",
              "307509                                  1                               0   \n",
              "307510                                  1                               0   \n",
              "\n",
              "        NAME_INCOME_TYPE_Working  NAME_FAMILY_STATUS_Married  \\\n",
              "0                              1                           0   \n",
              "1                              0                           1   \n",
              "2                              1                           0   \n",
              "3                              1                           0   \n",
              "4                              1                           0   \n",
              "...                          ...                         ...   \n",
              "307506                         1                           0   \n",
              "307507                         0                           0   \n",
              "307508                         1                           0   \n",
              "307509                         0                           1   \n",
              "307510                         0                           1   \n",
              "\n",
              "        NAME_FAMILY_STATUS_Single  NAME_FAMILY_STATUS_Widow  \\\n",
              "0                               1                         0   \n",
              "1                               0                         0   \n",
              "2                               1                         0   \n",
              "3                               0                         0   \n",
              "4                               1                         0   \n",
              "...                           ...                       ...   \n",
              "307506                          1                         0   \n",
              "307507                          0                         1   \n",
              "307508                          1                         0   \n",
              "307509                          0                         0   \n",
              "307510                          0                         0   \n",
              "\n",
              "        NAME_HOUSING_TYPE_Not House / apartment  AMT_INCOME_TOTAL  AMT_CREDIT  \\\n",
              "0                                             0          0.142129   -0.478095   \n",
              "1                                             0          0.426792    1.725450   \n",
              "2                                             0         -0.427196   -1.152888   \n",
              "3                                             0         -0.142533   -0.711430   \n",
              "4                                             0         -0.199466   -0.213734   \n",
              "...                                         ...               ...         ...   \n",
              "307506                                        1         -0.047646   -0.855489   \n",
              "307507                                        0         -0.408219   -0.818594   \n",
              "307508                                        0         -0.066623    0.195379   \n",
              "307509                                        0          0.009287   -0.568757   \n",
              "307510                                        0         -0.047646    0.188760   \n",
              "\n",
              "        AMT_ANNUITY  REGION_POPULATION_RELATIVE  DAYS_BIRTH  DAYS_EMPLOYED  \\\n",
              "0         -0.166142                   -0.149452    1.506880      -0.456215   \n",
              "1          0.592676                   -1.252750   -0.166821      -0.460115   \n",
              "2         -1.404655                   -0.783451   -0.689509      -0.453299   \n",
              "3          0.177872                   -0.928991   -0.680114      -0.473217   \n",
              "4         -0.361746                    0.563570   -0.892535      -0.473210   \n",
              "...             ...                         ...         ...            ...   \n",
              "307506     0.031014                    0.845396    1.537586      -0.453377   \n",
              "307507    -1.042322                    0.310593   -1.085707       2.133617   \n",
              "307508     0.198053                   -1.147120    0.245417      -0.507774   \n",
              "307509    -0.476314                   -1.124635    0.934008      -0.485583   \n",
              "307510     1.518533                    1.832942   -0.187674      -0.460639   \n",
              "\n",
              "        DAYS_REGISTRATION  DAYS_ID_PUBLISH  CNT_FAM_MEMBERS  \\\n",
              "0                0.379837         0.579154        -1.265722   \n",
              "1                1.078697         1.790855        -0.167639   \n",
              "2                0.206116         0.306869        -1.265722   \n",
              "3               -1.375829         0.369143        -0.167639   \n",
              "4                0.191639        -0.307263        -1.265722   \n",
              "...                   ...              ...              ...   \n",
              "307506          -0.984955         0.670578        -1.265722   \n",
              "307507           0.169782        -0.725959        -1.265722   \n",
              "307508          -0.497002        -1.428203        -1.265722   \n",
              "307509           0.688107         1.366859        -0.167639   \n",
              "307510          -0.040274         1.712018        -0.167639   \n",
              "\n",
              "        HOUR_APPR_PROCESS_START  EXT_SOURCE_2  EXT_SOURCE_3  \\\n",
              "0                     -0.631821     -1.316987     -2.059587   \n",
              "1                     -0.325620      0.565079      0.653873   \n",
              "2                     -0.938022      0.217611      1.214537   \n",
              "3                      1.511587      0.712775      1.259080   \n",
              "4                     -0.325620     -1.003797      0.041372   \n",
              "...                         ...           ...           ...   \n",
              "307506                 0.899185      0.876157      0.006151   \n",
              "307507                -1.244224     -2.086773      0.279623   \n",
              "307508                -0.938022      0.111850     -1.618648   \n",
              "307509                -0.938022     -0.001079      0.834289   \n",
              "307510                 2.430190      1.017256     -2.200791   \n",
              "\n",
              "        OBS_30_CNT_SOCIAL_CIRCLE  DEF_30_CNT_SOCIAL_CIRCLE  \\\n",
              "0                       0.241251                  4.162039   \n",
              "1                      -0.175814                 -0.321336   \n",
              "2                      -0.592878                 -0.321336   \n",
              "3                       0.241251                 -0.321336   \n",
              "4                      -0.592878                 -0.321336   \n",
              "...                          ...                       ...   \n",
              "307506                 -0.592878                 -0.321336   \n",
              "307507                 -0.592878                 -0.321336   \n",
              "307508                  1.909510                 -0.321336   \n",
              "307509                 -0.592878                 -0.321336   \n",
              "307510                 -0.592878                 -0.321336   \n",
              "\n",
              "        DEF_60_CNT_SOCIAL_CIRCLE  DAYS_LAST_PHONE_CHANGE  \\\n",
              "0                       5.251711               -0.206990   \n",
              "1                      -0.276354                0.163109   \n",
              "2                      -0.276354                0.178832   \n",
              "3                      -0.276354                0.418308   \n",
              "4                      -0.276354               -0.173125   \n",
              "...                          ...                     ...   \n",
              "307506                 -0.276354                0.834367   \n",
              "307507                 -0.276354                1.164553   \n",
              "307508                 -0.276354               -1.144332   \n",
              "307509                 -0.276354                0.775103   \n",
              "307510                 -0.276354                0.212698   \n",
              "\n",
              "        AMT_REQ_CREDIT_BUREAU_MON  AMT_REQ_CREDIT_BUREAU_YEAR  \n",
              "0                       -0.305022                   -0.505582  \n",
              "1                       -0.305022                   -1.070754  \n",
              "2                       -0.305022                   -1.070754  \n",
              "3                       -0.305022                   -0.053445  \n",
              "4                       -0.305022                   -1.070754  \n",
              "...                           ...                         ...  \n",
              "307506                  -0.073422                   -0.392548  \n",
              "307507                  -0.305022                   -0.053445  \n",
              "307508                   0.852975                   -0.505582  \n",
              "307509                  -0.305022                   -1.070754  \n",
              "307510                   2.010972                   -0.505582  \n",
              "\n",
              "[307511 rows x 58 columns]"
            ],
            "text/html": [
              "\n",
              "  <div id=\"df-0c432050-cdde-4b60-9a41-5ce40422dcf7\">\n",
              "    <div class=\"colab-df-container\">\n",
              "      <div>\n",
              "<style scoped>\n",
              "    .dataframe tbody tr th:only-of-type {\n",
              "        vertical-align: middle;\n",
              "    }\n",
              "\n",
              "    .dataframe tbody tr th {\n",
              "        vertical-align: top;\n",
              "    }\n",
              "\n",
              "    .dataframe thead th {\n",
              "        text-align: right;\n",
              "    }\n",
              "</style>\n",
              "<table border=\"1\" class=\"dataframe\">\n",
              "  <thead>\n",
              "    <tr style=\"text-align: right;\">\n",
              "      <th></th>\n",
              "      <th>TARGET</th>\n",
              "      <th>NAME_EDUCATION_TYPE</th>\n",
              "      <th>FLAG_MOBIL</th>\n",
              "      <th>REGION_RATING_CLIENT</th>\n",
              "      <th>REGION_RATING_CLIENT_W_CITY</th>\n",
              "      <th>REG_REGION_NOT_LIVE_REGION</th>\n",
              "      <th>REG_REGION_NOT_WORK_REGION</th>\n",
              "      <th>LIVE_REGION_NOT_WORK_REGION</th>\n",
              "      <th>REG_CITY_NOT_LIVE_CITY</th>\n",
              "      <th>REG_CITY_NOT_WORK_CITY</th>\n",
              "      <th>LIVE_CITY_NOT_WORK_CITY</th>\n",
              "      <th>CNT_CHILDREN_None</th>\n",
              "      <th>CNT_CHILDREN_more than 2</th>\n",
              "      <th>NAME_CONTRACT_TYPE_Revolving loans</th>\n",
              "      <th>CODE_GENDER_M</th>\n",
              "      <th>CODE_GENDER_XNA</th>\n",
              "      <th>FLAG_OWN_CAR_Y</th>\n",
              "      <th>FLAG_OWN_REALTY_Y</th>\n",
              "      <th>OCCUPATION_TYPE_Average risk job</th>\n",
              "      <th>OCCUPATION_TYPE_Core staff</th>\n",
              "      <th>OCCUPATION_TYPE_High Risk Jobs</th>\n",
              "      <th>OCCUPATION_TYPE_Laborers</th>\n",
              "      <th>OCCUPATION_TYPE_Managers</th>\n",
              "      <th>OCCUPATION_TYPE_Sales staff</th>\n",
              "      <th>WEEKDAY_APPR_PROCESS_START_WEEKENDS</th>\n",
              "      <th>ORGANIZATION_TYPE_Industries</th>\n",
              "      <th>ORGANIZATION_TYPE_Other</th>\n",
              "      <th>ORGANIZATION_TYPE_Public</th>\n",
              "      <th>ORGANIZATION_TYPE_Trade</th>\n",
              "      <th>ORGANIZATION_TYPE_Transport</th>\n",
              "      <th>ORGANIZATION_TYPE_XNA</th>\n",
              "      <th>NAME_TYPE_SUITE_Others</th>\n",
              "      <th>NAME_TYPE_SUITE_Unaccompanied</th>\n",
              "      <th>NAME_INCOME_TYPE_CA/ML/Unemployed</th>\n",
              "      <th>NAME_INCOME_TYPE_State servant</th>\n",
              "      <th>NAME_INCOME_TYPE_Working</th>\n",
              "      <th>NAME_FAMILY_STATUS_Married</th>\n",
              "      <th>NAME_FAMILY_STATUS_Single</th>\n",
              "      <th>NAME_FAMILY_STATUS_Widow</th>\n",
              "      <th>NAME_HOUSING_TYPE_Not House / apartment</th>\n",
              "      <th>AMT_INCOME_TOTAL</th>\n",
              "      <th>AMT_CREDIT</th>\n",
              "      <th>AMT_ANNUITY</th>\n",
              "      <th>REGION_POPULATION_RELATIVE</th>\n",
              "      <th>DAYS_BIRTH</th>\n",
              "      <th>DAYS_EMPLOYED</th>\n",
              "      <th>DAYS_REGISTRATION</th>\n",
              "      <th>DAYS_ID_PUBLISH</th>\n",
              "      <th>CNT_FAM_MEMBERS</th>\n",
              "      <th>HOUR_APPR_PROCESS_START</th>\n",
              "      <th>EXT_SOURCE_2</th>\n",
              "      <th>EXT_SOURCE_3</th>\n",
              "      <th>OBS_30_CNT_SOCIAL_CIRCLE</th>\n",
              "      <th>DEF_30_CNT_SOCIAL_CIRCLE</th>\n",
              "      <th>DEF_60_CNT_SOCIAL_CIRCLE</th>\n",
              "      <th>DAYS_LAST_PHONE_CHANGE</th>\n",
              "      <th>AMT_REQ_CREDIT_BUREAU_MON</th>\n",
              "      <th>AMT_REQ_CREDIT_BUREAU_YEAR</th>\n",
              "    </tr>\n",
              "  </thead>\n",
              "  <tbody>\n",
              "    <tr>\n",
              "      <th>0</th>\n",
              "      <td>1</td>\n",
              "      <td>0</td>\n",
              "      <td>1</td>\n",
              "      <td>2</td>\n",
              "      <td>2</td>\n",
              "      <td>0</td>\n",
              "      <td>0</td>\n",
              "      <td>0</td>\n",
              "      <td>0</td>\n",
              "      <td>0</td>\n",
              "      <td>0</td>\n",
              "      <td>1</td>\n",
              "      <td>0</td>\n",
              "      <td>0</td>\n",
              "      <td>1</td>\n",
              "      <td>0</td>\n",
              "      <td>0</td>\n",
              "      <td>1</td>\n",
              "      <td>0</td>\n",
              "      <td>0</td>\n",
              "      <td>1</td>\n",
              "      <td>0</td>\n",
              "      <td>0</td>\n",
              "      <td>0</td>\n",
              "      <td>0</td>\n",
              "      <td>0</td>\n",
              "      <td>0</td>\n",
              "      <td>0</td>\n",
              "      <td>0</td>\n",
              "      <td>0</td>\n",
              "      <td>0</td>\n",
              "      <td>0</td>\n",
              "      <td>1</td>\n",
              "      <td>0</td>\n",
              "      <td>0</td>\n",
              "      <td>1</td>\n",
              "      <td>0</td>\n",
              "      <td>1</td>\n",
              "      <td>0</td>\n",
              "      <td>0</td>\n",
              "      <td>0.142129</td>\n",
              "      <td>-0.478095</td>\n",
              "      <td>-0.166142</td>\n",
              "      <td>-0.149452</td>\n",
              "      <td>1.506880</td>\n",
              "      <td>-0.456215</td>\n",
              "      <td>0.379837</td>\n",
              "      <td>0.579154</td>\n",
              "      <td>-1.265722</td>\n",
              "      <td>-0.631821</td>\n",
              "      <td>-1.316987</td>\n",
              "      <td>-2.059587</td>\n",
              "      <td>0.241251</td>\n",
              "      <td>4.162039</td>\n",
              "      <td>5.251711</td>\n",
              "      <td>-0.206990</td>\n",
              "      <td>-0.305022</td>\n",
              "      <td>-0.505582</td>\n",
              "    </tr>\n",
              "    <tr>\n",
              "      <th>1</th>\n",
              "      <td>0</td>\n",
              "      <td>1</td>\n",
              "      <td>1</td>\n",
              "      <td>1</td>\n",
              "      <td>1</td>\n",
              "      <td>0</td>\n",
              "      <td>0</td>\n",
              "      <td>0</td>\n",
              "      <td>0</td>\n",
              "      <td>0</td>\n",
              "      <td>0</td>\n",
              "      <td>1</td>\n",
              "      <td>0</td>\n",
              "      <td>0</td>\n",
              "      <td>0</td>\n",
              "      <td>0</td>\n",
              "      <td>0</td>\n",
              "      <td>0</td>\n",
              "      <td>0</td>\n",
              "      <td>1</td>\n",
              "      <td>0</td>\n",
              "      <td>0</td>\n",
              "      <td>0</td>\n",
              "      <td>0</td>\n",
              "      <td>0</td>\n",
              "      <td>0</td>\n",
              "      <td>0</td>\n",
              "      <td>1</td>\n",
              "      <td>0</td>\n",
              "      <td>0</td>\n",
              "      <td>0</td>\n",
              "      <td>0</td>\n",
              "      <td>0</td>\n",
              "      <td>0</td>\n",
              "      <td>1</td>\n",
              "      <td>0</td>\n",
              "      <td>1</td>\n",
              "      <td>0</td>\n",
              "      <td>0</td>\n",
              "      <td>0</td>\n",
              "      <td>0.426792</td>\n",
              "      <td>1.725450</td>\n",
              "      <td>0.592676</td>\n",
              "      <td>-1.252750</td>\n",
              "      <td>-0.166821</td>\n",
              "      <td>-0.460115</td>\n",
              "      <td>1.078697</td>\n",
              "      <td>1.790855</td>\n",
              "      <td>-0.167639</td>\n",
              "      <td>-0.325620</td>\n",
              "      <td>0.565079</td>\n",
              "      <td>0.653873</td>\n",
              "      <td>-0.175814</td>\n",
              "      <td>-0.321336</td>\n",
              "      <td>-0.276354</td>\n",
              "      <td>0.163109</td>\n",
              "      <td>-0.305022</td>\n",
              "      <td>-1.070754</td>\n",
              "    </tr>\n",
              "    <tr>\n",
              "      <th>2</th>\n",
              "      <td>0</td>\n",
              "      <td>0</td>\n",
              "      <td>1</td>\n",
              "      <td>2</td>\n",
              "      <td>2</td>\n",
              "      <td>0</td>\n",
              "      <td>0</td>\n",
              "      <td>0</td>\n",
              "      <td>0</td>\n",
              "      <td>0</td>\n",
              "      <td>0</td>\n",
              "      <td>1</td>\n",
              "      <td>0</td>\n",
              "      <td>1</td>\n",
              "      <td>1</td>\n",
              "      <td>0</td>\n",
              "      <td>1</td>\n",
              "      <td>1</td>\n",
              "      <td>0</td>\n",
              "      <td>0</td>\n",
              "      <td>1</td>\n",
              "      <td>0</td>\n",
              "      <td>0</td>\n",
              "      <td>0</td>\n",
              "      <td>0</td>\n",
              "      <td>0</td>\n",
              "      <td>0</td>\n",
              "      <td>1</td>\n",
              "      <td>0</td>\n",
              "      <td>0</td>\n",
              "      <td>0</td>\n",
              "      <td>0</td>\n",
              "      <td>1</td>\n",
              "      <td>0</td>\n",
              "      <td>0</td>\n",
              "      <td>1</td>\n",
              "      <td>0</td>\n",
              "      <td>1</td>\n",
              "      <td>0</td>\n",
              "      <td>0</td>\n",
              "      <td>-0.427196</td>\n",
              "      <td>-1.152888</td>\n",
              "      <td>-1.404655</td>\n",
              "      <td>-0.783451</td>\n",
              "      <td>-0.689509</td>\n",
              "      <td>-0.453299</td>\n",
              "      <td>0.206116</td>\n",
              "      <td>0.306869</td>\n",
              "      <td>-1.265722</td>\n",
              "      <td>-0.938022</td>\n",
              "      <td>0.217611</td>\n",
              "      <td>1.214537</td>\n",
              "      <td>-0.592878</td>\n",
              "      <td>-0.321336</td>\n",
              "      <td>-0.276354</td>\n",
              "      <td>0.178832</td>\n",
              "      <td>-0.305022</td>\n",
              "      <td>-1.070754</td>\n",
              "    </tr>\n",
              "    <tr>\n",
              "      <th>3</th>\n",
              "      <td>0</td>\n",
              "      <td>0</td>\n",
              "      <td>1</td>\n",
              "      <td>2</td>\n",
              "      <td>2</td>\n",
              "      <td>0</td>\n",
              "      <td>0</td>\n",
              "      <td>0</td>\n",
              "      <td>0</td>\n",
              "      <td>0</td>\n",
              "      <td>0</td>\n",
              "      <td>1</td>\n",
              "      <td>0</td>\n",
              "      <td>0</td>\n",
              "      <td>0</td>\n",
              "      <td>0</td>\n",
              "      <td>0</td>\n",
              "      <td>1</td>\n",
              "      <td>0</td>\n",
              "      <td>0</td>\n",
              "      <td>1</td>\n",
              "      <td>0</td>\n",
              "      <td>0</td>\n",
              "      <td>0</td>\n",
              "      <td>0</td>\n",
              "      <td>0</td>\n",
              "      <td>0</td>\n",
              "      <td>0</td>\n",
              "      <td>0</td>\n",
              "      <td>0</td>\n",
              "      <td>0</td>\n",
              "      <td>0</td>\n",
              "      <td>1</td>\n",
              "      <td>0</td>\n",
              "      <td>0</td>\n",
              "      <td>1</td>\n",
              "      <td>0</td>\n",
              "      <td>0</td>\n",
              "      <td>0</td>\n",
              "      <td>0</td>\n",
              "      <td>-0.142533</td>\n",
              "      <td>-0.711430</td>\n",
              "      <td>0.177872</td>\n",
              "      <td>-0.928991</td>\n",
              "      <td>-0.680114</td>\n",
              "      <td>-0.473217</td>\n",
              "      <td>-1.375829</td>\n",
              "      <td>0.369143</td>\n",
              "      <td>-0.167639</td>\n",
              "      <td>1.511587</td>\n",
              "      <td>0.712775</td>\n",
              "      <td>1.259080</td>\n",
              "      <td>0.241251</td>\n",
              "      <td>-0.321336</td>\n",
              "      <td>-0.276354</td>\n",
              "      <td>0.418308</td>\n",
              "      <td>-0.305022</td>\n",
              "      <td>-0.053445</td>\n",
              "    </tr>\n",
              "    <tr>\n",
              "      <th>4</th>\n",
              "      <td>0</td>\n",
              "      <td>0</td>\n",
              "      <td>1</td>\n",
              "      <td>2</td>\n",
              "      <td>2</td>\n",
              "      <td>0</td>\n",
              "      <td>0</td>\n",
              "      <td>0</td>\n",
              "      <td>0</td>\n",
              "      <td>1</td>\n",
              "      <td>1</td>\n",
              "      <td>1</td>\n",
              "      <td>0</td>\n",
              "      <td>0</td>\n",
              "      <td>1</td>\n",
              "      <td>0</td>\n",
              "      <td>0</td>\n",
              "      <td>1</td>\n",
              "      <td>0</td>\n",
              "      <td>1</td>\n",
              "      <td>0</td>\n",
              "      <td>0</td>\n",
              "      <td>0</td>\n",
              "      <td>0</td>\n",
              "      <td>0</td>\n",
              "      <td>0</td>\n",
              "      <td>0</td>\n",
              "      <td>1</td>\n",
              "      <td>0</td>\n",
              "      <td>0</td>\n",
              "      <td>0</td>\n",
              "      <td>0</td>\n",
              "      <td>1</td>\n",
              "      <td>0</td>\n",
              "      <td>0</td>\n",
              "      <td>1</td>\n",
              "      <td>0</td>\n",
              "      <td>1</td>\n",
              "      <td>0</td>\n",
              "      <td>0</td>\n",
              "      <td>-0.199466</td>\n",
              "      <td>-0.213734</td>\n",
              "      <td>-0.361746</td>\n",
              "      <td>0.563570</td>\n",
              "      <td>-0.892535</td>\n",
              "      <td>-0.473210</td>\n",
              "      <td>0.191639</td>\n",
              "      <td>-0.307263</td>\n",
              "      <td>-1.265722</td>\n",
              "      <td>-0.325620</td>\n",
              "      <td>-1.003797</td>\n",
              "      <td>0.041372</td>\n",
              "      <td>-0.592878</td>\n",
              "      <td>-0.321336</td>\n",
              "      <td>-0.276354</td>\n",
              "      <td>-0.173125</td>\n",
              "      <td>-0.305022</td>\n",
              "      <td>-1.070754</td>\n",
              "    </tr>\n",
              "    <tr>\n",
              "      <th>...</th>\n",
              "      <td>...</td>\n",
              "      <td>...</td>\n",
              "      <td>...</td>\n",
              "      <td>...</td>\n",
              "      <td>...</td>\n",
              "      <td>...</td>\n",
              "      <td>...</td>\n",
              "      <td>...</td>\n",
              "      <td>...</td>\n",
              "      <td>...</td>\n",
              "      <td>...</td>\n",
              "      <td>...</td>\n",
              "      <td>...</td>\n",
              "      <td>...</td>\n",
              "      <td>...</td>\n",
              "      <td>...</td>\n",
              "      <td>...</td>\n",
              "      <td>...</td>\n",
              "      <td>...</td>\n",
              "      <td>...</td>\n",
              "      <td>...</td>\n",
              "      <td>...</td>\n",
              "      <td>...</td>\n",
              "      <td>...</td>\n",
              "      <td>...</td>\n",
              "      <td>...</td>\n",
              "      <td>...</td>\n",
              "      <td>...</td>\n",
              "      <td>...</td>\n",
              "      <td>...</td>\n",
              "      <td>...</td>\n",
              "      <td>...</td>\n",
              "      <td>...</td>\n",
              "      <td>...</td>\n",
              "      <td>...</td>\n",
              "      <td>...</td>\n",
              "      <td>...</td>\n",
              "      <td>...</td>\n",
              "      <td>...</td>\n",
              "      <td>...</td>\n",
              "      <td>...</td>\n",
              "      <td>...</td>\n",
              "      <td>...</td>\n",
              "      <td>...</td>\n",
              "      <td>...</td>\n",
              "      <td>...</td>\n",
              "      <td>...</td>\n",
              "      <td>...</td>\n",
              "      <td>...</td>\n",
              "      <td>...</td>\n",
              "      <td>...</td>\n",
              "      <td>...</td>\n",
              "      <td>...</td>\n",
              "      <td>...</td>\n",
              "      <td>...</td>\n",
              "      <td>...</td>\n",
              "      <td>...</td>\n",
              "      <td>...</td>\n",
              "    </tr>\n",
              "    <tr>\n",
              "      <th>307506</th>\n",
              "      <td>0</td>\n",
              "      <td>0</td>\n",
              "      <td>1</td>\n",
              "      <td>1</td>\n",
              "      <td>1</td>\n",
              "      <td>0</td>\n",
              "      <td>0</td>\n",
              "      <td>0</td>\n",
              "      <td>0</td>\n",
              "      <td>0</td>\n",
              "      <td>0</td>\n",
              "      <td>1</td>\n",
              "      <td>0</td>\n",
              "      <td>0</td>\n",
              "      <td>1</td>\n",
              "      <td>0</td>\n",
              "      <td>0</td>\n",
              "      <td>0</td>\n",
              "      <td>0</td>\n",
              "      <td>0</td>\n",
              "      <td>0</td>\n",
              "      <td>0</td>\n",
              "      <td>0</td>\n",
              "      <td>1</td>\n",
              "      <td>0</td>\n",
              "      <td>0</td>\n",
              "      <td>0</td>\n",
              "      <td>1</td>\n",
              "      <td>0</td>\n",
              "      <td>0</td>\n",
              "      <td>0</td>\n",
              "      <td>0</td>\n",
              "      <td>1</td>\n",
              "      <td>0</td>\n",
              "      <td>0</td>\n",
              "      <td>1</td>\n",
              "      <td>0</td>\n",
              "      <td>1</td>\n",
              "      <td>0</td>\n",
              "      <td>1</td>\n",
              "      <td>-0.047646</td>\n",
              "      <td>-0.855489</td>\n",
              "      <td>0.031014</td>\n",
              "      <td>0.845396</td>\n",
              "      <td>1.537586</td>\n",
              "      <td>-0.453377</td>\n",
              "      <td>-0.984955</td>\n",
              "      <td>0.670578</td>\n",
              "      <td>-1.265722</td>\n",
              "      <td>0.899185</td>\n",
              "      <td>0.876157</td>\n",
              "      <td>0.006151</td>\n",
              "      <td>-0.592878</td>\n",
              "      <td>-0.321336</td>\n",
              "      <td>-0.276354</td>\n",
              "      <td>0.834367</td>\n",
              "      <td>-0.073422</td>\n",
              "      <td>-0.392548</td>\n",
              "    </tr>\n",
              "    <tr>\n",
              "      <th>307507</th>\n",
              "      <td>0</td>\n",
              "      <td>0</td>\n",
              "      <td>1</td>\n",
              "      <td>2</td>\n",
              "      <td>2</td>\n",
              "      <td>0</td>\n",
              "      <td>0</td>\n",
              "      <td>0</td>\n",
              "      <td>0</td>\n",
              "      <td>0</td>\n",
              "      <td>0</td>\n",
              "      <td>1</td>\n",
              "      <td>0</td>\n",
              "      <td>0</td>\n",
              "      <td>0</td>\n",
              "      <td>0</td>\n",
              "      <td>0</td>\n",
              "      <td>1</td>\n",
              "      <td>0</td>\n",
              "      <td>0</td>\n",
              "      <td>0</td>\n",
              "      <td>1</td>\n",
              "      <td>0</td>\n",
              "      <td>0</td>\n",
              "      <td>0</td>\n",
              "      <td>0</td>\n",
              "      <td>0</td>\n",
              "      <td>0</td>\n",
              "      <td>0</td>\n",
              "      <td>0</td>\n",
              "      <td>1</td>\n",
              "      <td>0</td>\n",
              "      <td>1</td>\n",
              "      <td>0</td>\n",
              "      <td>0</td>\n",
              "      <td>0</td>\n",
              "      <td>0</td>\n",
              "      <td>0</td>\n",
              "      <td>1</td>\n",
              "      <td>0</td>\n",
              "      <td>-0.408219</td>\n",
              "      <td>-0.818594</td>\n",
              "      <td>-1.042322</td>\n",
              "      <td>0.310593</td>\n",
              "      <td>-1.085707</td>\n",
              "      <td>2.133617</td>\n",
              "      <td>0.169782</td>\n",
              "      <td>-0.725959</td>\n",
              "      <td>-1.265722</td>\n",
              "      <td>-1.244224</td>\n",
              "      <td>-2.086773</td>\n",
              "      <td>0.279623</td>\n",
              "      <td>-0.592878</td>\n",
              "      <td>-0.321336</td>\n",
              "      <td>-0.276354</td>\n",
              "      <td>1.164553</td>\n",
              "      <td>-0.305022</td>\n",
              "      <td>-0.053445</td>\n",
              "    </tr>\n",
              "    <tr>\n",
              "      <th>307508</th>\n",
              "      <td>0</td>\n",
              "      <td>1</td>\n",
              "      <td>1</td>\n",
              "      <td>3</td>\n",
              "      <td>3</td>\n",
              "      <td>0</td>\n",
              "      <td>0</td>\n",
              "      <td>0</td>\n",
              "      <td>0</td>\n",
              "      <td>1</td>\n",
              "      <td>1</td>\n",
              "      <td>1</td>\n",
              "      <td>0</td>\n",
              "      <td>0</td>\n",
              "      <td>0</td>\n",
              "      <td>0</td>\n",
              "      <td>0</td>\n",
              "      <td>1</td>\n",
              "      <td>0</td>\n",
              "      <td>0</td>\n",
              "      <td>0</td>\n",
              "      <td>0</td>\n",
              "      <td>1</td>\n",
              "      <td>0</td>\n",
              "      <td>0</td>\n",
              "      <td>0</td>\n",
              "      <td>0</td>\n",
              "      <td>1</td>\n",
              "      <td>0</td>\n",
              "      <td>0</td>\n",
              "      <td>0</td>\n",
              "      <td>0</td>\n",
              "      <td>1</td>\n",
              "      <td>0</td>\n",
              "      <td>0</td>\n",
              "      <td>1</td>\n",
              "      <td>0</td>\n",
              "      <td>1</td>\n",
              "      <td>0</td>\n",
              "      <td>0</td>\n",
              "      <td>-0.066623</td>\n",
              "      <td>0.195379</td>\n",
              "      <td>0.198053</td>\n",
              "      <td>-1.147120</td>\n",
              "      <td>0.245417</td>\n",
              "      <td>-0.507774</td>\n",
              "      <td>-0.497002</td>\n",
              "      <td>-1.428203</td>\n",
              "      <td>-1.265722</td>\n",
              "      <td>-0.938022</td>\n",
              "      <td>0.111850</td>\n",
              "      <td>-1.618648</td>\n",
              "      <td>1.909510</td>\n",
              "      <td>-0.321336</td>\n",
              "      <td>-0.276354</td>\n",
              "      <td>-1.144332</td>\n",
              "      <td>0.852975</td>\n",
              "      <td>-0.505582</td>\n",
              "    </tr>\n",
              "    <tr>\n",
              "      <th>307509</th>\n",
              "      <td>1</td>\n",
              "      <td>0</td>\n",
              "      <td>1</td>\n",
              "      <td>2</td>\n",
              "      <td>2</td>\n",
              "      <td>0</td>\n",
              "      <td>0</td>\n",
              "      <td>0</td>\n",
              "      <td>1</td>\n",
              "      <td>1</td>\n",
              "      <td>0</td>\n",
              "      <td>1</td>\n",
              "      <td>0</td>\n",
              "      <td>0</td>\n",
              "      <td>0</td>\n",
              "      <td>0</td>\n",
              "      <td>0</td>\n",
              "      <td>1</td>\n",
              "      <td>0</td>\n",
              "      <td>0</td>\n",
              "      <td>1</td>\n",
              "      <td>0</td>\n",
              "      <td>0</td>\n",
              "      <td>0</td>\n",
              "      <td>0</td>\n",
              "      <td>0</td>\n",
              "      <td>0</td>\n",
              "      <td>0</td>\n",
              "      <td>0</td>\n",
              "      <td>0</td>\n",
              "      <td>0</td>\n",
              "      <td>0</td>\n",
              "      <td>1</td>\n",
              "      <td>1</td>\n",
              "      <td>0</td>\n",
              "      <td>0</td>\n",
              "      <td>1</td>\n",
              "      <td>0</td>\n",
              "      <td>0</td>\n",
              "      <td>0</td>\n",
              "      <td>0.009287</td>\n",
              "      <td>-0.568757</td>\n",
              "      <td>-0.476314</td>\n",
              "      <td>-1.124635</td>\n",
              "      <td>0.934008</td>\n",
              "      <td>-0.485583</td>\n",
              "      <td>0.688107</td>\n",
              "      <td>1.366859</td>\n",
              "      <td>-0.167639</td>\n",
              "      <td>-0.938022</td>\n",
              "      <td>-0.001079</td>\n",
              "      <td>0.834289</td>\n",
              "      <td>-0.592878</td>\n",
              "      <td>-0.321336</td>\n",
              "      <td>-0.276354</td>\n",
              "      <td>0.775103</td>\n",
              "      <td>-0.305022</td>\n",
              "      <td>-1.070754</td>\n",
              "    </tr>\n",
              "    <tr>\n",
              "      <th>307510</th>\n",
              "      <td>0</td>\n",
              "      <td>1</td>\n",
              "      <td>1</td>\n",
              "      <td>1</td>\n",
              "      <td>1</td>\n",
              "      <td>0</td>\n",
              "      <td>0</td>\n",
              "      <td>0</td>\n",
              "      <td>0</td>\n",
              "      <td>1</td>\n",
              "      <td>1</td>\n",
              "      <td>1</td>\n",
              "      <td>0</td>\n",
              "      <td>0</td>\n",
              "      <td>0</td>\n",
              "      <td>0</td>\n",
              "      <td>0</td>\n",
              "      <td>0</td>\n",
              "      <td>0</td>\n",
              "      <td>0</td>\n",
              "      <td>1</td>\n",
              "      <td>0</td>\n",
              "      <td>0</td>\n",
              "      <td>0</td>\n",
              "      <td>0</td>\n",
              "      <td>0</td>\n",
              "      <td>0</td>\n",
              "      <td>0</td>\n",
              "      <td>0</td>\n",
              "      <td>0</td>\n",
              "      <td>0</td>\n",
              "      <td>0</td>\n",
              "      <td>1</td>\n",
              "      <td>1</td>\n",
              "      <td>0</td>\n",
              "      <td>0</td>\n",
              "      <td>1</td>\n",
              "      <td>0</td>\n",
              "      <td>0</td>\n",
              "      <td>0</td>\n",
              "      <td>-0.047646</td>\n",
              "      <td>0.188760</td>\n",
              "      <td>1.518533</td>\n",
              "      <td>1.832942</td>\n",
              "      <td>-0.187674</td>\n",
              "      <td>-0.460639</td>\n",
              "      <td>-0.040274</td>\n",
              "      <td>1.712018</td>\n",
              "      <td>-0.167639</td>\n",
              "      <td>2.430190</td>\n",
              "      <td>1.017256</td>\n",
              "      <td>-2.200791</td>\n",
              "      <td>-0.592878</td>\n",
              "      <td>-0.321336</td>\n",
              "      <td>-0.276354</td>\n",
              "      <td>0.212698</td>\n",
              "      <td>2.010972</td>\n",
              "      <td>-0.505582</td>\n",
              "    </tr>\n",
              "  </tbody>\n",
              "</table>\n",
              "<p>307511 rows × 58 columns</p>\n",
              "</div>\n",
              "      <button class=\"colab-df-convert\" onclick=\"convertToInteractive('df-0c432050-cdde-4b60-9a41-5ce40422dcf7')\"\n",
              "              title=\"Convert this dataframe to an interactive table.\"\n",
              "              style=\"display:none;\">\n",
              "        \n",
              "  <svg xmlns=\"http://www.w3.org/2000/svg\" height=\"24px\"viewBox=\"0 0 24 24\"\n",
              "       width=\"24px\">\n",
              "    <path d=\"M0 0h24v24H0V0z\" fill=\"none\"/>\n",
              "    <path d=\"M18.56 5.44l.94 2.06.94-2.06 2.06-.94-2.06-.94-.94-2.06-.94 2.06-2.06.94zm-11 1L8.5 8.5l.94-2.06 2.06-.94-2.06-.94L8.5 2.5l-.94 2.06-2.06.94zm10 10l.94 2.06.94-2.06 2.06-.94-2.06-.94-.94-2.06-.94 2.06-2.06.94z\"/><path d=\"M17.41 7.96l-1.37-1.37c-.4-.4-.92-.59-1.43-.59-.52 0-1.04.2-1.43.59L10.3 9.45l-7.72 7.72c-.78.78-.78 2.05 0 2.83L4 21.41c.39.39.9.59 1.41.59.51 0 1.02-.2 1.41-.59l7.78-7.78 2.81-2.81c.8-.78.8-2.07 0-2.86zM5.41 20L4 18.59l7.72-7.72 1.47 1.35L5.41 20z\"/>\n",
              "  </svg>\n",
              "      </button>\n",
              "      \n",
              "  <style>\n",
              "    .colab-df-container {\n",
              "      display:flex;\n",
              "      flex-wrap:wrap;\n",
              "      gap: 12px;\n",
              "    }\n",
              "\n",
              "    .colab-df-convert {\n",
              "      background-color: #E8F0FE;\n",
              "      border: none;\n",
              "      border-radius: 50%;\n",
              "      cursor: pointer;\n",
              "      display: none;\n",
              "      fill: #1967D2;\n",
              "      height: 32px;\n",
              "      padding: 0 0 0 0;\n",
              "      width: 32px;\n",
              "    }\n",
              "\n",
              "    .colab-df-convert:hover {\n",
              "      background-color: #E2EBFA;\n",
              "      box-shadow: 0px 1px 2px rgba(60, 64, 67, 0.3), 0px 1px 3px 1px rgba(60, 64, 67, 0.15);\n",
              "      fill: #174EA6;\n",
              "    }\n",
              "\n",
              "    [theme=dark] .colab-df-convert {\n",
              "      background-color: #3B4455;\n",
              "      fill: #D2E3FC;\n",
              "    }\n",
              "\n",
              "    [theme=dark] .colab-df-convert:hover {\n",
              "      background-color: #434B5C;\n",
              "      box-shadow: 0px 1px 3px 1px rgba(0, 0, 0, 0.15);\n",
              "      filter: drop-shadow(0px 1px 2px rgba(0, 0, 0, 0.3));\n",
              "      fill: #FFFFFF;\n",
              "    }\n",
              "  </style>\n",
              "\n",
              "      <script>\n",
              "        const buttonEl =\n",
              "          document.querySelector('#df-0c432050-cdde-4b60-9a41-5ce40422dcf7 button.colab-df-convert');\n",
              "        buttonEl.style.display =\n",
              "          google.colab.kernel.accessAllowed ? 'block' : 'none';\n",
              "\n",
              "        async function convertToInteractive(key) {\n",
              "          const element = document.querySelector('#df-0c432050-cdde-4b60-9a41-5ce40422dcf7');\n",
              "          const dataTable =\n",
              "            await google.colab.kernel.invokeFunction('convertToInteractive',\n",
              "                                                     [key], {});\n",
              "          if (!dataTable) return;\n",
              "\n",
              "          const docLinkHtml = 'Like what you see? Visit the ' +\n",
              "            '<a target=\"_blank\" href=https://colab.research.google.com/notebooks/data_table.ipynb>data table notebook</a>'\n",
              "            + ' to learn more about interactive tables.';\n",
              "          element.innerHTML = '';\n",
              "          dataTable['output_type'] = 'display_data';\n",
              "          await google.colab.output.renderOutput(dataTable, element);\n",
              "          const docLink = document.createElement('div');\n",
              "          docLink.innerHTML = docLinkHtml;\n",
              "          element.appendChild(docLink);\n",
              "        }\n",
              "      </script>\n",
              "    </div>\n",
              "  </div>\n",
              "  "
            ]
          },
          "metadata": {},
          "execution_count": 45
        }
      ],
      "source": [
        "df=pd.read_csv(\"/content/drive/MyDrive/Aus project/credit_data_standardised.csv\",index_col=0)\n",
        "df"
      ]
    },
    {
      "cell_type": "code",
      "execution_count": null,
      "metadata": {
        "colab": {
          "base_uri": "https://localhost:8080/"
        },
        "id": "plJ22lxxRHIh",
        "outputId": "47f14606-edb8-4785-fd8e-091ba49fd6bc"
      },
      "outputs": [
        {
          "output_type": "execute_result",
          "data": {
            "text/plain": [
              "TARGET                                     0\n",
              "REGION_POPULATION_RELATIVE                 0\n",
              "NAME_TYPE_SUITE_Others                     0\n",
              "NAME_TYPE_SUITE_Unaccompanied              0\n",
              "NAME_INCOME_TYPE_CA/ML/Unemployed          0\n",
              "NAME_INCOME_TYPE_State servant             0\n",
              "NAME_INCOME_TYPE_Working                   0\n",
              "NAME_FAMILY_STATUS_Married                 0\n",
              "NAME_FAMILY_STATUS_Single                  0\n",
              "NAME_FAMILY_STATUS_Widow                   0\n",
              "NAME_HOUSING_TYPE_Not House / apartment    0\n",
              "AMT_INCOME_TOTAL                           0\n",
              "AMT_CREDIT                                 0\n",
              "AMT_ANNUITY                                0\n",
              "DAYS_BIRTH                                 0\n",
              "NAME_EDUCATION_TYPE                        0\n",
              "DAYS_EMPLOYED                              0\n",
              "DAYS_REGISTRATION                          0\n",
              "DAYS_ID_PUBLISH                            0\n",
              "CNT_FAM_MEMBERS                            0\n",
              "HOUR_APPR_PROCESS_START                    0\n",
              "EXT_SOURCE_2                               0\n",
              "EXT_SOURCE_3                               0\n",
              "OBS_30_CNT_SOCIAL_CIRCLE                   0\n",
              "DEF_30_CNT_SOCIAL_CIRCLE                   0\n",
              "DEF_60_CNT_SOCIAL_CIRCLE                   0\n",
              "DAYS_LAST_PHONE_CHANGE                     0\n",
              "AMT_REQ_CREDIT_BUREAU_MON                  0\n",
              "ORGANIZATION_TYPE_XNA                      0\n",
              "ORGANIZATION_TYPE_Transport                0\n",
              "ORGANIZATION_TYPE_Trade                    0\n",
              "ORGANIZATION_TYPE_Public                   0\n",
              "FLAG_MOBIL                                 0\n",
              "REGION_RATING_CLIENT                       0\n",
              "REGION_RATING_CLIENT_W_CITY                0\n",
              "REG_REGION_NOT_LIVE_REGION                 0\n",
              "REG_REGION_NOT_WORK_REGION                 0\n",
              "LIVE_REGION_NOT_WORK_REGION                0\n",
              "REG_CITY_NOT_LIVE_CITY                     0\n",
              "REG_CITY_NOT_WORK_CITY                     0\n",
              "LIVE_CITY_NOT_WORK_CITY                    0\n",
              "CNT_CHILDREN_None                          0\n",
              "CNT_CHILDREN_more than 2                   0\n",
              "NAME_CONTRACT_TYPE_Revolving loans         0\n",
              "CODE_GENDER_M                              0\n",
              "CODE_GENDER_XNA                            0\n",
              "FLAG_OWN_CAR_Y                             0\n",
              "FLAG_OWN_REALTY_Y                          0\n",
              "OCCUPATION_TYPE_Average risk job           0\n",
              "OCCUPATION_TYPE_Core staff                 0\n",
              "OCCUPATION_TYPE_High Risk Jobs             0\n",
              "OCCUPATION_TYPE_Laborers                   0\n",
              "OCCUPATION_TYPE_Managers                   0\n",
              "OCCUPATION_TYPE_Sales staff                0\n",
              "WEEKDAY_APPR_PROCESS_START_WEEKENDS        0\n",
              "ORGANIZATION_TYPE_Industries               0\n",
              "ORGANIZATION_TYPE_Other                    0\n",
              "AMT_REQ_CREDIT_BUREAU_YEAR                 0\n",
              "dtype: int64"
            ]
          },
          "metadata": {},
          "execution_count": 46
        }
      ],
      "source": [
        "miss = df.isnull().sum().sort_values(ascending = False)\n",
        "miss"
      ]
    },
    {
      "cell_type": "markdown",
      "metadata": {
        "id": "tFHBGJGbSZCu"
      },
      "source": [
        "# **Feature importance**"
      ]
    },
    {
      "cell_type": "code",
      "execution_count": null,
      "metadata": {
        "id": "Z_Qy24zQP_6t"
      },
      "outputs": [],
      "source": [
        "#splitting dataset into X(explanatory) and Y(target variable)\n",
        "X = df.drop([\"TARGET\"],axis=1)\n",
        "y = df['TARGET']"
      ]
    },
    {
      "cell_type": "code",
      "execution_count": null,
      "metadata": {
        "colab": {
          "base_uri": "https://localhost:8080/"
        },
        "id": "jq-A69YnRHFW",
        "outputId": "742dd425-8fbb-453f-dfe8-0d1dc6b24192"
      },
      "outputs": [
        {
          "output_type": "execute_result",
          "data": {
            "text/plain": [
              "((246008, 57), (61503, 57))"
            ]
          },
          "metadata": {},
          "execution_count": 48
        }
      ],
      "source": [
        "# split X and y into training and testing sets (SMOTE)\n",
        "from sklearn.model_selection import train_test_split\n",
        "\n",
        "X_train, X_test, y_train, y_test = train_test_split(X, y, test_size = 0.2, random_state = 0)\n",
        "X_train.shape, X_test.shape"
      ]
    },
    {
      "cell_type": "code",
      "execution_count": null,
      "metadata": {
        "id": "y5flkxXuRHDA"
      },
      "outputs": [],
      "source": [
        "from sklearn.feature_selection import mutual_info_classif"
      ]
    },
    {
      "cell_type": "code",
      "execution_count": null,
      "metadata": {
        "colab": {
          "base_uri": "https://localhost:8080/"
        },
        "id": "hvJmXA2ERHAq",
        "outputId": "7eb2a401-b96c-4edd-e108-a8c6410ed538"
      },
      "outputs": [
        {
          "output_type": "execute_result",
          "data": {
            "text/plain": [
              "array([4.95821416e-03, 5.15214949e-02, 3.04927669e-02, 3.16716918e-02,\n",
              "       9.99099008e-04, 3.78005075e-05, 1.31737492e-04, 1.65786926e-03,\n",
              "       4.11848644e-03, 2.22561607e-03, 2.65305587e-02, 1.75437828e-04,\n",
              "       1.06694527e-03, 6.87062586e-03, 6.15069803e-04, 5.69645724e-03,\n",
              "       2.45865433e-02, 6.21565545e-04, 7.02325856e-04, 6.38510160e-03,\n",
              "       5.46555423e-03, 0.00000000e+00, 5.01681000e-04, 1.52870752e-03,\n",
              "       4.56524280e-04, 1.81189614e-03, 2.33831730e-03, 2.31500886e-04,\n",
              "       0.00000000e+00, 3.39639474e-03, 6.24085602e-04, 3.47905862e-02,\n",
              "       2.73878223e-03, 3.27735933e-04, 1.33624451e-02, 2.13544799e-02,\n",
              "       2.78353306e-03, 0.00000000e+00, 8.25378210e-04, 6.37132820e-04,\n",
              "       6.49165605e-03, 1.25062381e-02, 3.36227363e-03, 3.81293223e-03,\n",
              "       8.78387240e-03, 1.76965464e-03, 1.60618204e-03, 7.78696236e-03,\n",
              "       3.33787105e-03, 1.20071379e-02, 1.28074924e-02, 1.04674690e-02,\n",
              "       1.39312159e-02, 1.57857304e-02, 3.42242366e-03, 1.02737617e-02,\n",
              "       7.86511048e-03])"
            ]
          },
          "metadata": {},
          "execution_count": 50
        }
      ],
      "source": [
        "mutual_info=mutual_info_classif(X_train,y_train)\n",
        "mutual_info"
      ]
    },
    {
      "cell_type": "code",
      "execution_count": null,
      "metadata": {
        "colab": {
          "base_uri": "https://localhost:8080/"
        },
        "id": "PBL64EiMRG9z",
        "outputId": "a16c3f1f-e5b7-4aee-b8de-3158ac7e8977"
      },
      "outputs": [
        {
          "output_type": "execute_result",
          "data": {
            "text/plain": [
              "FLAG_MOBIL                                 0.051521\n",
              "NAME_TYPE_SUITE_Unaccompanied              0.034791\n",
              "REGION_RATING_CLIENT_W_CITY                0.031672\n",
              "REGION_RATING_CLIENT                       0.030493\n",
              "CNT_CHILDREN_None                          0.026531\n",
              "FLAG_OWN_REALTY_Y                          0.024587\n",
              "NAME_FAMILY_STATUS_Married                 0.021354\n",
              "DEF_60_CNT_SOCIAL_CIRCLE                   0.015786\n",
              "DEF_30_CNT_SOCIAL_CIRCLE                   0.013931\n",
              "NAME_INCOME_TYPE_Working                   0.013362\n",
              "EXT_SOURCE_3                               0.012807\n",
              "AMT_ANNUITY                                0.012506\n",
              "EXT_SOURCE_2                               0.012007\n",
              "OBS_30_CNT_SOCIAL_CIRCLE                   0.010467\n",
              "AMT_REQ_CREDIT_BUREAU_MON                  0.010274\n",
              "DAYS_EMPLOYED                              0.008784\n",
              "AMT_REQ_CREDIT_BUREAU_YEAR                 0.007865\n",
              "CNT_FAM_MEMBERS                            0.007787\n",
              "CODE_GENDER_M                              0.006871\n",
              "AMT_CREDIT                                 0.006492\n",
              "OCCUPATION_TYPE_High Risk Jobs             0.006385\n",
              "FLAG_OWN_CAR_Y                             0.005696\n",
              "OCCUPATION_TYPE_Laborers                   0.005466\n",
              "NAME_EDUCATION_TYPE                        0.004958\n",
              "REG_CITY_NOT_WORK_CITY                     0.004118\n",
              "DAYS_BIRTH                                 0.003813\n",
              "DAYS_LAST_PHONE_CHANGE                     0.003422\n",
              "ORGANIZATION_TYPE_XNA                      0.003396\n",
              "REGION_POPULATION_RELATIVE                 0.003362\n",
              "HOUR_APPR_PROCESS_START                    0.003338\n",
              "NAME_FAMILY_STATUS_Single                  0.002784\n",
              "NAME_INCOME_TYPE_CA/ML/Unemployed          0.002739\n",
              "ORGANIZATION_TYPE_Public                   0.002338\n",
              "LIVE_CITY_NOT_WORK_CITY                    0.002226\n",
              "ORGANIZATION_TYPE_Other                    0.001812\n",
              "DAYS_REGISTRATION                          0.001770\n",
              "REG_CITY_NOT_LIVE_CITY                     0.001658\n",
              "DAYS_ID_PUBLISH                            0.001606\n",
              "WEEKDAY_APPR_PROCESS_START_WEEKENDS        0.001529\n",
              "NAME_CONTRACT_TYPE_Revolving loans         0.001067\n",
              "REG_REGION_NOT_LIVE_REGION                 0.000999\n",
              "NAME_HOUSING_TYPE_Not House / apartment    0.000825\n",
              "OCCUPATION_TYPE_Core staff                 0.000702\n",
              "AMT_INCOME_TOTAL                           0.000637\n",
              "NAME_TYPE_SUITE_Others                     0.000624\n",
              "OCCUPATION_TYPE_Average risk job           0.000622\n",
              "CODE_GENDER_XNA                            0.000615\n",
              "OCCUPATION_TYPE_Sales staff                0.000502\n",
              "ORGANIZATION_TYPE_Industries               0.000457\n",
              "NAME_INCOME_TYPE_State servant             0.000328\n",
              "ORGANIZATION_TYPE_Trade                    0.000232\n",
              "CNT_CHILDREN_more than 2                   0.000175\n",
              "LIVE_REGION_NOT_WORK_REGION                0.000132\n",
              "REG_REGION_NOT_WORK_REGION                 0.000038\n",
              "NAME_FAMILY_STATUS_Widow                   0.000000\n",
              "OCCUPATION_TYPE_Managers                   0.000000\n",
              "ORGANIZATION_TYPE_Transport                0.000000\n",
              "dtype: float64"
            ]
          },
          "metadata": {},
          "execution_count": 51
        }
      ],
      "source": [
        "mutual_info=pd.Series(mutual_info)\n",
        "mutual_info.index=X_train.columns\n",
        "mutual_info.sort_values(ascending=False)"
      ]
    },
    {
      "cell_type": "code",
      "execution_count": null,
      "metadata": {
        "colab": {
          "base_uri": "https://localhost:8080/",
          "height": 828
        },
        "id": "_2EPSMoBRG2F",
        "outputId": "13e06afe-4690-40ef-e3ff-14c630b8fa54"
      },
      "outputs": [
        {
          "output_type": "execute_result",
          "data": {
            "text/plain": [
              "<matplotlib.axes._subplots.AxesSubplot at 0x7f68d05ba950>"
            ]
          },
          "metadata": {},
          "execution_count": 52
        },
        {
          "output_type": "display_data",
          "data": {
            "text/plain": [
              "<Figure size 1440x720 with 1 Axes>"
            ],
            "image/png": "[encoded data removed]"
          },
          "metadata": {
            "needs_background": "light"
          }
        }
      ],
      "source": [
        "mutual_info.sort_values(ascending=False).plot.bar(figsize=(20,10))"
      ]
    },
    {
      "cell_type": "code",
      "execution_count": null,
      "metadata": {
        "id": "wEq_jQtvRGzl"
      },
      "outputs": [],
      "source": [
        "from sklearn.feature_selection import SelectKBest"
      ]
    },
    {
      "cell_type": "code",
      "execution_count": null,
      "metadata": {
        "colab": {
          "base_uri": "https://localhost:8080/"
        },
        "id": "tg1o9fenRGv6",
        "outputId": "95716089-3b7e-433c-f7d1-bf8a72df8f82"
      },
      "outputs": [
        {
          "output_type": "execute_result",
          "data": {
            "text/plain": [
              "Index(['FLAG_MOBIL', 'REGION_RATING_CLIENT', 'REGION_RATING_CLIENT_W_CITY',\n",
              "       'CNT_CHILDREN_None', 'FLAG_OWN_REALTY_Y',\n",
              "       'NAME_TYPE_SUITE_Unaccompanied', 'NAME_INCOME_TYPE_Working',\n",
              "       'NAME_FAMILY_STATUS_Married', 'AMT_ANNUITY', 'DAYS_EMPLOYED',\n",
              "       'EXT_SOURCE_2', 'EXT_SOURCE_3', 'OBS_30_CNT_SOCIAL_CIRCLE',\n",
              "       'DEF_30_CNT_SOCIAL_CIRCLE', 'DEF_60_CNT_SOCIAL_CIRCLE',\n",
              "       'AMT_REQ_CREDIT_BUREAU_MON'],\n",
              "      dtype='object')"
            ]
          },
          "metadata": {},
          "execution_count": 54
        }
      ],
      "source": [
        "sel_col=SelectKBest(mutual_info_classif,k=16)\n",
        "sel_col.fit(X_train,y_train)\n",
        "best_col=X_train.columns[sel_col.get_support()]\n",
        "best_col"
      ]
    },
    {
      "cell_type": "code",
      "execution_count": null,
      "metadata": {
        "colab": {
          "base_uri": "https://localhost:8080/",
          "height": 488
        },
        "id": "eMe9_8NMRGsl",
        "outputId": "6e79e649-4bf5-4531-8f50-fc6ad118018d"
      },
      "outputs": [
        {
          "output_type": "execute_result",
          "data": {
            "text/plain": [
              "        FLAG_MOBIL  REGION_RATING_CLIENT  REGION_RATING_CLIENT_W_CITY  \\\n",
              "0                1                     2                            2   \n",
              "1                1                     1                            1   \n",
              "2                1                     2                            2   \n",
              "3                1                     2                            2   \n",
              "4                1                     2                            2   \n",
              "...            ...                   ...                          ...   \n",
              "307506           1                     1                            1   \n",
              "307507           1                     2                            2   \n",
              "307508           1                     3                            3   \n",
              "307509           1                     2                            2   \n",
              "307510           1                     1                            1   \n",
              "\n",
              "        CNT_CHILDREN_None  FLAG_OWN_REALTY_Y  NAME_TYPE_SUITE_Unaccompanied  \\\n",
              "0                       1                  1                              1   \n",
              "1                       1                  0                              0   \n",
              "2                       1                  1                              1   \n",
              "3                       1                  1                              1   \n",
              "4                       1                  1                              1   \n",
              "...                   ...                ...                            ...   \n",
              "307506                  1                  0                              1   \n",
              "307507                  1                  1                              1   \n",
              "307508                  1                  1                              1   \n",
              "307509                  1                  1                              1   \n",
              "307510                  1                  0                              1   \n",
              "\n",
              "        NAME_INCOME_TYPE_Working  NAME_FAMILY_STATUS_Married  AMT_ANNUITY  \\\n",
              "0                              1                           0    -0.166142   \n",
              "1                              0                           1     0.592676   \n",
              "2                              1                           0    -1.404655   \n",
              "3                              1                           0     0.177872   \n",
              "4                              1                           0    -0.361746   \n",
              "...                          ...                         ...          ...   \n",
              "307506                         1                           0     0.031014   \n",
              "307507                         0                           0    -1.042322   \n",
              "307508                         1                           0     0.198053   \n",
              "307509                         0                           1    -0.476314   \n",
              "307510                         0                           1     1.518533   \n",
              "\n",
              "        DAYS_EMPLOYED  EXT_SOURCE_2  EXT_SOURCE_3  OBS_30_CNT_SOCIAL_CIRCLE  \\\n",
              "0           -0.456215     -1.316987     -2.059587                  0.241251   \n",
              "1           -0.460115      0.565079      0.653873                 -0.175814   \n",
              "2           -0.453299      0.217611      1.214537                 -0.592878   \n",
              "3           -0.473217      0.712775      1.259080                  0.241251   \n",
              "4           -0.473210     -1.003797      0.041372                 -0.592878   \n",
              "...               ...           ...           ...                       ...   \n",
              "307506      -0.453377      0.876157      0.006151                 -0.592878   \n",
              "307507       2.133617     -2.086773      0.279623                 -0.592878   \n",
              "307508      -0.507774      0.111850     -1.618648                  1.909510   \n",
              "307509      -0.485583     -0.001079      0.834289                 -0.592878   \n",
              "307510      -0.460639      1.017256     -2.200791                 -0.592878   \n",
              "\n",
              "        DEF_30_CNT_SOCIAL_CIRCLE  DEF_60_CNT_SOCIAL_CIRCLE  \\\n",
              "0                       4.162039                  5.251711   \n",
              "1                      -0.321336                 -0.276354   \n",
              "2                      -0.321336                 -0.276354   \n",
              "3                      -0.321336                 -0.276354   \n",
              "4                      -0.321336                 -0.276354   \n",
              "...                          ...                       ...   \n",
              "307506                 -0.321336                 -0.276354   \n",
              "307507                 -0.321336                 -0.276354   \n",
              "307508                 -0.321336                 -0.276354   \n",
              "307509                 -0.321336                 -0.276354   \n",
              "307510                 -0.321336                 -0.276354   \n",
              "\n",
              "        AMT_REQ_CREDIT_BUREAU_MON  \n",
              "0                       -0.305022  \n",
              "1                       -0.305022  \n",
              "2                       -0.305022  \n",
              "3                       -0.305022  \n",
              "4                       -0.305022  \n",
              "...                           ...  \n",
              "307506                  -0.073422  \n",
              "307507                  -0.305022  \n",
              "307508                   0.852975  \n",
              "307509                  -0.305022  \n",
              "307510                   2.010972  \n",
              "\n",
              "[307511 rows x 16 columns]"
            ],
            "text/html": [
              "\n",
              "  <div id=\"df-20cb52ae-0286-45fe-a552-668b11b37a36\">\n",
              "    <div class=\"colab-df-container\">\n",
              "      <div>\n",
              "<style scoped>\n",
              "    .dataframe tbody tr th:only-of-type {\n",
              "        vertical-align: middle;\n",
              "    }\n",
              "\n",
              "    .dataframe tbody tr th {\n",
              "        vertical-align: top;\n",
              "    }\n",
              "\n",
              "    .dataframe thead th {\n",
              "        text-align: right;\n",
              "    }\n",
              "</style>\n",
              "<table border=\"1\" class=\"dataframe\">\n",
              "  <thead>\n",
              "    <tr style=\"text-align: right;\">\n",
              "      <th></th>\n",
              "      <th>FLAG_MOBIL</th>\n",
              "      <th>REGION_RATING_CLIENT</th>\n",
              "      <th>REGION_RATING_CLIENT_W_CITY</th>\n",
              "      <th>CNT_CHILDREN_None</th>\n",
              "      <th>FLAG_OWN_REALTY_Y</th>\n",
              "      <th>NAME_TYPE_SUITE_Unaccompanied</th>\n",
              "      <th>NAME_INCOME_TYPE_Working</th>\n",
              "      <th>NAME_FAMILY_STATUS_Married</th>\n",
              "      <th>AMT_ANNUITY</th>\n",
              "      <th>DAYS_EMPLOYED</th>\n",
              "      <th>EXT_SOURCE_2</th>\n",
              "      <th>EXT_SOURCE_3</th>\n",
              "      <th>OBS_30_CNT_SOCIAL_CIRCLE</th>\n",
              "      <th>DEF_30_CNT_SOCIAL_CIRCLE</th>\n",
              "      <th>DEF_60_CNT_SOCIAL_CIRCLE</th>\n",
              "      <th>AMT_REQ_CREDIT_BUREAU_MON</th>\n",
              "    </tr>\n",
              "  </thead>\n",
              "  <tbody>\n",
              "    <tr>\n",
              "      <th>0</th>\n",
              "      <td>1</td>\n",
              "      <td>2</td>\n",
              "      <td>2</td>\n",
              "      <td>1</td>\n",
              "      <td>1</td>\n",
              "      <td>1</td>\n",
              "      <td>1</td>\n",
              "      <td>0</td>\n",
              "      <td>-0.166142</td>\n",
              "      <td>-0.456215</td>\n",
              "      <td>-1.316987</td>\n",
              "      <td>-2.059587</td>\n",
              "      <td>0.241251</td>\n",
              "      <td>4.162039</td>\n",
              "      <td>5.251711</td>\n",
              "      <td>-0.305022</td>\n",
              "    </tr>\n",
              "    <tr>\n",
              "      <th>1</th>\n",
              "      <td>1</td>\n",
              "      <td>1</td>\n",
              "      <td>1</td>\n",
              "      <td>1</td>\n",
              "      <td>0</td>\n",
              "      <td>0</td>\n",
              "      <td>0</td>\n",
              "      <td>1</td>\n",
              "      <td>0.592676</td>\n",
              "      <td>-0.460115</td>\n",
              "      <td>0.565079</td>\n",
              "      <td>0.653873</td>\n",
              "      <td>-0.175814</td>\n",
              "      <td>-0.321336</td>\n",
              "      <td>-0.276354</td>\n",
              "      <td>-0.305022</td>\n",
              "    </tr>\n",
              "    <tr>\n",
              "      <th>2</th>\n",
              "      <td>1</td>\n",
              "      <td>2</td>\n",
              "      <td>2</td>\n",
              "      <td>1</td>\n",
              "      <td>1</td>\n",
              "      <td>1</td>\n",
              "      <td>1</td>\n",
              "      <td>0</td>\n",
              "      <td>-1.404655</td>\n",
              "      <td>-0.453299</td>\n",
              "      <td>0.217611</td>\n",
              "      <td>1.214537</td>\n",
              "      <td>-0.592878</td>\n",
              "      <td>-0.321336</td>\n",
              "      <td>-0.276354</td>\n",
              "      <td>-0.305022</td>\n",
              "    </tr>\n",
              "    <tr>\n",
              "      <th>3</th>\n",
              "      <td>1</td>\n",
              "      <td>2</td>\n",
              "      <td>2</td>\n",
              "      <td>1</td>\n",
              "      <td>1</td>\n",
              "      <td>1</td>\n",
              "      <td>1</td>\n",
              "      <td>0</td>\n",
              "      <td>0.177872</td>\n",
              "      <td>-0.473217</td>\n",
              "      <td>0.712775</td>\n",
              "      <td>1.259080</td>\n",
              "      <td>0.241251</td>\n",
              "      <td>-0.321336</td>\n",
              "      <td>-0.276354</td>\n",
              "      <td>-0.305022</td>\n",
              "    </tr>\n",
              "    <tr>\n",
              "      <th>4</th>\n",
              "      <td>1</td>\n",
              "      <td>2</td>\n",
              "      <td>2</td>\n",
              "      <td>1</td>\n",
              "      <td>1</td>\n",
              "      <td>1</td>\n",
              "      <td>1</td>\n",
              "      <td>0</td>\n",
              "      <td>-0.361746</td>\n",
              "      <td>-0.473210</td>\n",
              "      <td>-1.003797</td>\n",
              "      <td>0.041372</td>\n",
              "      <td>-0.592878</td>\n",
              "      <td>-0.321336</td>\n",
              "      <td>-0.276354</td>\n",
              "      <td>-0.305022</td>\n",
              "    </tr>\n",
              "    <tr>\n",
              "      <th>...</th>\n",
              "      <td>...</td>\n",
              "      <td>...</td>\n",
              "      <td>...</td>\n",
              "      <td>...</td>\n",
              "      <td>...</td>\n",
              "      <td>...</td>\n",
              "      <td>...</td>\n",
              "      <td>...</td>\n",
              "      <td>...</td>\n",
              "      <td>...</td>\n",
              "      <td>...</td>\n",
              "      <td>...</td>\n",
              "      <td>...</td>\n",
              "      <td>...</td>\n",
              "      <td>...</td>\n",
              "      <td>...</td>\n",
              "    </tr>\n",
              "    <tr>\n",
              "      <th>307506</th>\n",
              "      <td>1</td>\n",
              "      <td>1</td>\n",
              "      <td>1</td>\n",
              "      <td>1</td>\n",
              "      <td>0</td>\n",
              "      <td>1</td>\n",
              "      <td>1</td>\n",
              "      <td>0</td>\n",
              "      <td>0.031014</td>\n",
              "      <td>-0.453377</td>\n",
              "      <td>0.876157</td>\n",
              "      <td>0.006151</td>\n",
              "      <td>-0.592878</td>\n",
              "      <td>-0.321336</td>\n",
              "      <td>-0.276354</td>\n",
              "      <td>-0.073422</td>\n",
              "    </tr>\n",
              "    <tr>\n",
              "      <th>307507</th>\n",
              "      <td>1</td>\n",
              "      <td>2</td>\n",
              "      <td>2</td>\n",
              "      <td>1</td>\n",
              "      <td>1</td>\n",
              "      <td>1</td>\n",
              "      <td>0</td>\n",
              "      <td>0</td>\n",
              "      <td>-1.042322</td>\n",
              "      <td>2.133617</td>\n",
              "      <td>-2.086773</td>\n",
              "      <td>0.279623</td>\n",
              "      <td>-0.592878</td>\n",
              "      <td>-0.321336</td>\n",
              "      <td>-0.276354</td>\n",
              "      <td>-0.305022</td>\n",
              "    </tr>\n",
              "    <tr>\n",
              "      <th>307508</th>\n",
              "      <td>1</td>\n",
              "      <td>3</td>\n",
              "      <td>3</td>\n",
              "      <td>1</td>\n",
              "      <td>1</td>\n",
              "      <td>1</td>\n",
              "      <td>1</td>\n",
              "      <td>0</td>\n",
              "      <td>0.198053</td>\n",
              "      <td>-0.507774</td>\n",
              "      <td>0.111850</td>\n",
              "      <td>-1.618648</td>\n",
              "      <td>1.909510</td>\n",
              "      <td>-0.321336</td>\n",
              "      <td>-0.276354</td>\n",
              "      <td>0.852975</td>\n",
              "    </tr>\n",
              "    <tr>\n",
              "      <th>307509</th>\n",
              "      <td>1</td>\n",
              "      <td>2</td>\n",
              "      <td>2</td>\n",
              "      <td>1</td>\n",
              "      <td>1</td>\n",
              "      <td>1</td>\n",
              "      <td>0</td>\n",
              "      <td>1</td>\n",
              "      <td>-0.476314</td>\n",
              "      <td>-0.485583</td>\n",
              "      <td>-0.001079</td>\n",
              "      <td>0.834289</td>\n",
              "      <td>-0.592878</td>\n",
              "      <td>-0.321336</td>\n",
              "      <td>-0.276354</td>\n",
              "      <td>-0.305022</td>\n",
              "    </tr>\n",
              "    <tr>\n",
              "      <th>307510</th>\n",
              "      <td>1</td>\n",
              "      <td>1</td>\n",
              "      <td>1</td>\n",
              "      <td>1</td>\n",
              "      <td>0</td>\n",
              "      <td>1</td>\n",
              "      <td>0</td>\n",
              "      <td>1</td>\n",
              "      <td>1.518533</td>\n",
              "      <td>-0.460639</td>\n",
              "      <td>1.017256</td>\n",
              "      <td>-2.200791</td>\n",
              "      <td>-0.592878</td>\n",
              "      <td>-0.321336</td>\n",
              "      <td>-0.276354</td>\n",
              "      <td>2.010972</td>\n",
              "    </tr>\n",
              "  </tbody>\n",
              "</table>\n",
              "<p>307511 rows × 16 columns</p>\n",
              "</div>\n",
              "      <button class=\"colab-df-convert\" onclick=\"convertToInteractive('df-20cb52ae-0286-45fe-a552-668b11b37a36')\"\n",
              "              title=\"Convert this dataframe to an interactive table.\"\n",
              "              style=\"display:none;\">\n",
              "        \n",
              "  <svg xmlns=\"http://www.w3.org/2000/svg\" height=\"24px\"viewBox=\"0 0 24 24\"\n",
              "       width=\"24px\">\n",
              "    <path d=\"M0 0h24v24H0V0z\" fill=\"none\"/>\n",
              "    <path d=\"M18.56 5.44l.94 2.06.94-2.06 2.06-.94-2.06-.94-.94-2.06-.94 2.06-2.06.94zm-11 1L8.5 8.5l.94-2.06 2.06-.94-2.06-.94L8.5 2.5l-.94 2.06-2.06.94zm10 10l.94 2.06.94-2.06 2.06-.94-2.06-.94-.94-2.06-.94 2.06-2.06.94z\"/><path d=\"M17.41 7.96l-1.37-1.37c-.4-.4-.92-.59-1.43-.59-.52 0-1.04.2-1.43.59L10.3 9.45l-7.72 7.72c-.78.78-.78 2.05 0 2.83L4 21.41c.39.39.9.59 1.41.59.51 0 1.02-.2 1.41-.59l7.78-7.78 2.81-2.81c.8-.78.8-2.07 0-2.86zM5.41 20L4 18.59l7.72-7.72 1.47 1.35L5.41 20z\"/>\n",
              "  </svg>\n",
              "      </button>\n",
              "      \n",
              "  <style>\n",
              "    .colab-df-container {\n",
              "      display:flex;\n",
              "      flex-wrap:wrap;\n",
              "      gap: 12px;\n",
              "    }\n",
              "\n",
              "    .colab-df-convert {\n",
              "      background-color: #E8F0FE;\n",
              "      border: none;\n",
              "      border-radius: 50%;\n",
              "      cursor: pointer;\n",
              "      display: none;\n",
              "      fill: #1967D2;\n",
              "      height: 32px;\n",
              "      padding: 0 0 0 0;\n",
              "      width: 32px;\n",
              "    }\n",
              "\n",
              "    .colab-df-convert:hover {\n",
              "      background-color: #E2EBFA;\n",
              "      box-shadow: 0px 1px 2px rgba(60, 64, 67, 0.3), 0px 1px 3px 1px rgba(60, 64, 67, 0.15);\n",
              "      fill: #174EA6;\n",
              "    }\n",
              "\n",
              "    [theme=dark] .colab-df-convert {\n",
              "      background-color: #3B4455;\n",
              "      fill: #D2E3FC;\n",
              "    }\n",
              "\n",
              "    [theme=dark] .colab-df-convert:hover {\n",
              "      background-color: #434B5C;\n",
              "      box-shadow: 0px 1px 3px 1px rgba(0, 0, 0, 0.15);\n",
              "      filter: drop-shadow(0px 1px 2px rgba(0, 0, 0, 0.3));\n",
              "      fill: #FFFFFF;\n",
              "    }\n",
              "  </style>\n",
              "\n",
              "      <script>\n",
              "        const buttonEl =\n",
              "          document.querySelector('#df-20cb52ae-0286-45fe-a552-668b11b37a36 button.colab-df-convert');\n",
              "        buttonEl.style.display =\n",
              "          google.colab.kernel.accessAllowed ? 'block' : 'none';\n",
              "\n",
              "        async function convertToInteractive(key) {\n",
              "          const element = document.querySelector('#df-20cb52ae-0286-45fe-a552-668b11b37a36');\n",
              "          const dataTable =\n",
              "            await google.colab.kernel.invokeFunction('convertToInteractive',\n",
              "                                                     [key], {});\n",
              "          if (!dataTable) return;\n",
              "\n",
              "          const docLinkHtml = 'Like what you see? Visit the ' +\n",
              "            '<a target=\"_blank\" href=https://colab.research.google.com/notebooks/data_table.ipynb>data table notebook</a>'\n",
              "            + ' to learn more about interactive tables.';\n",
              "          element.innerHTML = '';\n",
              "          dataTable['output_type'] = 'display_data';\n",
              "          await google.colab.output.renderOutput(dataTable, element);\n",
              "          const docLink = document.createElement('div');\n",
              "          docLink.innerHTML = docLinkHtml;\n",
              "          element.appendChild(docLink);\n",
              "        }\n",
              "      </script>\n",
              "    </div>\n",
              "  </div>\n",
              "  "
            ]
          },
          "metadata": {},
          "execution_count": 55
        }
      ],
      "source": [
        "X_final=X[best_col]\n",
        "X_final"
      ]
    },
    {
      "cell_type": "code",
      "execution_count": null,
      "metadata": {
        "id": "Y2nBZ-a0op-e"
      },
      "outputs": [],
      "source": [
        "import seaborn as sns\n",
        "import matplotlib\n",
        "matplotlib.rcParams['figure.figsize'] = (6, 6)"
      ]
    },
    {
      "cell_type": "markdown",
      "metadata": {
        "id": "dcbKF6njY6k7"
      },
      "source": [
        "# **Decision Tree Classifier**"
      ]
    },
    {
      "cell_type": "markdown",
      "metadata": {
        "id": "gpLu1GXBY_q8"
      },
      "source": [
        "Decision Tree Classifer doesn't work well if a data is unbalanced. So, I'll use SMOTE() in data having only numerical columns and RandomSample() in data containing categorical values also."
      ]
    },
    {
      "cell_type": "code",
      "execution_count": null,
      "metadata": {
        "id": "mnDwCkdnifCt"
      },
      "outputs": [],
      "source": [
        "from imblearn.over_sampling import SMOTE\n",
        "from imblearn.over_sampling import RandomOverSampler\n",
        "from sklearn import metrics\n",
        "from sklearn.metrics import accuracy_score, classification_report,plot_confusion_matrix,roc_curve,f1_score,auc,recall_score,roc_auc_score\n",
        "from collections import Counter\n",
        "from sklearn.tree import DecisionTreeClassifier\n",
        "from matplotlib import pyplot as plt"
      ]
    },
    {
      "cell_type": "code",
      "execution_count": null,
      "metadata": {
        "colab": {
          "base_uri": "https://localhost:8080/"
        },
        "id": "JG5yQVqTFdyg",
        "outputId": "15a9a6cd-77c2-4e24-caab-491b44308353"
      },
      "outputs": [
        {
          "output_type": "execute_result",
          "data": {
            "text/plain": [
              "((246008, 16), (61503, 16))"
            ]
          },
          "metadata": {},
          "execution_count": 58
        }
      ],
      "source": [
        "# split X and y into training and testing sets (SMOTE)\n",
        "from sklearn.model_selection import train_test_split\n",
        "\n",
        "\n",
        "X_train, X_test, y_train, y_test = train_test_split(X_final, y, test_size = 0.2, random_state = 0,stratify=y)\n",
        "X_train.shape, X_test.shape"
      ]
    },
    {
      "cell_type": "code",
      "execution_count": null,
      "metadata": {
        "colab": {
          "base_uri": "https://localhost:8080/"
        },
        "id": "Qc4Hv_6PHGXY",
        "outputId": "cef30adb-e1be-465f-bfaa-1030d6271d99"
      },
      "outputs": [
        {
          "output_type": "stream",
          "name": "stdout",
          "text": [
            "Counter({0: 226148, 1: 19860})\n"
          ]
        }
      ],
      "source": [
        "print(Counter(y_train))"
      ]
    },
    {
      "cell_type": "code",
      "execution_count": null,
      "metadata": {
        "colab": {
          "base_uri": "https://localhost:8080/"
        },
        "id": "__uDSqgm95_O",
        "outputId": "11766281-09d1-40ba-9f53-1b9f67e70707"
      },
      "outputs": [
        {
          "output_type": "execute_result",
          "data": {
            "text/plain": [
              "((246008, 16), (61503, 16))"
            ]
          },
          "metadata": {},
          "execution_count": 60
        }
      ],
      "source": [
        "X_train, X_val, y_train, y_val = train_test_split(X_final, y, test_size = 0.2, random_state = 0,stratify=y)\n",
        "X_train.shape, X_val.shape"
      ]
    },
    {
      "cell_type": "markdown",
      "metadata": {
        "id": "jjHGSWSiIY-U"
      },
      "source": [
        "## **Decison Tree Tuning**"
      ]
    },
    {
      "cell_type": "markdown",
      "metadata": {
        "id": "8NZB6EFasibf"
      },
      "source": [
        "Tuning Weights and Depth of the tree"
      ]
    },
    {
      "cell_type": "code",
      "execution_count": null,
      "metadata": {
        "id": "aJDXSha6Cf8-"
      },
      "outputs": [],
      "source": [
        "# ##with weights\n",
        "# def model_parameters(X,y,X_val,y_val):\n",
        "#   max_depths = np.linspace(1, 39, 20, endpoint=True)\n",
        "#   class_weight = np.linspace(1, 10, 10, endpoint=True)\n",
        "#   Fscore=[]\n",
        "#   auc=[]\n",
        "#   for weight in class_weight:\n",
        "#       for max_depth in max_depths:  \n",
        "#         clf_model=DecisionTreeClassifier(criterion=\"entropy\",max_depth=max_depth,class_weight={0:1,1:weight})\n",
        "#         clf_model.fit(X,y)\n",
        "#         y_predict=clf_model.predict(X_val)  \n",
        "#         Fscore.append(f1_score(y_val,y_predict))\n",
        "#         ypred_prob=clf_model.predict_proba(X_val)[::,1]\n",
        "#         auc.append(metrics.roc_auc_score(y_val,ypred_prob))\n",
        "\n",
        "\n",
        "#   # np.array(Fscore).reshape(10,10)\n",
        "#   print(\"F1 Score: \",max(Fscore))\n",
        "#   print(\"AUC: \",max(auc))\n",
        "\n",
        "#   return Fscore\n",
        "\n",
        "# Fscore=model_parameters(X_train,y_train,X_val,y_val)"
      ]
    },
    {
      "cell_type": "code",
      "execution_count": null,
      "metadata": {
        "colab": {
          "base_uri": "https://localhost:8080/",
          "height": 183
        },
        "id": "KZJ_0vv3wjP_",
        "outputId": "1498a19b-4920-459c-ef85-f58d56a7016c"
      },
      "outputs": [
        {
          "output_type": "error",
          "ename": "NameError",
          "evalue": "ignored",
          "traceback": [
            "\u001b[0;31m---------------------------------------------------------------------------\u001b[0m",
            "\u001b[0;31mNameError\u001b[0m                                 Traceback (most recent call last)",
            "\u001b[0;32m<ipython-input-62-4fe122aaae21>\u001b[0m in \u001b[0;36m<module>\u001b[0;34m\u001b[0m\n\u001b[0;32m----> 1\u001b[0;31m \u001b[0mFscore\u001b[0m\u001b[0;34m=\u001b[0m\u001b[0mnp\u001b[0m\u001b[0;34m.\u001b[0m\u001b[0mreshape\u001b[0m\u001b[0;34m(\u001b[0m\u001b[0mFscore\u001b[0m\u001b[0;34m,\u001b[0m\u001b[0;34m(\u001b[0m\u001b[0;36m10\u001b[0m\u001b[0;34m,\u001b[0m\u001b[0;36m20\u001b[0m\u001b[0;34m)\u001b[0m\u001b[0;34m)\u001b[0m\u001b[0;34m\u001b[0m\u001b[0;34m\u001b[0m\u001b[0m\n\u001b[0m\u001b[1;32m      2\u001b[0m \u001b[0mFscore\u001b[0m\u001b[0;34m\u001b[0m\u001b[0;34m\u001b[0m\u001b[0m\n",
            "\u001b[0;31mNameError\u001b[0m: name 'Fscore' is not defined"
          ]
        }
      ],
      "source": [
        "# Fscore=np.reshape(Fscore,(10,20))\n",
        "# Fscore"
      ]
    },
    {
      "cell_type": "code",
      "execution_count": null,
      "metadata": {
        "id": "s2WADjGrSNiD"
      },
      "outputs": [],
      "source": [
        "max_depths = np.linspace(1, 39, 20, endpoint=True)\n",
        "class_weight = np.linspace(1, 10, 10, endpoint=True)"
      ]
    },
    {
      "cell_type": "code",
      "execution_count": null,
      "metadata": {
        "id": "1Uij7x-iQ4OH"
      },
      "outputs": [],
      "source": [
        "# np.where(Fscore==Fscore.max())"
      ]
    },
    {
      "cell_type": "code",
      "execution_count": null,
      "metadata": {
        "id": "GVZQ4f_jR1AN"
      },
      "outputs": [],
      "source": [
        "m_depth,c_weight=[max_depths[3],class_weight[5]] "
      ]
    },
    {
      "cell_type": "markdown",
      "metadata": {
        "id": "3Jze-am-Rusc"
      },
      "source": [
        "Take max_depth=7 and class_weight=6"
      ]
    },
    {
      "cell_type": "code",
      "execution_count": null,
      "metadata": {
        "id": "-Qof68jlCf9p"
      },
      "outputs": [],
      "source": [
        "dt = DecisionTreeClassifier(criterion=\"entropy\",max_depth=m_depth,class_weight={0:1,1:c_weight})\n",
        "dt.fit(X_train, y_train)\n",
        "train_pred = dt.predict(X_train)\n",
        "y_pred = dt.predict(X_test)\n"
      ]
    },
    {
      "cell_type": "code",
      "execution_count": null,
      "metadata": {
        "id": "TRChUK5WrYks"
      },
      "outputs": [],
      "source": [
        "summary=pd.DataFrame(columns=[\"Model type\",\"Train Acc\",\"Test Acc\",\"Senstivity\",\"f1 score\"])"
      ]
    },
    {
      "cell_type": "code",
      "execution_count": null,
      "metadata": {
        "id": "wUr-EwKK4vDY"
      },
      "outputs": [],
      "source": [
        "#Accuracy check on training and testing dataset\n",
        "def model_diag(train_pred,y_pred,model_name):\n",
        "  print(\"Model accuracy score for Decision Tree Classifier: \\nTrain set Accuracy: \", accuracy_score(y_train,train_pred))\n",
        "  print(\"Test set Accuracy: \", accuracy_score(y_test,y_pred))\n",
        "  print(\"Senstivity: \",recall_score(y_test,y_pred))\n",
        "  print(\"F1 score : \",f1_score(y_test,y_pred))\n",
        "  global summary\n",
        "  summary=summary.append({\"Model type\":str(model_name),\"Train Acc\":accuracy_score(y_train,train_pred),\"Test Acc\":accuracy_score(y_test,y_pred),\"Senstivity\":recall_score(y_test,y_pred),\"f1 score\":f1_score(y_test,y_pred)},ignore_index=True)\n",
        "  return summary"
      ]
    },
    {
      "cell_type": "code",
      "execution_count": null,
      "metadata": {
        "colab": {
          "base_uri": "https://localhost:8080/",
          "height": 168
        },
        "id": "bJ_jfFCErl09",
        "outputId": "b952ed58-2921-40b2-cb5e-642a83f07e3a"
      },
      "outputs": [
        {
          "output_type": "stream",
          "name": "stdout",
          "text": [
            "Model accuracy score for Decision Tree Classifier: \n",
            "Train set Accuracy:  0.8418953855159181\n",
            "Test set Accuracy:  0.8425930442417443\n",
            "Senstivity:  0.36032225579053373\n",
            "F1 score :  0.26985443849460744\n"
          ]
        },
        {
          "output_type": "execute_result",
          "data": {
            "text/plain": [
              "                    Model type  Train Acc  Test Acc  Senstivity  f1 score\n",
              "0  Decision tree without SMOTE   0.841895  0.842593    0.360322  0.269854"
            ],
            "text/html": [
              "\n",
              "  <div id=\"df-ac7c282a-706c-45bc-9ee1-39683939435e\">\n",
              "    <div class=\"colab-df-container\">\n",
              "      <div>\n",
              "<style scoped>\n",
              "    .dataframe tbody tr th:only-of-type {\n",
              "        vertical-align: middle;\n",
              "    }\n",
              "\n",
              "    .dataframe tbody tr th {\n",
              "        vertical-align: top;\n",
              "    }\n",
              "\n",
              "    .dataframe thead th {\n",
              "        text-align: right;\n",
              "    }\n",
              "</style>\n",
              "<table border=\"1\" class=\"dataframe\">\n",
              "  <thead>\n",
              "    <tr style=\"text-align: right;\">\n",
              "      <th></th>\n",
              "      <th>Model type</th>\n",
              "      <th>Train Acc</th>\n",
              "      <th>Test Acc</th>\n",
              "      <th>Senstivity</th>\n",
              "      <th>f1 score</th>\n",
              "    </tr>\n",
              "  </thead>\n",
              "  <tbody>\n",
              "    <tr>\n",
              "      <th>0</th>\n",
              "      <td>Decision tree without SMOTE</td>\n",
              "      <td>0.841895</td>\n",
              "      <td>0.842593</td>\n",
              "      <td>0.360322</td>\n",
              "      <td>0.269854</td>\n",
              "    </tr>\n",
              "  </tbody>\n",
              "</table>\n",
              "</div>\n",
              "      <button class=\"colab-df-convert\" onclick=\"convertToInteractive('df-ac7c282a-706c-45bc-9ee1-39683939435e')\"\n",
              "              title=\"Convert this dataframe to an interactive table.\"\n",
              "              style=\"display:none;\">\n",
              "        \n",
              "  <svg xmlns=\"http://www.w3.org/2000/svg\" height=\"24px\"viewBox=\"0 0 24 24\"\n",
              "       width=\"24px\">\n",
              "    <path d=\"M0 0h24v24H0V0z\" fill=\"none\"/>\n",
              "    <path d=\"M18.56 5.44l.94 2.06.94-2.06 2.06-.94-2.06-.94-.94-2.06-.94 2.06-2.06.94zm-11 1L8.5 8.5l.94-2.06 2.06-.94-2.06-.94L8.5 2.5l-.94 2.06-2.06.94zm10 10l.94 2.06.94-2.06 2.06-.94-2.06-.94-.94-2.06-.94 2.06-2.06.94z\"/><path d=\"M17.41 7.96l-1.37-1.37c-.4-.4-.92-.59-1.43-.59-.52 0-1.04.2-1.43.59L10.3 9.45l-7.72 7.72c-.78.78-.78 2.05 0 2.83L4 21.41c.39.39.9.59 1.41.59.51 0 1.02-.2 1.41-.59l7.78-7.78 2.81-2.81c.8-.78.8-2.07 0-2.86zM5.41 20L4 18.59l7.72-7.72 1.47 1.35L5.41 20z\"/>\n",
              "  </svg>\n",
              "      </button>\n",
              "      \n",
              "  <style>\n",
              "    .colab-df-container {\n",
              "      display:flex;\n",
              "      flex-wrap:wrap;\n",
              "      gap: 12px;\n",
              "    }\n",
              "\n",
              "    .colab-df-convert {\n",
              "      background-color: #E8F0FE;\n",
              "      border: none;\n",
              "      border-radius: 50%;\n",
              "      cursor: pointer;\n",
              "      display: none;\n",
              "      fill: #1967D2;\n",
              "      height: 32px;\n",
              "      padding: 0 0 0 0;\n",
              "      width: 32px;\n",
              "    }\n",
              "\n",
              "    .colab-df-convert:hover {\n",
              "      background-color: #E2EBFA;\n",
              "      box-shadow: 0px 1px 2px rgba(60, 64, 67, 0.3), 0px 1px 3px 1px rgba(60, 64, 67, 0.15);\n",
              "      fill: #174EA6;\n",
              "    }\n",
              "\n",
              "    [theme=dark] .colab-df-convert {\n",
              "      background-color: #3B4455;\n",
              "      fill: #D2E3FC;\n",
              "    }\n",
              "\n",
              "    [theme=dark] .colab-df-convert:hover {\n",
              "      background-color: #434B5C;\n",
              "      box-shadow: 0px 1px 3px 1px rgba(0, 0, 0, 0.15);\n",
              "      filter: drop-shadow(0px 1px 2px rgba(0, 0, 0, 0.3));\n",
              "      fill: #FFFFFF;\n",
              "    }\n",
              "  </style>\n",
              "\n",
              "      <script>\n",
              "        const buttonEl =\n",
              "          document.querySelector('#df-ac7c282a-706c-45bc-9ee1-39683939435e button.colab-df-convert');\n",
              "        buttonEl.style.display =\n",
              "          google.colab.kernel.accessAllowed ? 'block' : 'none';\n",
              "\n",
              "        async function convertToInteractive(key) {\n",
              "          const element = document.querySelector('#df-ac7c282a-706c-45bc-9ee1-39683939435e');\n",
              "          const dataTable =\n",
              "            await google.colab.kernel.invokeFunction('convertToInteractive',\n",
              "                                                     [key], {});\n",
              "          if (!dataTable) return;\n",
              "\n",
              "          const docLinkHtml = 'Like what you see? Visit the ' +\n",
              "            '<a target=\"_blank\" href=https://colab.research.google.com/notebooks/data_table.ipynb>data table notebook</a>'\n",
              "            + ' to learn more about interactive tables.';\n",
              "          element.innerHTML = '';\n",
              "          dataTable['output_type'] = 'display_data';\n",
              "          await google.colab.output.renderOutput(dataTable, element);\n",
              "          const docLink = document.createElement('div');\n",
              "          docLink.innerHTML = docLinkHtml;\n",
              "          element.appendChild(docLink);\n",
              "        }\n",
              "      </script>\n",
              "    </div>\n",
              "  </div>\n",
              "  "
            ]
          },
          "metadata": {},
          "execution_count": 69
        }
      ],
      "source": [
        "summary=model_diag(train_pred,y_pred,\"Decision tree without SMOTE\")\n",
        "summary"
      ]
    },
    {
      "cell_type": "code",
      "execution_count": null,
      "metadata": {
        "colab": {
          "base_uri": "https://localhost:8080/",
          "height": 435
        },
        "id": "59-rkBwN4vDZ",
        "outputId": "67fed35a-2990-45eb-f48a-56ecfcf806b8"
      },
      "outputs": [
        {
          "output_type": "stream",
          "name": "stderr",
          "text": [
            "/usr/local/lib/python3.7/dist-packages/sklearn/utils/deprecation.py:87: FutureWarning: Function plot_confusion_matrix is deprecated; Function `plot_confusion_matrix` is deprecated in 1.0 and will be removed in 1.2. Use one of the class methods: ConfusionMatrixDisplay.from_predictions or ConfusionMatrixDisplay.from_estimator.\n",
            "  warnings.warn(msg, category=FutureWarning)\n"
          ]
        },
        {
          "output_type": "execute_result",
          "data": {
            "text/plain": [
              "<sklearn.metrics._plot.confusion_matrix.ConfusionMatrixDisplay at 0x7f68d031fcd0>"
            ]
          },
          "metadata": {},
          "execution_count": 70
        },
        {
          "output_type": "display_data",
          "data": {
            "text/plain": [
              "<Figure size 432x432 with 2 Axes>"
            ],
            "image/png": "[encoded data removed]"
          },
          "metadata": {
            "needs_background": "light"
          }
        }
      ],
      "source": [
        "plot_confusion_matrix(dt,X_test,y_test)"
      ]
    },
    {
      "cell_type": "code",
      "execution_count": null,
      "metadata": {
        "colab": {
          "base_uri": "https://localhost:8080/",
          "height": 405
        },
        "id": "PfH3gEx34vDZ",
        "outputId": "f4922764-b0be-4a75-fcef-875e4774c9e5"
      },
      "outputs": [
        {
          "output_type": "execute_result",
          "data": {
            "text/plain": [
              "Text(0.5, 0, 'False Positive Rate')"
            ]
          },
          "metadata": {},
          "execution_count": 71
        },
        {
          "output_type": "display_data",
          "data": {
            "text/plain": [
              "<Figure size 432x432 with 1 Axes>"
            ],
            "image/png": "[encoded data removed]"
          },
          "metadata": {
            "needs_background": "light"
          }
        }
      ],
      "source": [
        "#ROC curve\n",
        "ypred_prob=dt.predict_proba(X_test)[::,1]\n",
        "fpr,tpr,_=roc_curve(y_test,ypred_prob)\n",
        "plt.plot(fpr,tpr)\n",
        "plt.ylabel('True Positive Rate')\n",
        "plt.xlabel('False Positive Rate')"
      ]
    },
    {
      "cell_type": "code",
      "execution_count": null,
      "metadata": {
        "colab": {
          "base_uri": "https://localhost:8080/"
        },
        "id": "Pdi21UzvWPb-",
        "outputId": "19a3e3dd-6721-4e59-e31b-881cef1c82e8"
      },
      "outputs": [
        {
          "output_type": "stream",
          "name": "stdout",
          "text": [
            "auc score:  0.7162377311170054\n"
          ]
        }
      ],
      "source": [
        "print(\"auc score: \",roc_auc_score(y_test,ypred_prob))"
      ]
    },
    {
      "cell_type": "markdown",
      "metadata": {
        "id": "gOlxEfeeF3OE"
      },
      "source": [
        "## **SMOTE**"
      ]
    },
    {
      "cell_type": "code",
      "execution_count": null,
      "metadata": {
        "id": "w23_F6GXiGuV"
      },
      "outputs": [],
      "source": [
        "#splitting dataset into X(explanatory) and Y(target variable)\n",
        "oversample = SMOTE()\n",
        "X_train_smote, y_train_smote = oversample.fit_resample(X_train, y_train)"
      ]
    },
    {
      "cell_type": "code",
      "execution_count": null,
      "metadata": {
        "colab": {
          "base_uri": "https://localhost:8080/"
        },
        "id": "3U8IvGmwiaSq",
        "outputId": "4d3216c2-8562-4d32-b9a5-967ef0637c5d"
      },
      "outputs": [
        {
          "output_type": "execute_result",
          "data": {
            "text/plain": [
              "Counter({0: 226148, 1: 226148})"
            ]
          },
          "metadata": {},
          "execution_count": 74
        }
      ],
      "source": [
        "Counter(y_train_smote)"
      ]
    },
    {
      "cell_type": "code",
      "execution_count": null,
      "metadata": {
        "id": "5wRyXmoKHh46"
      },
      "outputs": [],
      "source": [
        "clf_model_smote=DecisionTreeClassifier(max_depth=7)"
      ]
    },
    {
      "cell_type": "code",
      "execution_count": null,
      "metadata": {
        "id": "ZfYJIEUUHhw4"
      },
      "outputs": [],
      "source": [
        "clf_model_smote.fit(X_train_smote,y_train_smote)\n",
        "y_predict_train_smote=clf_model_smote.predict(X_train)\n",
        "y_predict_smote=clf_model_smote.predict(X_test)"
      ]
    },
    {
      "cell_type": "code",
      "execution_count": null,
      "metadata": {
        "colab": {
          "base_uri": "https://localhost:8080/",
          "height": 199
        },
        "id": "ffZ3hEMg9t19",
        "outputId": "d4377ca9-5336-4389-ee56-aa09dee61dce"
      },
      "outputs": [
        {
          "output_type": "stream",
          "name": "stdout",
          "text": [
            "Model accuracy score for Decision Tree Classifier: \n",
            "Train set Accuracy:  0.6688075184546844\n",
            "Test set Accuracy:  0.6694632782140708\n",
            "Senstivity:  0.6205438066465256\n",
            "F1 score :  0.23260730059265408\n"
          ]
        },
        {
          "output_type": "execute_result",
          "data": {
            "text/plain": [
              "                    Model type  Train Acc  Test Acc  Senstivity  f1 score\n",
              "0  Decision tree without SMOTE   0.841895  0.842593    0.360322  0.269854\n",
              "1     Decision tree with SMOTE   0.668808  0.669463    0.620544  0.232607"
            ],
            "text/html": [
              "\n",
              "  <div id=\"df-f6d602e6-0daf-462a-bc9a-1fc9bf967521\">\n",
              "    <div class=\"colab-df-container\">\n",
              "      <div>\n",
              "<style scoped>\n",
              "    .dataframe tbody tr th:only-of-type {\n",
              "        vertical-align: middle;\n",
              "    }\n",
              "\n",
              "    .dataframe tbody tr th {\n",
              "        vertical-align: top;\n",
              "    }\n",
              "\n",
              "    .dataframe thead th {\n",
              "        text-align: right;\n",
              "    }\n",
              "</style>\n",
              "<table border=\"1\" class=\"dataframe\">\n",
              "  <thead>\n",
              "    <tr style=\"text-align: right;\">\n",
              "      <th></th>\n",
              "      <th>Model type</th>\n",
              "      <th>Train Acc</th>\n",
              "      <th>Test Acc</th>\n",
              "      <th>Senstivity</th>\n",
              "      <th>f1 score</th>\n",
              "    </tr>\n",
              "  </thead>\n",
              "  <tbody>\n",
              "    <tr>\n",
              "      <th>0</th>\n",
              "      <td>Decision tree without SMOTE</td>\n",
              "      <td>0.841895</td>\n",
              "      <td>0.842593</td>\n",
              "      <td>0.360322</td>\n",
              "      <td>0.269854</td>\n",
              "    </tr>\n",
              "    <tr>\n",
              "      <th>1</th>\n",
              "      <td>Decision tree with SMOTE</td>\n",
              "      <td>0.668808</td>\n",
              "      <td>0.669463</td>\n",
              "      <td>0.620544</td>\n",
              "      <td>0.232607</td>\n",
              "    </tr>\n",
              "  </tbody>\n",
              "</table>\n",
              "</div>\n",
              "      <button class=\"colab-df-convert\" onclick=\"convertToInteractive('df-f6d602e6-0daf-462a-bc9a-1fc9bf967521')\"\n",
              "              title=\"Convert this dataframe to an interactive table.\"\n",
              "              style=\"display:none;\">\n",
              "        \n",
              "  <svg xmlns=\"http://www.w3.org/2000/svg\" height=\"24px\"viewBox=\"0 0 24 24\"\n",
              "       width=\"24px\">\n",
              "    <path d=\"M0 0h24v24H0V0z\" fill=\"none\"/>\n",
              "    <path d=\"M18.56 5.44l.94 2.06.94-2.06 2.06-.94-2.06-.94-.94-2.06-.94 2.06-2.06.94zm-11 1L8.5 8.5l.94-2.06 2.06-.94-2.06-.94L8.5 2.5l-.94 2.06-2.06.94zm10 10l.94 2.06.94-2.06 2.06-.94-2.06-.94-.94-2.06-.94 2.06-2.06.94z\"/><path d=\"M17.41 7.96l-1.37-1.37c-.4-.4-.92-.59-1.43-.59-.52 0-1.04.2-1.43.59L10.3 9.45l-7.72 7.72c-.78.78-.78 2.05 0 2.83L4 21.41c.39.39.9.59 1.41.59.51 0 1.02-.2 1.41-.59l7.78-7.78 2.81-2.81c.8-.78.8-2.07 0-2.86zM5.41 20L4 18.59l7.72-7.72 1.47 1.35L5.41 20z\"/>\n",
              "  </svg>\n",
              "      </button>\n",
              "      \n",
              "  <style>\n",
              "    .colab-df-container {\n",
              "      display:flex;\n",
              "      flex-wrap:wrap;\n",
              "      gap: 12px;\n",
              "    }\n",
              "\n",
              "    .colab-df-convert {\n",
              "      background-color: #E8F0FE;\n",
              "      border: none;\n",
              "      border-radius: 50%;\n",
              "      cursor: pointer;\n",
              "      display: none;\n",
              "      fill: #1967D2;\n",
              "      height: 32px;\n",
              "      padding: 0 0 0 0;\n",
              "      width: 32px;\n",
              "    }\n",
              "\n",
              "    .colab-df-convert:hover {\n",
              "      background-color: #E2EBFA;\n",
              "      box-shadow: 0px 1px 2px rgba(60, 64, 67, 0.3), 0px 1px 3px 1px rgba(60, 64, 67, 0.15);\n",
              "      fill: #174EA6;\n",
              "    }\n",
              "\n",
              "    [theme=dark] .colab-df-convert {\n",
              "      background-color: #3B4455;\n",
              "      fill: #D2E3FC;\n",
              "    }\n",
              "\n",
              "    [theme=dark] .colab-df-convert:hover {\n",
              "      background-color: #434B5C;\n",
              "      box-shadow: 0px 1px 3px 1px rgba(0, 0, 0, 0.15);\n",
              "      filter: drop-shadow(0px 1px 2px rgba(0, 0, 0, 0.3));\n",
              "      fill: #FFFFFF;\n",
              "    }\n",
              "  </style>\n",
              "\n",
              "      <script>\n",
              "        const buttonEl =\n",
              "          document.querySelector('#df-f6d602e6-0daf-462a-bc9a-1fc9bf967521 button.colab-df-convert');\n",
              "        buttonEl.style.display =\n",
              "          google.colab.kernel.accessAllowed ? 'block' : 'none';\n",
              "\n",
              "        async function convertToInteractive(key) {\n",
              "          const element = document.querySelector('#df-f6d602e6-0daf-462a-bc9a-1fc9bf967521');\n",
              "          const dataTable =\n",
              "            await google.colab.kernel.invokeFunction('convertToInteractive',\n",
              "                                                     [key], {});\n",
              "          if (!dataTable) return;\n",
              "\n",
              "          const docLinkHtml = 'Like what you see? Visit the ' +\n",
              "            '<a target=\"_blank\" href=https://colab.research.google.com/notebooks/data_table.ipynb>data table notebook</a>'\n",
              "            + ' to learn more about interactive tables.';\n",
              "          element.innerHTML = '';\n",
              "          dataTable['output_type'] = 'display_data';\n",
              "          await google.colab.output.renderOutput(dataTable, element);\n",
              "          const docLink = document.createElement('div');\n",
              "          docLink.innerHTML = docLinkHtml;\n",
              "          element.appendChild(docLink);\n",
              "        }\n",
              "      </script>\n",
              "    </div>\n",
              "  </div>\n",
              "  "
            ]
          },
          "metadata": {},
          "execution_count": 79
        }
      ],
      "source": [
        "#Accuracy check on training and testing dataset\n",
        "model_diag(y_predict_train_smote,y_predict_smote,\"Decision tree with SMOTE\")"
      ]
    },
    {
      "cell_type": "code",
      "execution_count": null,
      "metadata": {
        "colab": {
          "base_uri": "https://localhost:8080/",
          "height": 431
        },
        "id": "3zx3jRpFIztI",
        "outputId": "743bed99-196c-475d-fe3d-c678f8a449f4"
      },
      "outputs": [
        {
          "output_type": "stream",
          "name": "stderr",
          "text": [
            "/usr/local/lib/python3.7/dist-packages/sklearn/utils/deprecation.py:87: FutureWarning: Function plot_confusion_matrix is deprecated; Function `plot_confusion_matrix` is deprecated in 1.0 and will be removed in 1.2. Use one of the class methods: ConfusionMatrixDisplay.from_predictions or ConfusionMatrixDisplay.from_estimator.\n",
            "  warnings.warn(msg, category=FutureWarning)\n"
          ]
        },
        {
          "output_type": "execute_result",
          "data": {
            "text/plain": [
              "<sklearn.metrics._plot.confusion_matrix.ConfusionMatrixDisplay at 0x7f68d0236090>"
            ]
          },
          "metadata": {},
          "execution_count": 80
        },
        {
          "output_type": "display_data",
          "data": {
            "text/plain": [
              "<Figure size 432x432 with 2 Axes>"
            ],
            "image/png": "[encoded data removed]"
          },
          "metadata": {
            "needs_background": "light"
          }
        }
      ],
      "source": [
        "plot_confusion_matrix(clf_model_smote,X_test,y_test)"
      ]
    },
    {
      "cell_type": "code",
      "execution_count": null,
      "metadata": {
        "colab": {
          "base_uri": "https://localhost:8080/",
          "height": 405
        },
        "id": "IdmE3BXxLcne",
        "outputId": "43253673-2f17-463d-fa7a-818154653f46"
      },
      "outputs": [
        {
          "output_type": "execute_result",
          "data": {
            "text/plain": [
              "Text(0.5, 0, 'False Positive Rate')"
            ]
          },
          "metadata": {},
          "execution_count": 81
        },
        {
          "output_type": "display_data",
          "data": {
            "text/plain": [
              "<Figure size 432x432 with 1 Axes>"
            ],
            "image/png": "[encoded data removed]"
          },
          "metadata": {
            "needs_background": "light"
          }
        }
      ],
      "source": [
        "#ROC curve\n",
        "ypred_prob_smote=clf_model_smote.predict_proba(X_test)[::,1]\n",
        "fpr,tpr,_=metrics.roc_curve(y_test,ypred_prob_smote)\n",
        "plt.plot(fpr,tpr)\n",
        "plt.ylabel('True Positive Rate')\n",
        "plt.xlabel('False Positive Rate')"
      ]
    },
    {
      "cell_type": "code",
      "execution_count": null,
      "metadata": {
        "colab": {
          "base_uri": "https://localhost:8080/"
        },
        "id": "e8hGftRfWCRI",
        "outputId": "f0f973fd-0898-4871-b75c-f92ce68dd0c5"
      },
      "outputs": [
        {
          "output_type": "stream",
          "name": "stdout",
          "text": [
            "auc score:  0.6941984656328425\n"
          ]
        }
      ],
      "source": [
        "print(\"auc score: \",metrics.roc_auc_score(y_test,ypred_prob_smote))"
      ]
    },
    {
      "cell_type": "markdown",
      "metadata": {
        "id": "5oJtE7kwF-zS"
      },
      "source": [
        "## **Random Over Sampling**"
      ]
    },
    {
      "cell_type": "code",
      "execution_count": null,
      "metadata": {
        "id": "3DjUC0hQGGCX"
      },
      "outputs": [],
      "source": [
        "# define oversampling strategy\n",
        "oversample = RandomOverSampler(sampling_strategy='minority')\n",
        "# fit and apply the transform\n",
        "X_train_over, y_train_over = oversample.fit_resample(X_train, y_train)"
      ]
    },
    {
      "cell_type": "code",
      "execution_count": null,
      "metadata": {
        "colab": {
          "base_uri": "https://localhost:8080/"
        },
        "id": "R2H5vuqpGG_r",
        "outputId": "3c6b809b-1913-474d-bae1-4be2f0c369de"
      },
      "outputs": [
        {
          "output_type": "execute_result",
          "data": {
            "text/plain": [
              "Counter({0: 226148, 1: 226148})"
            ]
          },
          "metadata": {},
          "execution_count": 84
        }
      ],
      "source": [
        "Counter(y_train_over)"
      ]
    },
    {
      "cell_type": "code",
      "execution_count": null,
      "metadata": {
        "id": "q9iM0arSHjM2"
      },
      "outputs": [],
      "source": [
        "clf_model_over=DecisionTreeClassifier(max_depth=7)"
      ]
    },
    {
      "cell_type": "code",
      "execution_count": null,
      "metadata": {
        "id": "D5WvO4sMIQqZ"
      },
      "outputs": [],
      "source": [
        "clf_model_over.fit(X_train_over,y_train_over)\n",
        "y_predict_train_over=clf_model_over.predict(X_train)\n",
        "y_predict_over=clf_model_over.predict(X_test)\n",
        "ypred_prob_over=clf_model_over.predict_proba(X_test)[::,1]"
      ]
    },
    {
      "cell_type": "code",
      "execution_count": null,
      "metadata": {
        "colab": {
          "base_uri": "https://localhost:8080/",
          "height": 230
        },
        "id": "X9hvK-lE--NX",
        "outputId": "ea11edd8-454f-4d2a-f0f6-2a5ed0a3ffa1"
      },
      "outputs": [
        {
          "output_type": "stream",
          "name": "stdout",
          "text": [
            "Model accuracy score for Decision Tree Classifier: \n",
            "Train set Accuracy:  0.6525804038893044\n",
            "Test set Accuracy:  0.6545859551566591\n",
            "Senstivity:  0.6638469284994964\n",
            "F1 score :  0.23681563443023423\n"
          ]
        },
        {
          "output_type": "execute_result",
          "data": {
            "text/plain": [
              "                                Model type  Train Acc  Test Acc  Senstivity  \\\n",
              "0              Decision tree without SMOTE   0.841895  0.842593    0.360322   \n",
              "1                 Decision tree with SMOTE   0.668808  0.669463    0.620544   \n",
              "2  Decision tree with Random Over Sampling   0.652580  0.654586    0.663847   \n",
              "\n",
              "   f1 score  \n",
              "0  0.269854  \n",
              "1  0.232607  \n",
              "2  0.236816  "
            ],
            "text/html": [
              "\n",
              "  <div id=\"df-e5e52584-0497-4fbb-ae6e-50e5d38630c0\">\n",
              "    <div class=\"colab-df-container\">\n",
              "      <div>\n",
              "<style scoped>\n",
              "    .dataframe tbody tr th:only-of-type {\n",
              "        vertical-align: middle;\n",
              "    }\n",
              "\n",
              "    .dataframe tbody tr th {\n",
              "        vertical-align: top;\n",
              "    }\n",
              "\n",
              "    .dataframe thead th {\n",
              "        text-align: right;\n",
              "    }\n",
              "</style>\n",
              "<table border=\"1\" class=\"dataframe\">\n",
              "  <thead>\n",
              "    <tr style=\"text-align: right;\">\n",
              "      <th></th>\n",
              "      <th>Model type</th>\n",
              "      <th>Train Acc</th>\n",
              "      <th>Test Acc</th>\n",
              "      <th>Senstivity</th>\n",
              "      <th>f1 score</th>\n",
              "    </tr>\n",
              "  </thead>\n",
              "  <tbody>\n",
              "    <tr>\n",
              "      <th>0</th>\n",
              "      <td>Decision tree without SMOTE</td>\n",
              "      <td>0.841895</td>\n",
              "      <td>0.842593</td>\n",
              "      <td>0.360322</td>\n",
              "      <td>0.269854</td>\n",
              "    </tr>\n",
              "    <tr>\n",
              "      <th>1</th>\n",
              "      <td>Decision tree with SMOTE</td>\n",
              "      <td>0.668808</td>\n",
              "      <td>0.669463</td>\n",
              "      <td>0.620544</td>\n",
              "      <td>0.232607</td>\n",
              "    </tr>\n",
              "    <tr>\n",
              "      <th>2</th>\n",
              "      <td>Decision tree with Random Over Sampling</td>\n",
              "      <td>0.652580</td>\n",
              "      <td>0.654586</td>\n",
              "      <td>0.663847</td>\n",
              "      <td>0.236816</td>\n",
              "    </tr>\n",
              "  </tbody>\n",
              "</table>\n",
              "</div>\n",
              "      <button class=\"colab-df-convert\" onclick=\"convertToInteractive('df-e5e52584-0497-4fbb-ae6e-50e5d38630c0')\"\n",
              "              title=\"Convert this dataframe to an interactive table.\"\n",
              "              style=\"display:none;\">\n",
              "        \n",
              "  <svg xmlns=\"http://www.w3.org/2000/svg\" height=\"24px\"viewBox=\"0 0 24 24\"\n",
              "       width=\"24px\">\n",
              "    <path d=\"M0 0h24v24H0V0z\" fill=\"none\"/>\n",
              "    <path d=\"M18.56 5.44l.94 2.06.94-2.06 2.06-.94-2.06-.94-.94-2.06-.94 2.06-2.06.94zm-11 1L8.5 8.5l.94-2.06 2.06-.94-2.06-.94L8.5 2.5l-.94 2.06-2.06.94zm10 10l.94 2.06.94-2.06 2.06-.94-2.06-.94-.94-2.06-.94 2.06-2.06.94z\"/><path d=\"M17.41 7.96l-1.37-1.37c-.4-.4-.92-.59-1.43-.59-.52 0-1.04.2-1.43.59L10.3 9.45l-7.72 7.72c-.78.78-.78 2.05 0 2.83L4 21.41c.39.39.9.59 1.41.59.51 0 1.02-.2 1.41-.59l7.78-7.78 2.81-2.81c.8-.78.8-2.07 0-2.86zM5.41 20L4 18.59l7.72-7.72 1.47 1.35L5.41 20z\"/>\n",
              "  </svg>\n",
              "      </button>\n",
              "      \n",
              "  <style>\n",
              "    .colab-df-container {\n",
              "      display:flex;\n",
              "      flex-wrap:wrap;\n",
              "      gap: 12px;\n",
              "    }\n",
              "\n",
              "    .colab-df-convert {\n",
              "      background-color: #E8F0FE;\n",
              "      border: none;\n",
              "      border-radius: 50%;\n",
              "      cursor: pointer;\n",
              "      display: none;\n",
              "      fill: #1967D2;\n",
              "      height: 32px;\n",
              "      padding: 0 0 0 0;\n",
              "      width: 32px;\n",
              "    }\n",
              "\n",
              "    .colab-df-convert:hover {\n",
              "      background-color: #E2EBFA;\n",
              "      box-shadow: 0px 1px 2px rgba(60, 64, 67, 0.3), 0px 1px 3px 1px rgba(60, 64, 67, 0.15);\n",
              "      fill: #174EA6;\n",
              "    }\n",
              "\n",
              "    [theme=dark] .colab-df-convert {\n",
              "      background-color: #3B4455;\n",
              "      fill: #D2E3FC;\n",
              "    }\n",
              "\n",
              "    [theme=dark] .colab-df-convert:hover {\n",
              "      background-color: #434B5C;\n",
              "      box-shadow: 0px 1px 3px 1px rgba(0, 0, 0, 0.15);\n",
              "      filter: drop-shadow(0px 1px 2px rgba(0, 0, 0, 0.3));\n",
              "      fill: #FFFFFF;\n",
              "    }\n",
              "  </style>\n",
              "\n",
              "      <script>\n",
              "        const buttonEl =\n",
              "          document.querySelector('#df-e5e52584-0497-4fbb-ae6e-50e5d38630c0 button.colab-df-convert');\n",
              "        buttonEl.style.display =\n",
              "          google.colab.kernel.accessAllowed ? 'block' : 'none';\n",
              "\n",
              "        async function convertToInteractive(key) {\n",
              "          const element = document.querySelector('#df-e5e52584-0497-4fbb-ae6e-50e5d38630c0');\n",
              "          const dataTable =\n",
              "            await google.colab.kernel.invokeFunction('convertToInteractive',\n",
              "                                                     [key], {});\n",
              "          if (!dataTable) return;\n",
              "\n",
              "          const docLinkHtml = 'Like what you see? Visit the ' +\n",
              "            '<a target=\"_blank\" href=https://colab.research.google.com/notebooks/data_table.ipynb>data table notebook</a>'\n",
              "            + ' to learn more about interactive tables.';\n",
              "          element.innerHTML = '';\n",
              "          dataTable['output_type'] = 'display_data';\n",
              "          await google.colab.output.renderOutput(dataTable, element);\n",
              "          const docLink = document.createElement('div');\n",
              "          docLink.innerHTML = docLinkHtml;\n",
              "          element.appendChild(docLink);\n",
              "        }\n",
              "      </script>\n",
              "    </div>\n",
              "  </div>\n",
              "  "
            ]
          },
          "metadata": {},
          "execution_count": 87
        }
      ],
      "source": [
        "model_diag(y_predict_train_over,y_predict_over,\"Decision tree with Random Over Sampling\")"
      ]
    },
    {
      "cell_type": "code",
      "execution_count": null,
      "metadata": {
        "colab": {
          "base_uri": "https://localhost:8080/",
          "height": 431
        },
        "id": "1BVoAczaGGzx",
        "outputId": "b64c2299-f230-4859-bd15-e74e16b585bf"
      },
      "outputs": [
        {
          "output_type": "stream",
          "name": "stderr",
          "text": [
            "/usr/local/lib/python3.7/dist-packages/sklearn/utils/deprecation.py:87: FutureWarning: Function plot_confusion_matrix is deprecated; Function `plot_confusion_matrix` is deprecated in 1.0 and will be removed in 1.2. Use one of the class methods: ConfusionMatrixDisplay.from_predictions or ConfusionMatrixDisplay.from_estimator.\n",
            "  warnings.warn(msg, category=FutureWarning)\n"
          ]
        },
        {
          "output_type": "execute_result",
          "data": {
            "text/plain": [
              "<sklearn.metrics._plot.confusion_matrix.ConfusionMatrixDisplay at 0x7f68cd80a3d0>"
            ]
          },
          "metadata": {},
          "execution_count": 89
        },
        {
          "output_type": "display_data",
          "data": {
            "text/plain": [
              "<Figure size 432x432 with 2 Axes>"
            ],
            "image/png": "[encoded data removed]"
          },
          "metadata": {
            "needs_background": "light"
          }
        }
      ],
      "source": [
        "plot_confusion_matrix(clf_model_over,X_test,y_test)"
      ]
    },
    {
      "cell_type": "code",
      "execution_count": null,
      "metadata": {
        "colab": {
          "base_uri": "https://localhost:8080/",
          "height": 405
        },
        "id": "TjZc_ZD1MD-8",
        "outputId": "1ab93bdb-6e2a-476e-e267-382412868b36"
      },
      "outputs": [
        {
          "output_type": "execute_result",
          "data": {
            "text/plain": [
              "Text(0.5, 0, 'False Positive Rate')"
            ]
          },
          "metadata": {},
          "execution_count": 90
        },
        {
          "output_type": "display_data",
          "data": {
            "text/plain": [
              "<Figure size 432x432 with 1 Axes>"
            ],
            "image/png": "[encoded data removed]"
          },
          "metadata": {
            "needs_background": "light"
          }
        }
      ],
      "source": [
        "#ROC curve\n",
        "\n",
        "fpr,tpr,_=metrics.roc_curve(y_test,ypred_prob_over)\n",
        "plt.plot(fpr,tpr)\n",
        "plt.ylabel('True Positive Rate')\n",
        "plt.xlabel('False Positive Rate')"
      ]
    },
    {
      "cell_type": "code",
      "execution_count": null,
      "metadata": {
        "colab": {
          "base_uri": "https://localhost:8080/"
        },
        "id": "t17L7qkGWdVY",
        "outputId": "b7d74c74-3a33-4826-97db-5d7f60bf8bed"
      },
      "outputs": [
        {
          "output_type": "stream",
          "name": "stdout",
          "text": [
            "auc score:  0.7145584249461823\n"
          ]
        }
      ],
      "source": [
        "print(\"auc score: \",metrics.roc_auc_score(y_test,ypred_prob_over))"
      ]
    },
    {
      "cell_type": "markdown",
      "metadata": {
        "id": "hagpjDK58fxW"
      },
      "source": [
        "# **Random Forest Model**"
      ]
    },
    {
      "cell_type": "code",
      "execution_count": null,
      "metadata": {
        "id": "NA4MFs_Ke7PZ"
      },
      "outputs": [],
      "source": [
        "from sklearn.ensemble import RandomForestClassifier"
      ]
    },
    {
      "cell_type": "markdown",
      "metadata": {
        "id": "YiTa6OpwOgLW"
      },
      "source": [
        "### n_estimator"
      ]
    },
    {
      "cell_type": "code",
      "execution_count": null,
      "metadata": {
        "id": "cou66MU7OeCy"
      },
      "outputs": [],
      "source": [
        "# n_ests = np.linspace( 1,201, 41, endpoint=True)\n",
        "# train_results = []\n",
        "# val_results = []\n",
        "# for nest in n_ests:\n",
        "#    rf = RandomForestClassifier(n_estimators=int(nest),max_depth=7,class_weight={0:1,1:6})\n",
        "#    rf.fit(X_train, y_train)\n",
        "#    train_pred = rf.predict(X_train)\n",
        "#    false_positive_rate, true_positive_rate, thresholds = roc_curve(y_train, train_pred)\n",
        "#    roc_auc_train = auc(false_positive_rate, true_positive_rate)\n",
        "#    # Add auc score to previous train results\n",
        "#    train_results.append(roc_auc_train)\n",
        "#    y_pred = rf.predict(X_val)\n",
        "#    false_positive_rate, true_positive_rate, thresholds = roc_curve(y_val, y_pred)\n",
        "#    roc_auc_val = auc(false_positive_rate, true_positive_rate)\n",
        "#    # Add auc score to previous test results\n",
        "#    val_results.append(roc_auc_val)\n"
      ]
    },
    {
      "cell_type": "code",
      "execution_count": null,
      "metadata": {
        "id": "B5a2xj9h7Rd6"
      },
      "outputs": [],
      "source": [
        "# plt.figure(figsize=(15,10))\n",
        "# from matplotlib.legend_handler import HandlerLine2D\n",
        "# line1, = plt.plot(n_ests, train_results, 'b', label=\"Train AUC\")\n",
        "# line2, = plt.plot(n_ests, val_results, 'r', label=\"Val AUC\")\n",
        "# plt.legend(handler_map={line1: HandlerLine2D(numpoints=2)})\n",
        "# plt.ylabel(\"AUC score\")\n",
        "# plt.xlabel(\"No of estimators\")\n",
        "# plt.show()"
      ]
    },
    {
      "cell_type": "markdown",
      "metadata": {
        "id": "hlisBC0tDA0b"
      },
      "source": [
        "since, increasing the no. of estimator, decreases the AUC score. This implies here decision tree would work better than random forest."
      ]
    },
    {
      "cell_type": "code",
      "execution_count": null,
      "metadata": {
        "id": "W4fpFu0_hhyW"
      },
      "outputs": [],
      "source": [
        "# n_ests[val_results.index(max(val_results))]"
      ]
    },
    {
      "cell_type": "code",
      "execution_count": null,
      "metadata": {
        "colab": {
          "base_uri": "https://localhost:8080/",
          "height": 262
        },
        "id": "mIl5fQzzzcHi",
        "outputId": "4855e1ad-1ea6-409d-f60e-c66866966398"
      },
      "outputs": [
        {
          "output_type": "stream",
          "name": "stdout",
          "text": [
            "Model accuracy score for Decision Tree Classifier: \n",
            "Train set Accuracy:  0.8642686416701896\n",
            "Test set Accuracy:  0.8638277807586622\n",
            "Senstivity:  0.31782477341389725\n",
            "F1 score :  0.273696990720666\n"
          ]
        },
        {
          "output_type": "execute_result",
          "data": {
            "text/plain": [
              "                                Model type  Train Acc  Test Acc  Senstivity  \\\n",
              "0              Decision tree without SMOTE   0.841895  0.842593    0.360322   \n",
              "1                 Decision tree with SMOTE   0.668808  0.669463    0.620544   \n",
              "2  Decision tree with Random Over Sampling   0.652580  0.654586    0.663847   \n",
              "3              Random forest without SMOTE   0.864269  0.863828    0.317825   \n",
              "\n",
              "   f1 score  \n",
              "0  0.269854  \n",
              "1  0.232607  \n",
              "2  0.236816  \n",
              "3  0.273697  "
            ],
            "text/html": [
              "\n",
              "  <div id=\"df-09ba40ce-aeb3-4138-b8a4-0e1eca58ceba\">\n",
              "    <div class=\"colab-df-container\">\n",
              "      <div>\n",
              "<style scoped>\n",
              "    .dataframe tbody tr th:only-of-type {\n",
              "        vertical-align: middle;\n",
              "    }\n",
              "\n",
              "    .dataframe tbody tr th {\n",
              "        vertical-align: top;\n",
              "    }\n",
              "\n",
              "    .dataframe thead th {\n",
              "        text-align: right;\n",
              "    }\n",
              "</style>\n",
              "<table border=\"1\" class=\"dataframe\">\n",
              "  <thead>\n",
              "    <tr style=\"text-align: right;\">\n",
              "      <th></th>\n",
              "      <th>Model type</th>\n",
              "      <th>Train Acc</th>\n",
              "      <th>Test Acc</th>\n",
              "      <th>Senstivity</th>\n",
              "      <th>f1 score</th>\n",
              "    </tr>\n",
              "  </thead>\n",
              "  <tbody>\n",
              "    <tr>\n",
              "      <th>0</th>\n",
              "      <td>Decision tree without SMOTE</td>\n",
              "      <td>0.841895</td>\n",
              "      <td>0.842593</td>\n",
              "      <td>0.360322</td>\n",
              "      <td>0.269854</td>\n",
              "    </tr>\n",
              "    <tr>\n",
              "      <th>1</th>\n",
              "      <td>Decision tree with SMOTE</td>\n",
              "      <td>0.668808</td>\n",
              "      <td>0.669463</td>\n",
              "      <td>0.620544</td>\n",
              "      <td>0.232607</td>\n",
              "    </tr>\n",
              "    <tr>\n",
              "      <th>2</th>\n",
              "      <td>Decision tree with Random Over Sampling</td>\n",
              "      <td>0.652580</td>\n",
              "      <td>0.654586</td>\n",
              "      <td>0.663847</td>\n",
              "      <td>0.236816</td>\n",
              "    </tr>\n",
              "    <tr>\n",
              "      <th>3</th>\n",
              "      <td>Random forest without SMOTE</td>\n",
              "      <td>0.864269</td>\n",
              "      <td>0.863828</td>\n",
              "      <td>0.317825</td>\n",
              "      <td>0.273697</td>\n",
              "    </tr>\n",
              "  </tbody>\n",
              "</table>\n",
              "</div>\n",
              "      <button class=\"colab-df-convert\" onclick=\"convertToInteractive('df-09ba40ce-aeb3-4138-b8a4-0e1eca58ceba')\"\n",
              "              title=\"Convert this dataframe to an interactive table.\"\n",
              "              style=\"display:none;\">\n",
              "        \n",
              "  <svg xmlns=\"http://www.w3.org/2000/svg\" height=\"24px\"viewBox=\"0 0 24 24\"\n",
              "       width=\"24px\">\n",
              "    <path d=\"M0 0h24v24H0V0z\" fill=\"none\"/>\n",
              "    <path d=\"M18.56 5.44l.94 2.06.94-2.06 2.06-.94-2.06-.94-.94-2.06-.94 2.06-2.06.94zm-11 1L8.5 8.5l.94-2.06 2.06-.94-2.06-.94L8.5 2.5l-.94 2.06-2.06.94zm10 10l.94 2.06.94-2.06 2.06-.94-2.06-.94-.94-2.06-.94 2.06-2.06.94z\"/><path d=\"M17.41 7.96l-1.37-1.37c-.4-.4-.92-.59-1.43-.59-.52 0-1.04.2-1.43.59L10.3 9.45l-7.72 7.72c-.78.78-.78 2.05 0 2.83L4 21.41c.39.39.9.59 1.41.59.51 0 1.02-.2 1.41-.59l7.78-7.78 2.81-2.81c.8-.78.8-2.07 0-2.86zM5.41 20L4 18.59l7.72-7.72 1.47 1.35L5.41 20z\"/>\n",
              "  </svg>\n",
              "      </button>\n",
              "      \n",
              "  <style>\n",
              "    .colab-df-container {\n",
              "      display:flex;\n",
              "      flex-wrap:wrap;\n",
              "      gap: 12px;\n",
              "    }\n",
              "\n",
              "    .colab-df-convert {\n",
              "      background-color: #E8F0FE;\n",
              "      border: none;\n",
              "      border-radius: 50%;\n",
              "      cursor: pointer;\n",
              "      display: none;\n",
              "      fill: #1967D2;\n",
              "      height: 32px;\n",
              "      padding: 0 0 0 0;\n",
              "      width: 32px;\n",
              "    }\n",
              "\n",
              "    .colab-df-convert:hover {\n",
              "      background-color: #E2EBFA;\n",
              "      box-shadow: 0px 1px 2px rgba(60, 64, 67, 0.3), 0px 1px 3px 1px rgba(60, 64, 67, 0.15);\n",
              "      fill: #174EA6;\n",
              "    }\n",
              "\n",
              "    [theme=dark] .colab-df-convert {\n",
              "      background-color: #3B4455;\n",
              "      fill: #D2E3FC;\n",
              "    }\n",
              "\n",
              "    [theme=dark] .colab-df-convert:hover {\n",
              "      background-color: #434B5C;\n",
              "      box-shadow: 0px 1px 3px 1px rgba(0, 0, 0, 0.15);\n",
              "      filter: drop-shadow(0px 1px 2px rgba(0, 0, 0, 0.3));\n",
              "      fill: #FFFFFF;\n",
              "    }\n",
              "  </style>\n",
              "\n",
              "      <script>\n",
              "        const buttonEl =\n",
              "          document.querySelector('#df-09ba40ce-aeb3-4138-b8a4-0e1eca58ceba button.colab-df-convert');\n",
              "        buttonEl.style.display =\n",
              "          google.colab.kernel.accessAllowed ? 'block' : 'none';\n",
              "\n",
              "        async function convertToInteractive(key) {\n",
              "          const element = document.querySelector('#df-09ba40ce-aeb3-4138-b8a4-0e1eca58ceba');\n",
              "          const dataTable =\n",
              "            await google.colab.kernel.invokeFunction('convertToInteractive',\n",
              "                                                     [key], {});\n",
              "          if (!dataTable) return;\n",
              "\n",
              "          const docLinkHtml = 'Like what you see? Visit the ' +\n",
              "            '<a target=\"_blank\" href=https://colab.research.google.com/notebooks/data_table.ipynb>data table notebook</a>'\n",
              "            + ' to learn more about interactive tables.';\n",
              "          element.innerHTML = '';\n",
              "          dataTable['output_type'] = 'display_data';\n",
              "          await google.colab.output.renderOutput(dataTable, element);\n",
              "          const docLink = document.createElement('div');\n",
              "          docLink.innerHTML = docLinkHtml;\n",
              "          element.appendChild(docLink);\n",
              "        }\n",
              "      </script>\n",
              "    </div>\n",
              "  </div>\n",
              "  "
            ]
          },
          "metadata": {},
          "execution_count": 97
        }
      ],
      "source": [
        "rf_classifier_smote=RandomForestClassifier(n_estimators=36,max_depth=7,class_weight={0:1,1:6})\n",
        "# fit the model\n",
        "rf_classifier_smote.fit(X_train,y_train)\n",
        "ypred_train_smote_rf=rf_classifier_smote.predict(X_train)\n",
        "ypred_smote_rf=rf_classifier_smote.predict(X_test)\n",
        "\n",
        "#Accuracy check on training and testing dataset\n",
        "model_diag(ypred_train_smote_rf,ypred_smote_rf,\"Random forest without SMOTE\")"
      ]
    },
    {
      "cell_type": "markdown",
      "metadata": {
        "id": "FaYvzRpGABuQ"
      },
      "source": [
        "### **SMOTE**"
      ]
    },
    {
      "cell_type": "code",
      "execution_count": null,
      "metadata": {
        "id": "_riZbl0h_pQx"
      },
      "outputs": [],
      "source": [
        "# instantiate the model\n",
        "rf_classifier_smote=RandomForestClassifier(n_estimators=36,max_depth=7)\n",
        "\n",
        "# fit the model\n",
        "rf_classifier_smote.fit(X_train_smote,y_train_smote)\n",
        "ypred_smote_rf=rf_classifier_smote.predict(X_test)"
      ]
    },
    {
      "cell_type": "code",
      "execution_count": null,
      "metadata": {
        "colab": {
          "base_uri": "https://localhost:8080/",
          "height": 293
        },
        "id": "8_a2mMPTANoT",
        "outputId": "a180faf5-d3c8-48e5-90a3-7d349ee0dc2b"
      },
      "outputs": [
        {
          "output_type": "stream",
          "name": "stdout",
          "text": [
            "Model accuracy score for Decision Tree Classifier: \n",
            "Train set Accuracy:  0.6921685473643133\n",
            "Test set Accuracy:  0.6944701884460921\n",
            "Senstivity:  0.6298086606243706\n",
            "F1 score :  0.24971052106208824\n"
          ]
        },
        {
          "output_type": "execute_result",
          "data": {
            "text/plain": [
              "                                Model type  Train Acc  Test Acc  Senstivity  \\\n",
              "0              Decision tree without SMOTE   0.841895  0.842593    0.360322   \n",
              "1                 Decision tree with SMOTE   0.668808  0.669463    0.620544   \n",
              "2  Decision tree with Random Over Sampling   0.652580  0.654586    0.663847   \n",
              "3              Random forest without SMOTE   0.864269  0.863828    0.317825   \n",
              "4                 Random forest with SMOTE   0.692169  0.694470    0.629809   \n",
              "\n",
              "   f1 score  \n",
              "0  0.269854  \n",
              "1  0.232607  \n",
              "2  0.236816  \n",
              "3  0.273697  \n",
              "4  0.249711  "
            ],
            "text/html": [
              "\n",
              "  <div id=\"df-c19e0943-40ef-4356-bf51-23de7121b2c0\">\n",
              "    <div class=\"colab-df-container\">\n",
              "      <div>\n",
              "<style scoped>\n",
              "    .dataframe tbody tr th:only-of-type {\n",
              "        vertical-align: middle;\n",
              "    }\n",
              "\n",
              "    .dataframe tbody tr th {\n",
              "        vertical-align: top;\n",
              "    }\n",
              "\n",
              "    .dataframe thead th {\n",
              "        text-align: right;\n",
              "    }\n",
              "</style>\n",
              "<table border=\"1\" class=\"dataframe\">\n",
              "  <thead>\n",
              "    <tr style=\"text-align: right;\">\n",
              "      <th></th>\n",
              "      <th>Model type</th>\n",
              "      <th>Train Acc</th>\n",
              "      <th>Test Acc</th>\n",
              "      <th>Senstivity</th>\n",
              "      <th>f1 score</th>\n",
              "    </tr>\n",
              "  </thead>\n",
              "  <tbody>\n",
              "    <tr>\n",
              "      <th>0</th>\n",
              "      <td>Decision tree without SMOTE</td>\n",
              "      <td>0.841895</td>\n",
              "      <td>0.842593</td>\n",
              "      <td>0.360322</td>\n",
              "      <td>0.269854</td>\n",
              "    </tr>\n",
              "    <tr>\n",
              "      <th>1</th>\n",
              "      <td>Decision tree with SMOTE</td>\n",
              "      <td>0.668808</td>\n",
              "      <td>0.669463</td>\n",
              "      <td>0.620544</td>\n",
              "      <td>0.232607</td>\n",
              "    </tr>\n",
              "    <tr>\n",
              "      <th>2</th>\n",
              "      <td>Decision tree with Random Over Sampling</td>\n",
              "      <td>0.652580</td>\n",
              "      <td>0.654586</td>\n",
              "      <td>0.663847</td>\n",
              "      <td>0.236816</td>\n",
              "    </tr>\n",
              "    <tr>\n",
              "      <th>3</th>\n",
              "      <td>Random forest without SMOTE</td>\n",
              "      <td>0.864269</td>\n",
              "      <td>0.863828</td>\n",
              "      <td>0.317825</td>\n",
              "      <td>0.273697</td>\n",
              "    </tr>\n",
              "    <tr>\n",
              "      <th>4</th>\n",
              "      <td>Random forest with SMOTE</td>\n",
              "      <td>0.692169</td>\n",
              "      <td>0.694470</td>\n",
              "      <td>0.629809</td>\n",
              "      <td>0.249711</td>\n",
              "    </tr>\n",
              "  </tbody>\n",
              "</table>\n",
              "</div>\n",
              "      <button class=\"colab-df-convert\" onclick=\"convertToInteractive('df-c19e0943-40ef-4356-bf51-23de7121b2c0')\"\n",
              "              title=\"Convert this dataframe to an interactive table.\"\n",
              "              style=\"display:none;\">\n",
              "        \n",
              "  <svg xmlns=\"http://www.w3.org/2000/svg\" height=\"24px\"viewBox=\"0 0 24 24\"\n",
              "       width=\"24px\">\n",
              "    <path d=\"M0 0h24v24H0V0z\" fill=\"none\"/>\n",
              "    <path d=\"M18.56 5.44l.94 2.06.94-2.06 2.06-.94-2.06-.94-.94-2.06-.94 2.06-2.06.94zm-11 1L8.5 8.5l.94-2.06 2.06-.94-2.06-.94L8.5 2.5l-.94 2.06-2.06.94zm10 10l.94 2.06.94-2.06 2.06-.94-2.06-.94-.94-2.06-.94 2.06-2.06.94z\"/><path d=\"M17.41 7.96l-1.37-1.37c-.4-.4-.92-.59-1.43-.59-.52 0-1.04.2-1.43.59L10.3 9.45l-7.72 7.72c-.78.78-.78 2.05 0 2.83L4 21.41c.39.39.9.59 1.41.59.51 0 1.02-.2 1.41-.59l7.78-7.78 2.81-2.81c.8-.78.8-2.07 0-2.86zM5.41 20L4 18.59l7.72-7.72 1.47 1.35L5.41 20z\"/>\n",
              "  </svg>\n",
              "      </button>\n",
              "      \n",
              "  <style>\n",
              "    .colab-df-container {\n",
              "      display:flex;\n",
              "      flex-wrap:wrap;\n",
              "      gap: 12px;\n",
              "    }\n",
              "\n",
              "    .colab-df-convert {\n",
              "      background-color: #E8F0FE;\n",
              "      border: none;\n",
              "      border-radius: 50%;\n",
              "      cursor: pointer;\n",
              "      display: none;\n",
              "      fill: #1967D2;\n",
              "      height: 32px;\n",
              "      padding: 0 0 0 0;\n",
              "      width: 32px;\n",
              "    }\n",
              "\n",
              "    .colab-df-convert:hover {\n",
              "      background-color: #E2EBFA;\n",
              "      box-shadow: 0px 1px 2px rgba(60, 64, 67, 0.3), 0px 1px 3px 1px rgba(60, 64, 67, 0.15);\n",
              "      fill: #174EA6;\n",
              "    }\n",
              "\n",
              "    [theme=dark] .colab-df-convert {\n",
              "      background-color: #3B4455;\n",
              "      fill: #D2E3FC;\n",
              "    }\n",
              "\n",
              "    [theme=dark] .colab-df-convert:hover {\n",
              "      background-color: #434B5C;\n",
              "      box-shadow: 0px 1px 3px 1px rgba(0, 0, 0, 0.15);\n",
              "      filter: drop-shadow(0px 1px 2px rgba(0, 0, 0, 0.3));\n",
              "      fill: #FFFFFF;\n",
              "    }\n",
              "  </style>\n",
              "\n",
              "      <script>\n",
              "        const buttonEl =\n",
              "          document.querySelector('#df-c19e0943-40ef-4356-bf51-23de7121b2c0 button.colab-df-convert');\n",
              "        buttonEl.style.display =\n",
              "          google.colab.kernel.accessAllowed ? 'block' : 'none';\n",
              "\n",
              "        async function convertToInteractive(key) {\n",
              "          const element = document.querySelector('#df-c19e0943-40ef-4356-bf51-23de7121b2c0');\n",
              "          const dataTable =\n",
              "            await google.colab.kernel.invokeFunction('convertToInteractive',\n",
              "                                                     [key], {});\n",
              "          if (!dataTable) return;\n",
              "\n",
              "          const docLinkHtml = 'Like what you see? Visit the ' +\n",
              "            '<a target=\"_blank\" href=https://colab.research.google.com/notebooks/data_table.ipynb>data table notebook</a>'\n",
              "            + ' to learn more about interactive tables.';\n",
              "          element.innerHTML = '';\n",
              "          dataTable['output_type'] = 'display_data';\n",
              "          await google.colab.output.renderOutput(dataTable, element);\n",
              "          const docLink = document.createElement('div');\n",
              "          docLink.innerHTML = docLinkHtml;\n",
              "          element.appendChild(docLink);\n",
              "        }\n",
              "      </script>\n",
              "    </div>\n",
              "  </div>\n",
              "  "
            ]
          },
          "metadata": {},
          "execution_count": 99
        }
      ],
      "source": [
        "ypred_train_smote_rf=rf_classifier_smote.predict(X_train)\n",
        "#Accuracy check on training and testing dataset\n",
        "model_diag(ypred_train_smote_rf,ypred_smote_rf,\"Random forest with SMOTE\")\n"
      ]
    },
    {
      "cell_type": "code",
      "execution_count": null,
      "metadata": {
        "colab": {
          "base_uri": "https://localhost:8080/",
          "height": 431
        },
        "id": "Kzpean8hA54K",
        "outputId": "f679c650-43c0-4b23-9775-2a7edbedbc59"
      },
      "outputs": [
        {
          "output_type": "stream",
          "name": "stderr",
          "text": [
            "/usr/local/lib/python3.7/dist-packages/sklearn/utils/deprecation.py:87: FutureWarning: Function plot_confusion_matrix is deprecated; Function `plot_confusion_matrix` is deprecated in 1.0 and will be removed in 1.2. Use one of the class methods: ConfusionMatrixDisplay.from_predictions or ConfusionMatrixDisplay.from_estimator.\n",
            "  warnings.warn(msg, category=FutureWarning)\n"
          ]
        },
        {
          "output_type": "execute_result",
          "data": {
            "text/plain": [
              "<sklearn.metrics._plot.confusion_matrix.ConfusionMatrixDisplay at 0x7f68cd6af4d0>"
            ]
          },
          "metadata": {},
          "execution_count": 100
        },
        {
          "output_type": "display_data",
          "data": {
            "text/plain": [
              "<Figure size 432x432 with 2 Axes>"
            ],
            "image/png": "[encoded data removed]"
          },
          "metadata": {
            "needs_background": "light"
          }
        }
      ],
      "source": [
        "plot_confusion_matrix(rf_classifier_smote,X_test,y_test)"
      ]
    },
    {
      "cell_type": "code",
      "execution_count": null,
      "metadata": {
        "colab": {
          "base_uri": "https://localhost:8080/",
          "height": 405
        },
        "id": "5tz7W-vVCMNr",
        "outputId": "1e886dfd-fde0-45fd-d8c9-9769e865b3cd"
      },
      "outputs": [
        {
          "output_type": "execute_result",
          "data": {
            "text/plain": [
              "Text(0.5, 0, 'False Positive Rate')"
            ]
          },
          "metadata": {},
          "execution_count": 101
        },
        {
          "output_type": "display_data",
          "data": {
            "text/plain": [
              "<Figure size 432x432 with 1 Axes>"
            ],
            "image/png": "[encoded data removed]"
          },
          "metadata": {
            "needs_background": "light"
          }
        }
      ],
      "source": [
        "#ROC curve\n",
        "ypred_smote_prob=rf_classifier_smote.predict_proba(X_test)[::,1]\n",
        "fpr,tpr,_=metrics.roc_curve(y_test,ypred_smote_prob)\n",
        "plt.plot(fpr,tpr)\n",
        "plt.ylabel('True Positive Rate')\n",
        "plt.xlabel('False Positive Rate')"
      ]
    },
    {
      "cell_type": "code",
      "execution_count": null,
      "metadata": {
        "colab": {
          "base_uri": "https://localhost:8080/"
        },
        "id": "MZU5PSQiCYay",
        "outputId": "77da3e82-52ef-4782-98cd-02926b2961ca"
      },
      "outputs": [
        {
          "output_type": "execute_result",
          "data": {
            "text/plain": [
              "0.7222031634865118"
            ]
          },
          "metadata": {},
          "execution_count": 102
        }
      ],
      "source": [
        "auc=metrics.roc_auc_score(y_test,ypred_smote_prob)\n",
        "auc"
      ]
    },
    {
      "cell_type": "markdown",
      "metadata": {
        "id": "lmNrycxZBPMW"
      },
      "source": [
        "### **Oversampling**"
      ]
    },
    {
      "cell_type": "code",
      "execution_count": null,
      "metadata": {
        "id": "PC15x8mOBPMX"
      },
      "outputs": [],
      "source": [
        "# instantiate the model\n",
        "rf_classifier_over=RandomForestClassifier(n_estimators=36,max_depth=7)\n",
        "\n",
        "# fit the model\n",
        "rf_classifier_over.fit(X_train_over,y_train_over)\n",
        "ypred_over-train_rf=rf_classifier_over.predict(X_train)\n",
        "ypred_over_rf=rf_classifier_over.predict(X_test)\n"
      ]
    },
    {
      "cell_type": "code",
      "execution_count": null,
      "metadata": {
        "colab": {
          "base_uri": "https://localhost:8080/",
          "height": 183
        },
        "id": "5my1uR4tBPMY",
        "outputId": "503b8226-c8e0-47ea-fd17-504ce7116c0e"
      },
      "outputs": [
        {
          "output_type": "error",
          "ename": "NameError",
          "evalue": "ignored",
          "traceback": [
            "\u001b[0;31m---------------------------------------------------------------------------\u001b[0m",
            "\u001b[0;31mNameError\u001b[0m                                 Traceback (most recent call last)",
            "\u001b[0;32m<ipython-input-105-74280a4256c4>\u001b[0m in \u001b[0;36m<module>\u001b[0;34m\u001b[0m\n\u001b[1;32m      1\u001b[0m \u001b[0;31m#Accuracy check on training and testing dataset\u001b[0m\u001b[0;34m\u001b[0m\u001b[0;34m\u001b[0m\u001b[0;34m\u001b[0m\u001b[0m\n\u001b[0;32m----> 2\u001b[0;31m \u001b[0mmodel_diag\u001b[0m\u001b[0;34m(\u001b[0m\u001b[0mypred_over\u001b[0m\u001b[0;34m-\u001b[0m\u001b[0mtrain_rf\u001b[0m\u001b[0;34m,\u001b[0m\u001b[0mypred_over_rf\u001b[0m\u001b[0;34m,\u001b[0m\u001b[0;34m\"Random forest with Random Over Sampling\"\u001b[0m\u001b[0;34m)\u001b[0m\u001b[0;34m\u001b[0m\u001b[0;34m\u001b[0m\u001b[0m\n\u001b[0m",
            "\u001b[0;31mNameError\u001b[0m: name 'ypred_over' is not defined"
          ]
        }
      ],
      "source": [
        "#Accuracy check on training and testing dataset\n",
        "model_diag(ypred_over-train_rf,ypred_over_rf,\"Random forest with Random Over Sampling\")"
      ]
    },
    {
      "cell_type": "code",
      "execution_count": null,
      "metadata": {
        "colab": {
          "base_uri": "https://localhost:8080/",
          "height": 431
        },
        "id": "FyV14fjjBPMZ",
        "outputId": "ca94fcc1-100e-4c48-f7be-8e4dfffabf4e"
      },
      "outputs": [
        {
          "output_type": "stream",
          "name": "stderr",
          "text": [
            "/usr/local/lib/python3.7/dist-packages/sklearn/utils/deprecation.py:87: FutureWarning: Function plot_confusion_matrix is deprecated; Function `plot_confusion_matrix` is deprecated in 1.0 and will be removed in 1.2. Use one of the class methods: ConfusionMatrixDisplay.from_predictions or ConfusionMatrixDisplay.from_estimator.\n",
            "  warnings.warn(msg, category=FutureWarning)\n"
          ]
        },
        {
          "output_type": "execute_result",
          "data": {
            "text/plain": [
              "<sklearn.metrics._plot.confusion_matrix.ConfusionMatrixDisplay at 0x7f68cd71b4d0>"
            ]
          },
          "metadata": {},
          "execution_count": 106
        },
        {
          "output_type": "display_data",
          "data": {
            "text/plain": [
              "<Figure size 432x432 with 2 Axes>"
            ],
            "image/png": "[encoded data removed]"
          },
          "metadata": {
            "needs_background": "light"
          }
        }
      ],
      "source": [
        "plot_confusion_matrix(rf_classifier_over,X_test,y_test)"
      ]
    },
    {
      "cell_type": "code",
      "execution_count": null,
      "metadata": {
        "colab": {
          "base_uri": "https://localhost:8080/",
          "height": 405
        },
        "id": "_ai0CGG-CAD0",
        "outputId": "7f1e7187-9b33-48f0-e901-75302b61c3cc"
      },
      "outputs": [
        {
          "output_type": "execute_result",
          "data": {
            "text/plain": [
              "Text(0.5, 0, 'False Positive Rate')"
            ]
          },
          "metadata": {},
          "execution_count": 107
        },
        {
          "output_type": "display_data",
          "data": {
            "text/plain": [
              "<Figure size 432x432 with 1 Axes>"
            ],
            "image/png": "[encoded data removed]"
          },
          "metadata": {
            "needs_background": "light"
          }
        }
      ],
      "source": [
        "#ROC curve\n",
        "ypred_over_prob=rf_classifier_over.predict_proba(X_test)[::,1]\n",
        "fpr,tpr,_=metrics.roc_curve(y_test,ypred_over_prob)\n",
        "plt.plot(fpr,tpr)\n",
        "plt.ylabel('True Positive Rate')\n",
        "plt.xlabel('False Positive Rate')"
      ]
    },
    {
      "cell_type": "code",
      "execution_count": null,
      "metadata": {
        "colab": {
          "base_uri": "https://localhost:8080/"
        },
        "id": "eRem-UQBCa6Q",
        "outputId": "82267bc6-68f5-4458-f972-592dd4dd86d7"
      },
      "outputs": [
        {
          "output_type": "execute_result",
          "data": {
            "text/plain": [
              "0.7273230310001557"
            ]
          },
          "metadata": {},
          "execution_count": 108
        }
      ],
      "source": [
        "\n",
        "auc=metrics.roc_auc_score(y_test,ypred_over_prob)\n",
        "auc"
      ]
    },
    {
      "cell_type": "markdown",
      "metadata": {
        "id": "KAS1397jEGmJ"
      },
      "source": [
        "\n",
        "# **Naive Bayes Classifer**"
      ]
    },
    {
      "cell_type": "code",
      "execution_count": null,
      "metadata": {
        "id": "v2CtcxkJELpH"
      },
      "outputs": [],
      "source": [
        "from sklearn.naive_bayes import GaussianNB"
      ]
    },
    {
      "cell_type": "code",
      "execution_count": null,
      "metadata": {
        "id": "dzD3hXAQEMHw"
      },
      "outputs": [],
      "source": [
        "gnb=GaussianNB()"
      ]
    },
    {
      "cell_type": "code",
      "execution_count": null,
      "metadata": {
        "colab": {
          "base_uri": "https://localhost:8080/"
        },
        "id": "tSikdc3FEMDT",
        "outputId": "5a43d02f-21a6-4e87-8e88-c968b1634e73"
      },
      "outputs": [
        {
          "output_type": "execute_result",
          "data": {
            "text/plain": [
              "((246008, 57), (61503, 57))"
            ]
          },
          "metadata": {},
          "execution_count": 111
        }
      ],
      "source": [
        "X_train, X_test, y_train, y_test = train_test_split(X, y, test_size = 0.2, random_state = 44)\n",
        "X_train.shape, X_test.shape"
      ]
    },
    {
      "cell_type": "code",
      "execution_count": null,
      "metadata": {
        "id": "grM3f2RuEMBG"
      },
      "outputs": [],
      "source": [
        "gnb.fit(X_train,y_train)\n",
        "ypred_train_gnb=gnb.predict(X_train)\n",
        "ypred_gnb=gnb.predict(X_test)"
      ]
    },
    {
      "cell_type": "code",
      "execution_count": null,
      "metadata": {
        "colab": {
          "base_uri": "https://localhost:8080/",
          "height": 324
        },
        "id": "ZFUWMf9T3vMm",
        "outputId": "8b8c93c0-6649-4a22-9433-51496e5deb33"
      },
      "outputs": [
        {
          "output_type": "stream",
          "name": "stdout",
          "text": [
            "Model accuracy score for Decision Tree Classifier: \n",
            "Train set Accuracy:  0.2747837468700205\n",
            "Test set Accuracy:  0.27744988049363445\n",
            "Senstivity:  0.9079754601226994\n",
            "F1 score :  0.17114613447729182\n"
          ]
        },
        {
          "output_type": "execute_result",
          "data": {
            "text/plain": [
              "                                Model type  Train Acc  Test Acc  Senstivity  \\\n",
              "0              Decision tree without SMOTE   0.841895  0.842593    0.360322   \n",
              "1                 Decision tree with SMOTE   0.668808  0.669463    0.620544   \n",
              "2  Decision tree with Random Over Sampling   0.652580  0.654586    0.663847   \n",
              "3              Random forest without SMOTE   0.864269  0.863828    0.317825   \n",
              "4                 Random forest with SMOTE   0.692169  0.694470    0.629809   \n",
              "5                        Gauss Naive Bayes   0.274784  0.277450    0.907975   \n",
              "\n",
              "   f1 score  \n",
              "0  0.269854  \n",
              "1  0.232607  \n",
              "2  0.236816  \n",
              "3  0.273697  \n",
              "4  0.249711  \n",
              "5  0.171146  "
            ],
            "text/html": [
              "\n",
              "  <div id=\"df-331443bd-19ce-4150-9bd1-512d9b1fe9af\">\n",
              "    <div class=\"colab-df-container\">\n",
              "      <div>\n",
              "<style scoped>\n",
              "    .dataframe tbody tr th:only-of-type {\n",
              "        vertical-align: middle;\n",
              "    }\n",
              "\n",
              "    .dataframe tbody tr th {\n",
              "        vertical-align: top;\n",
              "    }\n",
              "\n",
              "    .dataframe thead th {\n",
              "        text-align: right;\n",
              "    }\n",
              "</style>\n",
              "<table border=\"1\" class=\"dataframe\">\n",
              "  <thead>\n",
              "    <tr style=\"text-align: right;\">\n",
              "      <th></th>\n",
              "      <th>Model type</th>\n",
              "      <th>Train Acc</th>\n",
              "      <th>Test Acc</th>\n",
              "      <th>Senstivity</th>\n",
              "      <th>f1 score</th>\n",
              "    </tr>\n",
              "  </thead>\n",
              "  <tbody>\n",
              "    <tr>\n",
              "      <th>0</th>\n",
              "      <td>Decision tree without SMOTE</td>\n",
              "      <td>0.841895</td>\n",
              "      <td>0.842593</td>\n",
              "      <td>0.360322</td>\n",
              "      <td>0.269854</td>\n",
              "    </tr>\n",
              "    <tr>\n",
              "      <th>1</th>\n",
              "      <td>Decision tree with SMOTE</td>\n",
              "      <td>0.668808</td>\n",
              "      <td>0.669463</td>\n",
              "      <td>0.620544</td>\n",
              "      <td>0.232607</td>\n",
              "    </tr>\n",
              "    <tr>\n",
              "      <th>2</th>\n",
              "      <td>Decision tree with Random Over Sampling</td>\n",
              "      <td>0.652580</td>\n",
              "      <td>0.654586</td>\n",
              "      <td>0.663847</td>\n",
              "      <td>0.236816</td>\n",
              "    </tr>\n",
              "    <tr>\n",
              "      <th>3</th>\n",
              "      <td>Random forest without SMOTE</td>\n",
              "      <td>0.864269</td>\n",
              "      <td>0.863828</td>\n",
              "      <td>0.317825</td>\n",
              "      <td>0.273697</td>\n",
              "    </tr>\n",
              "    <tr>\n",
              "      <th>4</th>\n",
              "      <td>Random forest with SMOTE</td>\n",
              "      <td>0.692169</td>\n",
              "      <td>0.694470</td>\n",
              "      <td>0.629809</td>\n",
              "      <td>0.249711</td>\n",
              "    </tr>\n",
              "    <tr>\n",
              "      <th>5</th>\n",
              "      <td>Gauss Naive Bayes</td>\n",
              "      <td>0.274784</td>\n",
              "      <td>0.277450</td>\n",
              "      <td>0.907975</td>\n",
              "      <td>0.171146</td>\n",
              "    </tr>\n",
              "  </tbody>\n",
              "</table>\n",
              "</div>\n",
              "      <button class=\"colab-df-convert\" onclick=\"convertToInteractive('df-331443bd-19ce-4150-9bd1-512d9b1fe9af')\"\n",
              "              title=\"Convert this dataframe to an interactive table.\"\n",
              "              style=\"display:none;\">\n",
              "        \n",
              "  <svg xmlns=\"http://www.w3.org/2000/svg\" height=\"24px\"viewBox=\"0 0 24 24\"\n",
              "       width=\"24px\">\n",
              "    <path d=\"M0 0h24v24H0V0z\" fill=\"none\"/>\n",
              "    <path d=\"M18.56 5.44l.94 2.06.94-2.06 2.06-.94-2.06-.94-.94-2.06-.94 2.06-2.06.94zm-11 1L8.5 8.5l.94-2.06 2.06-.94-2.06-.94L8.5 2.5l-.94 2.06-2.06.94zm10 10l.94 2.06.94-2.06 2.06-.94-2.06-.94-.94-2.06-.94 2.06-2.06.94z\"/><path d=\"M17.41 7.96l-1.37-1.37c-.4-.4-.92-.59-1.43-.59-.52 0-1.04.2-1.43.59L10.3 9.45l-7.72 7.72c-.78.78-.78 2.05 0 2.83L4 21.41c.39.39.9.59 1.41.59.51 0 1.02-.2 1.41-.59l7.78-7.78 2.81-2.81c.8-.78.8-2.07 0-2.86zM5.41 20L4 18.59l7.72-7.72 1.47 1.35L5.41 20z\"/>\n",
              "  </svg>\n",
              "      </button>\n",
              "      \n",
              "  <style>\n",
              "    .colab-df-container {\n",
              "      display:flex;\n",
              "      flex-wrap:wrap;\n",
              "      gap: 12px;\n",
              "    }\n",
              "\n",
              "    .colab-df-convert {\n",
              "      background-color: #E8F0FE;\n",
              "      border: none;\n",
              "      border-radius: 50%;\n",
              "      cursor: pointer;\n",
              "      display: none;\n",
              "      fill: #1967D2;\n",
              "      height: 32px;\n",
              "      padding: 0 0 0 0;\n",
              "      width: 32px;\n",
              "    }\n",
              "\n",
              "    .colab-df-convert:hover {\n",
              "      background-color: #E2EBFA;\n",
              "      box-shadow: 0px 1px 2px rgba(60, 64, 67, 0.3), 0px 1px 3px 1px rgba(60, 64, 67, 0.15);\n",
              "      fill: #174EA6;\n",
              "    }\n",
              "\n",
              "    [theme=dark] .colab-df-convert {\n",
              "      background-color: #3B4455;\n",
              "      fill: #D2E3FC;\n",
              "    }\n",
              "\n",
              "    [theme=dark] .colab-df-convert:hover {\n",
              "      background-color: #434B5C;\n",
              "      box-shadow: 0px 1px 3px 1px rgba(0, 0, 0, 0.15);\n",
              "      filter: drop-shadow(0px 1px 2px rgba(0, 0, 0, 0.3));\n",
              "      fill: #FFFFFF;\n",
              "    }\n",
              "  </style>\n",
              "\n",
              "      <script>\n",
              "        const buttonEl =\n",
              "          document.querySelector('#df-331443bd-19ce-4150-9bd1-512d9b1fe9af button.colab-df-convert');\n",
              "        buttonEl.style.display =\n",
              "          google.colab.kernel.accessAllowed ? 'block' : 'none';\n",
              "\n",
              "        async function convertToInteractive(key) {\n",
              "          const element = document.querySelector('#df-331443bd-19ce-4150-9bd1-512d9b1fe9af');\n",
              "          const dataTable =\n",
              "            await google.colab.kernel.invokeFunction('convertToInteractive',\n",
              "                                                     [key], {});\n",
              "          if (!dataTable) return;\n",
              "\n",
              "          const docLinkHtml = 'Like what you see? Visit the ' +\n",
              "            '<a target=\"_blank\" href=https://colab.research.google.com/notebooks/data_table.ipynb>data table notebook</a>'\n",
              "            + ' to learn more about interactive tables.';\n",
              "          element.innerHTML = '';\n",
              "          dataTable['output_type'] = 'display_data';\n",
              "          await google.colab.output.renderOutput(dataTable, element);\n",
              "          const docLink = document.createElement('div');\n",
              "          docLink.innerHTML = docLinkHtml;\n",
              "          element.appendChild(docLink);\n",
              "        }\n",
              "      </script>\n",
              "    </div>\n",
              "  </div>\n",
              "  "
            ]
          },
          "metadata": {},
          "execution_count": 113
        }
      ],
      "source": [
        "model_diag(ypred_train_gnb,ypred_gnb,\"Gauss Naive Bayes\")"
      ]
    },
    {
      "cell_type": "code",
      "execution_count": null,
      "metadata": {
        "colab": {
          "base_uri": "https://localhost:8080/",
          "height": 431
        },
        "id": "0I0CbP0xHR3J",
        "outputId": "0038f1ea-b79d-423a-860a-90a142ab354b"
      },
      "outputs": [
        {
          "output_type": "stream",
          "name": "stderr",
          "text": [
            "/usr/local/lib/python3.7/dist-packages/sklearn/utils/deprecation.py:87: FutureWarning: Function plot_confusion_matrix is deprecated; Function `plot_confusion_matrix` is deprecated in 1.0 and will be removed in 1.2. Use one of the class methods: ConfusionMatrixDisplay.from_predictions or ConfusionMatrixDisplay.from_estimator.\n",
            "  warnings.warn(msg, category=FutureWarning)\n"
          ]
        },
        {
          "output_type": "execute_result",
          "data": {
            "text/plain": [
              "<sklearn.metrics._plot.confusion_matrix.ConfusionMatrixDisplay at 0x7f68cd5ce7d0>"
            ]
          },
          "metadata": {},
          "execution_count": 114
        },
        {
          "output_type": "display_data",
          "data": {
            "text/plain": [
              "<Figure size 432x432 with 2 Axes>"
            ],
            "image/png": "[encoded data removed]"
          },
          "metadata": {
            "needs_background": "light"
          }
        }
      ],
      "source": [
        "plot_confusion_matrix(gnb,X_test,y_test)"
      ]
    },
    {
      "cell_type": "code",
      "execution_count": null,
      "metadata": {
        "colab": {
          "base_uri": "https://localhost:8080/",
          "height": 405
        },
        "id": "B83oifEQEL4t",
        "outputId": "9103b94e-14ec-47db-dc8c-69643504110a"
      },
      "outputs": [
        {
          "output_type": "execute_result",
          "data": {
            "text/plain": [
              "Text(0.5, 0, 'False Positive Rate')"
            ]
          },
          "metadata": {},
          "execution_count": 115
        },
        {
          "output_type": "display_data",
          "data": {
            "text/plain": [
              "<Figure size 432x432 with 1 Axes>"
            ],
            "image/png": "[encoded data removed]"
          },
          "metadata": {
            "needs_background": "light"
          }
        }
      ],
      "source": [
        "#ROC curve\n",
        "ypred_prob=gnb.predict_proba(X_test)[::,1]\n",
        "fpr,tpr,_=metrics.roc_curve(y_test,ypred_prob)\n",
        "plt.plot(fpr,tpr)\n",
        "plt.ylabel('True Positive Rate')\n",
        "plt.xlabel('False Positive Rate')"
      ]
    },
    {
      "cell_type": "code",
      "execution_count": null,
      "metadata": {
        "colab": {
          "base_uri": "https://localhost:8080/"
        },
        "id": "3mhn17H4EL2B",
        "outputId": "6516f325-f14c-4a09-ba72-e8de6dd965cb"
      },
      "outputs": [
        {
          "output_type": "execute_result",
          "data": {
            "text/plain": [
              "0.6621781165702019"
            ]
          },
          "metadata": {},
          "execution_count": 116
        }
      ],
      "source": [
        "auc=metrics.roc_auc_score(y_test,ypred_prob)\n",
        "auc"
      ]
    },
    {
      "cell_type": "markdown",
      "metadata": {
        "id": "OUHHw0T7nGx1"
      },
      "source": [
        "# **XG Boost**"
      ]
    },
    {
      "cell_type": "code",
      "execution_count": null,
      "metadata": {
        "id": "FRhPgMt2irW6"
      },
      "outputs": [],
      "source": [
        "from sklearn.model_selection import cross_val_score\n",
        "from sklearn.model_selection import RepeatedStratifiedKFold\n",
        "from sklearn.model_selection import GridSearchCV\n",
        "from xgboost import XGBClassifier\n",
        "xgb=XGBClassifier()\n"
      ]
    },
    {
      "cell_type": "code",
      "execution_count": null,
      "metadata": {
        "colab": {
          "base_uri": "https://localhost:8080/"
        },
        "id": "mUpP4zQPoERn",
        "outputId": "148b7fd5-010c-4323-c4e8-fd3597081578"
      },
      "outputs": [
        {
          "output_type": "execute_result",
          "data": {
            "text/plain": [
              "((246008, 16), (61503, 16))"
            ]
          },
          "metadata": {},
          "execution_count": 118
        }
      ],
      "source": [
        "X_train, X_test, y_train, y_test = train_test_split(X_final, y, test_size = 0.2, random_state = 84,stratify=y)\n",
        "X_train.shape, X_test.shape\n"
      ]
    },
    {
      "cell_type": "code",
      "execution_count": null,
      "metadata": {
        "id": "nEgke1EE2M1q"
      },
      "outputs": [],
      "source": [
        "# define grid\n",
        "weights = [1, 10, 25, 50,\n",
        "           75, 100]\n",
        "param_grid = dict(scale_pos_weight=weights)\n"
      ]
    },
    {
      "cell_type": "code",
      "execution_count": null,
      "metadata": {
        "id": "nbXNAbez2d98",
        "colab": {
          "base_uri": "https://localhost:8080/",
          "height": 345
        },
        "outputId": "696e1f5e-80ca-46d3-d7f5-ee5962756d4d"
      },
      "outputs": [
        {
          "output_type": "error",
          "ename": "KeyboardInterrupt",
          "evalue": "ignored",
          "traceback": [
            "\u001b[0;31m---------------------------------------------------------------------------\u001b[0m",
            "\u001b[0;31mKeyboardInterrupt\u001b[0m                         Traceback (most recent call last)",
            "\u001b[0;32m<ipython-input-120-aa1ff383c021>\u001b[0m in \u001b[0;36m<module>\u001b[0;34m\u001b[0m\n\u001b[1;32m      4\u001b[0m \u001b[0mgrid\u001b[0m \u001b[0;34m=\u001b[0m \u001b[0mGridSearchCV\u001b[0m\u001b[0;34m(\u001b[0m\u001b[0mestimator\u001b[0m\u001b[0;34m=\u001b[0m\u001b[0mxgb\u001b[0m\u001b[0;34m,\u001b[0m \u001b[0mparam_grid\u001b[0m\u001b[0;34m=\u001b[0m\u001b[0mparam_grid\u001b[0m\u001b[0;34m,\u001b[0m \u001b[0mn_jobs\u001b[0m\u001b[0;34m=\u001b[0m\u001b[0;34m-\u001b[0m\u001b[0;36m1\u001b[0m\u001b[0;34m,\u001b[0m \u001b[0mcv\u001b[0m\u001b[0;34m=\u001b[0m\u001b[0mcv\u001b[0m\u001b[0;34m,\u001b[0m \u001b[0mscoring\u001b[0m\u001b[0;34m=\u001b[0m\u001b[0;34m'roc_auc'\u001b[0m\u001b[0;34m)\u001b[0m\u001b[0;34m\u001b[0m\u001b[0;34m\u001b[0m\u001b[0m\n\u001b[1;32m      5\u001b[0m \u001b[0;31m# execute the grid search\u001b[0m\u001b[0;34m\u001b[0m\u001b[0;34m\u001b[0m\u001b[0;34m\u001b[0m\u001b[0m\n\u001b[0;32m----> 6\u001b[0;31m \u001b[0mgrid_result\u001b[0m \u001b[0;34m=\u001b[0m \u001b[0mgrid\u001b[0m\u001b[0;34m.\u001b[0m\u001b[0mfit\u001b[0m\u001b[0;34m(\u001b[0m\u001b[0mX\u001b[0m\u001b[0;34m,\u001b[0m \u001b[0my\u001b[0m\u001b[0;34m)\u001b[0m\u001b[0;34m\u001b[0m\u001b[0;34m\u001b[0m\u001b[0m\n\u001b[0m",
            "\u001b[0;32m/usr/local/lib/python3.7/dist-packages/sklearn/model_selection/_search.py\u001b[0m in \u001b[0;36mfit\u001b[0;34m(self, X, y, groups, **fit_params)\u001b[0m\n\u001b[1;32m    889\u001b[0m                 \u001b[0;32mreturn\u001b[0m \u001b[0mresults\u001b[0m\u001b[0;34m\u001b[0m\u001b[0;34m\u001b[0m\u001b[0m\n\u001b[1;32m    890\u001b[0m \u001b[0;34m\u001b[0m\u001b[0m\n\u001b[0;32m--> 891\u001b[0;31m             \u001b[0mself\u001b[0m\u001b[0;34m.\u001b[0m\u001b[0m_run_search\u001b[0m\u001b[0;34m(\u001b[0m\u001b[0mevaluate_candidates\u001b[0m\u001b[0;34m)\u001b[0m\u001b[0;34m\u001b[0m\u001b[0;34m\u001b[0m\u001b[0m\n\u001b[0m\u001b[1;32m    892\u001b[0m \u001b[0;34m\u001b[0m\u001b[0m\n\u001b[1;32m    893\u001b[0m             \u001b[0;31m# multimetric is determined here because in the case of a callable\u001b[0m\u001b[0;34m\u001b[0m\u001b[0;34m\u001b[0m\u001b[0;34m\u001b[0m\u001b[0m\n",
            "\u001b[0;32m/usr/local/lib/python3.7/dist-packages/sklearn/model_selection/_search.py\u001b[0m in \u001b[0;36m_run_search\u001b[0;34m(self, evaluate_candidates)\u001b[0m\n\u001b[1;32m   1390\u001b[0m     \u001b[0;32mdef\u001b[0m \u001b[0m_run_search\u001b[0m\u001b[0;34m(\u001b[0m\u001b[0mself\u001b[0m\u001b[0;34m,\u001b[0m \u001b[0mevaluate_candidates\u001b[0m\u001b[0;34m)\u001b[0m\u001b[0;34m:\u001b[0m\u001b[0;34m\u001b[0m\u001b[0;34m\u001b[0m\u001b[0m\n\u001b[1;32m   1391\u001b[0m         \u001b[0;34m\"\"\"Search all candidates in param_grid\"\"\"\u001b[0m\u001b[0;34m\u001b[0m\u001b[0;34m\u001b[0m\u001b[0m\n\u001b[0;32m-> 1392\u001b[0;31m         \u001b[0mevaluate_candidates\u001b[0m\u001b[0;34m(\u001b[0m\u001b[0mParameterGrid\u001b[0m\u001b[0;34m(\u001b[0m\u001b[0mself\u001b[0m\u001b[0;34m.\u001b[0m\u001b[0mparam_grid\u001b[0m\u001b[0;34m)\u001b[0m\u001b[0;34m)\u001b[0m\u001b[0;34m\u001b[0m\u001b[0;34m\u001b[0m\u001b[0m\n\u001b[0m\u001b[1;32m   1393\u001b[0m \u001b[0;34m\u001b[0m\u001b[0m\n\u001b[1;32m   1394\u001b[0m \u001b[0;34m\u001b[0m\u001b[0m\n",
            "\u001b[0;32m/usr/local/lib/python3.7/dist-packages/sklearn/model_selection/_search.py\u001b[0m in \u001b[0;36mevaluate_candidates\u001b[0;34m(candidate_params, cv, more_results)\u001b[0m\n\u001b[1;32m    849\u001b[0m                     )\n\u001b[1;32m    850\u001b[0m                     for (cand_idx, parameters), (split_idx, (train, test)) in product(\n\u001b[0;32m--> 851\u001b[0;31m                         \u001b[0menumerate\u001b[0m\u001b[0;34m(\u001b[0m\u001b[0mcandidate_params\u001b[0m\u001b[0;34m)\u001b[0m\u001b[0;34m,\u001b[0m \u001b[0menumerate\u001b[0m\u001b[0;34m(\u001b[0m\u001b[0mcv\u001b[0m\u001b[0;34m.\u001b[0m\u001b[0msplit\u001b[0m\u001b[0;34m(\u001b[0m\u001b[0mX\u001b[0m\u001b[0;34m,\u001b[0m \u001b[0my\u001b[0m\u001b[0;34m,\u001b[0m \u001b[0mgroups\u001b[0m\u001b[0;34m)\u001b[0m\u001b[0;34m)\u001b[0m\u001b[0;34m\u001b[0m\u001b[0;34m\u001b[0m\u001b[0m\n\u001b[0m\u001b[1;32m    852\u001b[0m                     )\n\u001b[1;32m    853\u001b[0m                 )\n",
            "\u001b[0;32m/usr/local/lib/python3.7/dist-packages/joblib/parallel.py\u001b[0m in \u001b[0;36m__call__\u001b[0;34m(self, iterable)\u001b[0m\n\u001b[1;32m   1054\u001b[0m \u001b[0;34m\u001b[0m\u001b[0m\n\u001b[1;32m   1055\u001b[0m             \u001b[0;32mwith\u001b[0m \u001b[0mself\u001b[0m\u001b[0;34m.\u001b[0m\u001b[0m_backend\u001b[0m\u001b[0;34m.\u001b[0m\u001b[0mretrieval_context\u001b[0m\u001b[0;34m(\u001b[0m\u001b[0;34m)\u001b[0m\u001b[0;34m:\u001b[0m\u001b[0;34m\u001b[0m\u001b[0;34m\u001b[0m\u001b[0m\n\u001b[0;32m-> 1056\u001b[0;31m                 \u001b[0mself\u001b[0m\u001b[0;34m.\u001b[0m\u001b[0mretrieve\u001b[0m\u001b[0;34m(\u001b[0m\u001b[0;34m)\u001b[0m\u001b[0;34m\u001b[0m\u001b[0;34m\u001b[0m\u001b[0m\n\u001b[0m\u001b[1;32m   1057\u001b[0m             \u001b[0;31m# Make sure that we get a last message telling us we are done\u001b[0m\u001b[0;34m\u001b[0m\u001b[0;34m\u001b[0m\u001b[0;34m\u001b[0m\u001b[0m\n\u001b[1;32m   1058\u001b[0m             \u001b[0melapsed_time\u001b[0m \u001b[0;34m=\u001b[0m \u001b[0mtime\u001b[0m\u001b[0;34m.\u001b[0m\u001b[0mtime\u001b[0m\u001b[0;34m(\u001b[0m\u001b[0;34m)\u001b[0m \u001b[0;34m-\u001b[0m \u001b[0mself\u001b[0m\u001b[0;34m.\u001b[0m\u001b[0m_start_time\u001b[0m\u001b[0;34m\u001b[0m\u001b[0;34m\u001b[0m\u001b[0m\n",
            "\u001b[0;32m/usr/local/lib/python3.7/dist-packages/joblib/parallel.py\u001b[0m in \u001b[0;36mretrieve\u001b[0;34m(self)\u001b[0m\n\u001b[1;32m    933\u001b[0m             \u001b[0;32mtry\u001b[0m\u001b[0;34m:\u001b[0m\u001b[0;34m\u001b[0m\u001b[0;34m\u001b[0m\u001b[0m\n\u001b[1;32m    934\u001b[0m                 \u001b[0;32mif\u001b[0m \u001b[0mgetattr\u001b[0m\u001b[0;34m(\u001b[0m\u001b[0mself\u001b[0m\u001b[0;34m.\u001b[0m\u001b[0m_backend\u001b[0m\u001b[0;34m,\u001b[0m \u001b[0;34m'supports_timeout'\u001b[0m\u001b[0;34m,\u001b[0m \u001b[0;32mFalse\u001b[0m\u001b[0;34m)\u001b[0m\u001b[0;34m:\u001b[0m\u001b[0;34m\u001b[0m\u001b[0;34m\u001b[0m\u001b[0m\n\u001b[0;32m--> 935\u001b[0;31m                     \u001b[0mself\u001b[0m\u001b[0;34m.\u001b[0m\u001b[0m_output\u001b[0m\u001b[0;34m.\u001b[0m\u001b[0mextend\u001b[0m\u001b[0;34m(\u001b[0m\u001b[0mjob\u001b[0m\u001b[0;34m.\u001b[0m\u001b[0mget\u001b[0m\u001b[0;34m(\u001b[0m\u001b[0mtimeout\u001b[0m\u001b[0;34m=\u001b[0m\u001b[0mself\u001b[0m\u001b[0;34m.\u001b[0m\u001b[0mtimeout\u001b[0m\u001b[0;34m)\u001b[0m\u001b[0;34m)\u001b[0m\u001b[0;34m\u001b[0m\u001b[0;34m\u001b[0m\u001b[0m\n\u001b[0m\u001b[1;32m    936\u001b[0m                 \u001b[0;32melse\u001b[0m\u001b[0;34m:\u001b[0m\u001b[0;34m\u001b[0m\u001b[0;34m\u001b[0m\u001b[0m\n\u001b[1;32m    937\u001b[0m                     \u001b[0mself\u001b[0m\u001b[0;34m.\u001b[0m\u001b[0m_output\u001b[0m\u001b[0;34m.\u001b[0m\u001b[0mextend\u001b[0m\u001b[0;34m(\u001b[0m\u001b[0mjob\u001b[0m\u001b[0;34m.\u001b[0m\u001b[0mget\u001b[0m\u001b[0;34m(\u001b[0m\u001b[0;34m)\u001b[0m\u001b[0;34m)\u001b[0m\u001b[0;34m\u001b[0m\u001b[0;34m\u001b[0m\u001b[0m\n",
            "\u001b[0;32m/usr/local/lib/python3.7/dist-packages/joblib/_parallel_backends.py\u001b[0m in \u001b[0;36mwrap_future_result\u001b[0;34m(future, timeout)\u001b[0m\n\u001b[1;32m    540\u001b[0m         AsyncResults.get from multiprocessing.\"\"\"\n\u001b[1;32m    541\u001b[0m         \u001b[0;32mtry\u001b[0m\u001b[0;34m:\u001b[0m\u001b[0;34m\u001b[0m\u001b[0;34m\u001b[0m\u001b[0m\n\u001b[0;32m--> 542\u001b[0;31m             \u001b[0;32mreturn\u001b[0m \u001b[0mfuture\u001b[0m\u001b[0;34m.\u001b[0m\u001b[0mresult\u001b[0m\u001b[0;34m(\u001b[0m\u001b[0mtimeout\u001b[0m\u001b[0;34m=\u001b[0m\u001b[0mtimeout\u001b[0m\u001b[0;34m)\u001b[0m\u001b[0;34m\u001b[0m\u001b[0;34m\u001b[0m\u001b[0m\n\u001b[0m\u001b[1;32m    543\u001b[0m         \u001b[0;32mexcept\u001b[0m \u001b[0mCfTimeoutError\u001b[0m \u001b[0;32mas\u001b[0m \u001b[0me\u001b[0m\u001b[0;34m:\u001b[0m\u001b[0;34m\u001b[0m\u001b[0;34m\u001b[0m\u001b[0m\n\u001b[1;32m    544\u001b[0m             \u001b[0;32mraise\u001b[0m \u001b[0mTimeoutError\u001b[0m \u001b[0;32mfrom\u001b[0m \u001b[0me\u001b[0m\u001b[0;34m\u001b[0m\u001b[0;34m\u001b[0m\u001b[0m\n",
            "\u001b[0;32m/usr/lib/python3.7/concurrent/futures/_base.py\u001b[0m in \u001b[0;36mresult\u001b[0;34m(self, timeout)\u001b[0m\n\u001b[1;32m    428\u001b[0m                 \u001b[0;32mreturn\u001b[0m \u001b[0mself\u001b[0m\u001b[0;34m.\u001b[0m\u001b[0m__get_result\u001b[0m\u001b[0;34m(\u001b[0m\u001b[0;34m)\u001b[0m\u001b[0;34m\u001b[0m\u001b[0;34m\u001b[0m\u001b[0m\n\u001b[1;32m    429\u001b[0m \u001b[0;34m\u001b[0m\u001b[0m\n\u001b[0;32m--> 430\u001b[0;31m             \u001b[0mself\u001b[0m\u001b[0;34m.\u001b[0m\u001b[0m_condition\u001b[0m\u001b[0;34m.\u001b[0m\u001b[0mwait\u001b[0m\u001b[0;34m(\u001b[0m\u001b[0mtimeout\u001b[0m\u001b[0;34m)\u001b[0m\u001b[0;34m\u001b[0m\u001b[0;34m\u001b[0m\u001b[0m\n\u001b[0m\u001b[1;32m    431\u001b[0m \u001b[0;34m\u001b[0m\u001b[0m\n\u001b[1;32m    432\u001b[0m             \u001b[0;32mif\u001b[0m \u001b[0mself\u001b[0m\u001b[0;34m.\u001b[0m\u001b[0m_state\u001b[0m \u001b[0;32min\u001b[0m \u001b[0;34m[\u001b[0m\u001b[0mCANCELLED\u001b[0m\u001b[0;34m,\u001b[0m \u001b[0mCANCELLED_AND_NOTIFIED\u001b[0m\u001b[0;34m]\u001b[0m\u001b[0;34m:\u001b[0m\u001b[0;34m\u001b[0m\u001b[0;34m\u001b[0m\u001b[0m\n",
            "\u001b[0;32m/usr/lib/python3.7/threading.py\u001b[0m in \u001b[0;36mwait\u001b[0;34m(self, timeout)\u001b[0m\n\u001b[1;32m    294\u001b[0m         \u001b[0;32mtry\u001b[0m\u001b[0;34m:\u001b[0m    \u001b[0;31m# restore state no matter what (e.g., KeyboardInterrupt)\u001b[0m\u001b[0;34m\u001b[0m\u001b[0;34m\u001b[0m\u001b[0m\n\u001b[1;32m    295\u001b[0m             \u001b[0;32mif\u001b[0m \u001b[0mtimeout\u001b[0m \u001b[0;32mis\u001b[0m \u001b[0;32mNone\u001b[0m\u001b[0;34m:\u001b[0m\u001b[0;34m\u001b[0m\u001b[0;34m\u001b[0m\u001b[0m\n\u001b[0;32m--> 296\u001b[0;31m                 \u001b[0mwaiter\u001b[0m\u001b[0;34m.\u001b[0m\u001b[0macquire\u001b[0m\u001b[0;34m(\u001b[0m\u001b[0;34m)\u001b[0m\u001b[0;34m\u001b[0m\u001b[0;34m\u001b[0m\u001b[0m\n\u001b[0m\u001b[1;32m    297\u001b[0m                 \u001b[0mgotit\u001b[0m \u001b[0;34m=\u001b[0m \u001b[0;32mTrue\u001b[0m\u001b[0;34m\u001b[0m\u001b[0;34m\u001b[0m\u001b[0m\n\u001b[1;32m    298\u001b[0m             \u001b[0;32melse\u001b[0m\u001b[0;34m:\u001b[0m\u001b[0;34m\u001b[0m\u001b[0;34m\u001b[0m\u001b[0m\n",
            "\u001b[0;31mKeyboardInterrupt\u001b[0m: "
          ]
        }
      ],
      "source": [
        "# # define evaluation procedure\n",
        "# cv = RepeatedStratifiedKFold(n_splits=5, random_state=1)\n",
        "# # define grid search\n",
        "# grid = GridSearchCV(estimator=xgb, param_grid=param_grid, n_jobs=-1, cv=cv, scoring='roc_auc')\n",
        "# # execute the grid search\n",
        "# grid_result = grid.fit(X, y)"
      ]
    },
    {
      "cell_type": "code",
      "execution_count": null,
      "metadata": {
        "id": "mUlNzLj82koG"
      },
      "outputs": [],
      "source": [
        "# # report the best configuration\n",
        "# print(\"Best: %f using %s\" % (grid_result.best_score_, grid_result.best_params_))\n",
        "# # report all configurations\n",
        "# means = grid_result.cv_results_['mean_test_score']\n",
        "# stds = grid_result.cv_results_['std_test_score']\n",
        "# params = grid_result.cv_results_['params']\n",
        "# for mean, stdev, param in zip(means, stds, params):\n",
        "#     print(\"%f (%f) with: %r\" % (mean, stdev, param))"
      ]
    },
    {
      "cell_type": "code",
      "source": [
        "model_xgb = XGBClassifier(scale_pos_weight=10)"
      ],
      "metadata": {
        "id": "1dbENPdP9J_1"
      },
      "execution_count": null,
      "outputs": []
    },
    {
      "cell_type": "code",
      "execution_count": null,
      "metadata": {
        "id": "koETURrOirRw"
      },
      "outputs": [],
      "source": [
        "model_xgb.fit(X_train,y_train)\n",
        "train_pred=model_xgb.predict(X_train)\n",
        "y_pred_xgb=model_xgb.predict(X_test)"
      ]
    },
    {
      "cell_type": "code",
      "execution_count": null,
      "metadata": {
        "colab": {
          "base_uri": "https://localhost:8080/",
          "height": 356
        },
        "id": "2-E1tzJPHpt1",
        "outputId": "9427765a-9979-42a8-cd04-d214ab14fefd"
      },
      "outputs": [
        {
          "output_type": "stream",
          "name": "stdout",
          "text": [
            "Model accuracy score for Decision Tree Classifier: \n",
            "Train set Accuracy:  0.7197896003382004\n",
            "Test set Accuracy:  0.7192169487667268\n",
            "Senstivity:  0.608257804632427\n",
            "F1 score :  0.25912737569179284\n"
          ]
        },
        {
          "output_type": "execute_result",
          "data": {
            "text/plain": [
              "                                Model type  Train Acc  Test Acc  Senstivity  \\\n",
              "0              Decision tree without SMOTE   0.841895  0.842593    0.360322   \n",
              "1                 Decision tree with SMOTE   0.668808  0.669463    0.620544   \n",
              "2  Decision tree with Random Over Sampling   0.652580  0.654586    0.663847   \n",
              "3              Random forest without SMOTE   0.864269  0.863828    0.317825   \n",
              "4                 Random forest with SMOTE   0.692169  0.694470    0.629809   \n",
              "5                        Gauss Naive Bayes   0.274784  0.277450    0.907975   \n",
              "6                                 XG Boost   0.719790  0.719217    0.608258   \n",
              "\n",
              "   f1 score  \n",
              "0  0.269854  \n",
              "1  0.232607  \n",
              "2  0.236816  \n",
              "3  0.273697  \n",
              "4  0.249711  \n",
              "5  0.171146  \n",
              "6  0.259127  "
            ],
            "text/html": [
              "\n",
              "  <div id=\"df-f8048115-ce3e-42c3-99fc-7bb01e5f35a9\">\n",
              "    <div class=\"colab-df-container\">\n",
              "      <div>\n",
              "<style scoped>\n",
              "    .dataframe tbody tr th:only-of-type {\n",
              "        vertical-align: middle;\n",
              "    }\n",
              "\n",
              "    .dataframe tbody tr th {\n",
              "        vertical-align: top;\n",
              "    }\n",
              "\n",
              "    .dataframe thead th {\n",
              "        text-align: right;\n",
              "    }\n",
              "</style>\n",
              "<table border=\"1\" class=\"dataframe\">\n",
              "  <thead>\n",
              "    <tr style=\"text-align: right;\">\n",
              "      <th></th>\n",
              "      <th>Model type</th>\n",
              "      <th>Train Acc</th>\n",
              "      <th>Test Acc</th>\n",
              "      <th>Senstivity</th>\n",
              "      <th>f1 score</th>\n",
              "    </tr>\n",
              "  </thead>\n",
              "  <tbody>\n",
              "    <tr>\n",
              "      <th>0</th>\n",
              "      <td>Decision tree without SMOTE</td>\n",
              "      <td>0.841895</td>\n",
              "      <td>0.842593</td>\n",
              "      <td>0.360322</td>\n",
              "      <td>0.269854</td>\n",
              "    </tr>\n",
              "    <tr>\n",
              "      <th>1</th>\n",
              "      <td>Decision tree with SMOTE</td>\n",
              "      <td>0.668808</td>\n",
              "      <td>0.669463</td>\n",
              "      <td>0.620544</td>\n",
              "      <td>0.232607</td>\n",
              "    </tr>\n",
              "    <tr>\n",
              "      <th>2</th>\n",
              "      <td>Decision tree with Random Over Sampling</td>\n",
              "      <td>0.652580</td>\n",
              "      <td>0.654586</td>\n",
              "      <td>0.663847</td>\n",
              "      <td>0.236816</td>\n",
              "    </tr>\n",
              "    <tr>\n",
              "      <th>3</th>\n",
              "      <td>Random forest without SMOTE</td>\n",
              "      <td>0.864269</td>\n",
              "      <td>0.863828</td>\n",
              "      <td>0.317825</td>\n",
              "      <td>0.273697</td>\n",
              "    </tr>\n",
              "    <tr>\n",
              "      <th>4</th>\n",
              "      <td>Random forest with SMOTE</td>\n",
              "      <td>0.692169</td>\n",
              "      <td>0.694470</td>\n",
              "      <td>0.629809</td>\n",
              "      <td>0.249711</td>\n",
              "    </tr>\n",
              "    <tr>\n",
              "      <th>5</th>\n",
              "      <td>Gauss Naive Bayes</td>\n",
              "      <td>0.274784</td>\n",
              "      <td>0.277450</td>\n",
              "      <td>0.907975</td>\n",
              "      <td>0.171146</td>\n",
              "    </tr>\n",
              "    <tr>\n",
              "      <th>6</th>\n",
              "      <td>XG Boost</td>\n",
              "      <td>0.719790</td>\n",
              "      <td>0.719217</td>\n",
              "      <td>0.608258</td>\n",
              "      <td>0.259127</td>\n",
              "    </tr>\n",
              "  </tbody>\n",
              "</table>\n",
              "</div>\n",
              "      <button class=\"colab-df-convert\" onclick=\"convertToInteractive('df-f8048115-ce3e-42c3-99fc-7bb01e5f35a9')\"\n",
              "              title=\"Convert this dataframe to an interactive table.\"\n",
              "              style=\"display:none;\">\n",
              "        \n",
              "  <svg xmlns=\"http://www.w3.org/2000/svg\" height=\"24px\"viewBox=\"0 0 24 24\"\n",
              "       width=\"24px\">\n",
              "    <path d=\"M0 0h24v24H0V0z\" fill=\"none\"/>\n",
              "    <path d=\"M18.56 5.44l.94 2.06.94-2.06 2.06-.94-2.06-.94-.94-2.06-.94 2.06-2.06.94zm-11 1L8.5 8.5l.94-2.06 2.06-.94-2.06-.94L8.5 2.5l-.94 2.06-2.06.94zm10 10l.94 2.06.94-2.06 2.06-.94-2.06-.94-.94-2.06-.94 2.06-2.06.94z\"/><path d=\"M17.41 7.96l-1.37-1.37c-.4-.4-.92-.59-1.43-.59-.52 0-1.04.2-1.43.59L10.3 9.45l-7.72 7.72c-.78.78-.78 2.05 0 2.83L4 21.41c.39.39.9.59 1.41.59.51 0 1.02-.2 1.41-.59l7.78-7.78 2.81-2.81c.8-.78.8-2.07 0-2.86zM5.41 20L4 18.59l7.72-7.72 1.47 1.35L5.41 20z\"/>\n",
              "  </svg>\n",
              "      </button>\n",
              "      \n",
              "  <style>\n",
              "    .colab-df-container {\n",
              "      display:flex;\n",
              "      flex-wrap:wrap;\n",
              "      gap: 12px;\n",
              "    }\n",
              "\n",
              "    .colab-df-convert {\n",
              "      background-color: #E8F0FE;\n",
              "      border: none;\n",
              "      border-radius: 50%;\n",
              "      cursor: pointer;\n",
              "      display: none;\n",
              "      fill: #1967D2;\n",
              "      height: 32px;\n",
              "      padding: 0 0 0 0;\n",
              "      width: 32px;\n",
              "    }\n",
              "\n",
              "    .colab-df-convert:hover {\n",
              "      background-color: #E2EBFA;\n",
              "      box-shadow: 0px 1px 2px rgba(60, 64, 67, 0.3), 0px 1px 3px 1px rgba(60, 64, 67, 0.15);\n",
              "      fill: #174EA6;\n",
              "    }\n",
              "\n",
              "    [theme=dark] .colab-df-convert {\n",
              "      background-color: #3B4455;\n",
              "      fill: #D2E3FC;\n",
              "    }\n",
              "\n",
              "    [theme=dark] .colab-df-convert:hover {\n",
              "      background-color: #434B5C;\n",
              "      box-shadow: 0px 1px 3px 1px rgba(0, 0, 0, 0.15);\n",
              "      filter: drop-shadow(0px 1px 2px rgba(0, 0, 0, 0.3));\n",
              "      fill: #FFFFFF;\n",
              "    }\n",
              "  </style>\n",
              "\n",
              "      <script>\n",
              "        const buttonEl =\n",
              "          document.querySelector('#df-f8048115-ce3e-42c3-99fc-7bb01e5f35a9 button.colab-df-convert');\n",
              "        buttonEl.style.display =\n",
              "          google.colab.kernel.accessAllowed ? 'block' : 'none';\n",
              "\n",
              "        async function convertToInteractive(key) {\n",
              "          const element = document.querySelector('#df-f8048115-ce3e-42c3-99fc-7bb01e5f35a9');\n",
              "          const dataTable =\n",
              "            await google.colab.kernel.invokeFunction('convertToInteractive',\n",
              "                                                     [key], {});\n",
              "          if (!dataTable) return;\n",
              "\n",
              "          const docLinkHtml = 'Like what you see? Visit the ' +\n",
              "            '<a target=\"_blank\" href=https://colab.research.google.com/notebooks/data_table.ipynb>data table notebook</a>'\n",
              "            + ' to learn more about interactive tables.';\n",
              "          element.innerHTML = '';\n",
              "          dataTable['output_type'] = 'display_data';\n",
              "          await google.colab.output.renderOutput(dataTable, element);\n",
              "          const docLink = document.createElement('div');\n",
              "          docLink.innerHTML = docLinkHtml;\n",
              "          element.appendChild(docLink);\n",
              "        }\n",
              "      </script>\n",
              "    </div>\n",
              "  </div>\n",
              "  "
            ]
          },
          "metadata": {},
          "execution_count": 123
        }
      ],
      "source": [
        "model_diag(train_pred,y_pred_xgb,\"XG Boost\")"
      ]
    },
    {
      "cell_type": "code",
      "execution_count": null,
      "metadata": {
        "colab": {
          "base_uri": "https://localhost:8080/",
          "height": 431
        },
        "id": "OnsYaLMFoYH8",
        "outputId": "6ca1664e-f848-4a94-dfca-62463b5041ad"
      },
      "outputs": [
        {
          "output_type": "stream",
          "name": "stderr",
          "text": [
            "/usr/local/lib/python3.7/dist-packages/sklearn/utils/deprecation.py:87: FutureWarning: Function plot_confusion_matrix is deprecated; Function `plot_confusion_matrix` is deprecated in 1.0 and will be removed in 1.2. Use one of the class methods: ConfusionMatrixDisplay.from_predictions or ConfusionMatrixDisplay.from_estimator.\n",
            "  warnings.warn(msg, category=FutureWarning)\n"
          ]
        },
        {
          "output_type": "execute_result",
          "data": {
            "text/plain": [
              "<sklearn.metrics._plot.confusion_matrix.ConfusionMatrixDisplay at 0x7f68cd2f64d0>"
            ]
          },
          "metadata": {},
          "execution_count": 124
        },
        {
          "output_type": "display_data",
          "data": {
            "text/plain": [
              "<Figure size 432x432 with 2 Axes>"
            ],
            "image/png": "[encoded data removed]"
          },
          "metadata": {
            "needs_background": "light"
          }
        }
      ],
      "source": [
        "plot_confusion_matrix(model_xgb,X_test,y_test)"
      ]
    },
    {
      "cell_type": "code",
      "execution_count": null,
      "metadata": {
        "colab": {
          "base_uri": "https://localhost:8080/",
          "height": 405
        },
        "id": "jDx3zJQuoYH9",
        "outputId": "124f369a-655d-4e93-e8bb-29fa3178557c"
      },
      "outputs": [
        {
          "output_type": "execute_result",
          "data": {
            "text/plain": [
              "Text(0.5, 0, 'False Positive Rate')"
            ]
          },
          "metadata": {},
          "execution_count": 125
        },
        {
          "output_type": "display_data",
          "data": {
            "text/plain": [
              "<Figure size 432x432 with 1 Axes>"
            ],
            "image/png": "[encoded data removed]"
          },
          "metadata": {
            "needs_background": "light"
          }
        }
      ],
      "source": [
        "#ROC curve\n",
        "ypred_prob=model_xgb.predict_proba(X_test)[::,1]\n",
        "fpr,tpr,_=metrics.roc_curve(y_test,ypred_prob)\n",
        "plt.plot(fpr,tpr)\n",
        "plt.ylabel('True Positive Rate')\n",
        "plt.xlabel('False Positive Rate')"
      ]
    },
    {
      "cell_type": "code",
      "execution_count": null,
      "metadata": {
        "colab": {
          "base_uri": "https://localhost:8080/"
        },
        "id": "WFrISGzjoYH9",
        "outputId": "68b4cd77-8b48-4b60-d9ed-6a6e66687eec"
      },
      "outputs": [
        {
          "output_type": "execute_result",
          "data": {
            "text/plain": [
              "0.7306830932306684"
            ]
          },
          "metadata": {},
          "execution_count": 126
        }
      ],
      "source": [
        "auc=metrics.roc_auc_score(y_test,ypred_prob)\n",
        "auc"
      ]
    },
    {
      "cell_type": "code",
      "execution_count": null,
      "metadata": {
        "id": "9wTzyzc8pYkx"
      },
      "outputs": [],
      "source": [
        ""
      ]
    },
    {
      "cell_type": "markdown",
      "metadata": {
        "id": "azFEA3mOhXYw"
      },
      "source": [
        "# **SVM**"
      ]
    },
    {
      "cell_type": "code",
      "execution_count": null,
      "metadata": {
        "colab": {
          "base_uri": "https://localhost:8080/"
        },
        "id": "8ZSDSEd3jhNH",
        "outputId": "6a1b9a2c-889d-4942-d8a2-baa17a1684d5"
      },
      "outputs": [
        {
          "output_type": "execute_result",
          "data": {
            "text/plain": [
              "((246008, 16), (61503, 16))"
            ]
          },
          "metadata": {},
          "execution_count": 127
        }
      ],
      "source": [
        "X_train, X_test, y_train, y_test = train_test_split(X_final, y, test_size = 0.2, random_state = 44,stratify=y)\n",
        "X_train.shape, X_test.shape"
      ]
    },
    {
      "cell_type": "code",
      "execution_count": null,
      "metadata": {
        "id": "72w4isJkhdpd"
      },
      "outputs": [],
      "source": [
        "from sklearn import svm\n",
        "svm=svm.SVC()\n",
        "svm.fit(X_train,y_train)\n",
        "ypred_train_svm=svm.predict(X_train)\n",
        "ypred_svm=svm.predict(X_test)"
      ]
    },
    {
      "cell_type": "code",
      "execution_count": null,
      "metadata": {
        "id": "9etMSDNWhdV8"
      },
      "outputs": [],
      "source": [
        "model_diag(ypred_train_svm,ypred_svm,\"SVM\")"
      ]
    },
    {
      "cell_type": "code",
      "execution_count": null,
      "metadata": {
        "id": "D_3PIbhKhdM8"
      },
      "outputs": [],
      "source": [
        "plot_confusion_matrix(svm,X_test,y_test)"
      ]
    },
    {
      "cell_type": "code",
      "execution_count": null,
      "metadata": {
        "id": "64JYOaPkPnV_"
      },
      "outputs": [],
      "source": [
        "# from sklearn.model_selection import GridSearchCV\n",
        " \n",
        "# # defining parameter range\n",
        "\n",
        "# param_grid = {'C': [0.1, 1, 10], \n",
        "\n",
        "#               'gamma': [1, 0.1, 0.01, 0.001, 0.0001],\n",
        "\n",
        "#               'kernel': ['rbf']} \n",
        " \n",
        "\n",
        "# grid = GridSearchCV(svm, param_grid, refit = True, verbose = 3)\n",
        " \n",
        "# # fitting the model for grid search\n",
        "# grid.fit(X_train_under, y_train_under)"
      ]
    },
    {
      "cell_type": "code",
      "execution_count": null,
      "metadata": {
        "id": "PoNY-VTLR1KQ"
      },
      "outputs": [],
      "source": [
        "\n",
        "# # print best parameter after tuning\n",
        "\n",
        "# print(grid.best_params_)\n",
        " \n",
        "# # print how our model looks after hyper-parameter tuning\n",
        "\n",
        "# print(grid.best_estimator_)"
      ]
    },
    {
      "cell_type": "code",
      "execution_count": null,
      "metadata": {
        "id": "OkeBaG_HSMcM"
      },
      "outputs": [],
      "source": [
        "# grid_predictions = grid.predict(X_test)\n",
        " \n",
        "# # print classification report\n",
        "# model_diag(grid_predictions,\"Grid search CV- SVM\")"
      ]
    },
    {
      "cell_type": "code",
      "execution_count": null,
      "metadata": {
        "colab": {
          "base_uri": "https://localhost:8080/",
          "height": 183
        },
        "id": "6wwmPy6BY7Yb",
        "outputId": "6f49243f-9ee8-426c-b9ba-1be646b2133f"
      },
      "outputs": [
        {
          "output_type": "error",
          "ename": "NameError",
          "evalue": "ignored",
          "traceback": [
            "\u001b[0;31m---------------------------------------------------------------------------\u001b[0m",
            "\u001b[0;31mNameError\u001b[0m                                 Traceback (most recent call last)",
            "\u001b[0;32m<ipython-input-1-ff318c82b5ca>\u001b[0m in \u001b[0;36m<module>\u001b[0;34m\u001b[0m\n\u001b[0;32m----> 1\u001b[0;31m \u001b[0mplot\u001b[0m\u001b[0;34m=\u001b[0m\u001b[0mpd\u001b[0m\u001b[0;34m.\u001b[0m\u001b[0mmelt\u001b[0m\u001b[0;34m(\u001b[0m\u001b[0msummary\u001b[0m\u001b[0;34m,\u001b[0m\u001b[0mid_vars\u001b[0m\u001b[0;34m=\u001b[0m\u001b[0;34m[\u001b[0m\u001b[0;34m\"Model type\"\u001b[0m\u001b[0;34m]\u001b[0m\u001b[0;34m,\u001b[0m\u001b[0mvalue_vars\u001b[0m\u001b[0;34m=\u001b[0m\u001b[0;34m[\u001b[0m\u001b[0;34m\"Test Acc\"\u001b[0m\u001b[0;34m,\u001b[0m\u001b[0;34m\"Senstivity\"\u001b[0m\u001b[0;34m,\u001b[0m\u001b[0;34m\"f1 score\"\u001b[0m\u001b[0;34m]\u001b[0m\u001b[0;34m,\u001b[0m\u001b[0mvalue_name\u001b[0m\u001b[0;34m=\u001b[0m\u001b[0;34m\"metrics\"\u001b[0m\u001b[0;34m)\u001b[0m\u001b[0;34m\u001b[0m\u001b[0;34m\u001b[0m\u001b[0m\n\u001b[0m\u001b[1;32m      2\u001b[0m \u001b[0mplot\u001b[0m\u001b[0;34m\u001b[0m\u001b[0;34m\u001b[0m\u001b[0m\n",
            "\u001b[0;31mNameError\u001b[0m: name 'pd' is not defined"
          ]
        }
      ],
      "source": [
        "plot=pd.melt(summary,id_vars=[\"Model type\"],value_vars=[\"Test Acc\",\"Senstivity\",\"f1 score\"],value_name=\"metrics\")\n",
        "plot"
      ]
    },
    {
      "cell_type": "code",
      "execution_count": null,
      "metadata": {
        "id": "Ap3N2jQJY2Li"
      },
      "outputs": [],
      "source": [
        "sns.set_style(\"darkgrid\")\n",
        "g=sns.catplot(x=\"Model type\",y=\"metrics\",hue=\"variable\",kind=\"bar\",data=plot,height=5,aspect=1.8)\n",
        "plt.xticks(rotation=90)\n",
        "ax = g.facet_axis(0, 0)\n",
        "\n",
        "for p in ax.patches:\n",
        "    ax.text(p.get_x()+0.02, \n",
        "            p.get_height()+0.016, \n",
        "           '{0:.5f}'.format(p.get_height()),   #Used to format it K representation\n",
        "            color='black', \n",
        "            rotation='vertical', \n",
        "            size='large')"
      ]
    },
    {
      "cell_type": "code",
      "execution_count": null,
      "metadata": {
        "id": "pOaF25ypdgGn"
      },
      "outputs": [],
      "source": [
        "##Thus,choosing Random forest with Random undersampling as my predictive model."
      ]
    }
  ],
  "metadata": {
    "colab": {
      "collapsed_sections": [],
      "name": "Credit Card Continue 2.ipynb",
      "provenance": [],
      "mount_file_id": "1ggriPMchRTm_rv-ilZ_M2IYjHzyVttsG",
      "authorship_tag": "ABX9TyPJqUFZtPUlyi7QzQ2pll7f",
      "include_colab_link": true
    },
    "kernelspec": {
      "display_name": "Python 3",
      "name": "python3"
    },
    "language_info": {
      "name": "python"
    }
  },
  "nbformat": 4,
  "nbformat_minor": 0
}